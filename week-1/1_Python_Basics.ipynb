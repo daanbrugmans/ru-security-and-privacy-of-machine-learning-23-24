{
 "cells": [
  {
   "cell_type": "markdown",
   "id": "24c51389",
   "metadata": {},
   "source": [
    "## Python Basics\n",
    "\n",
    "[Python Basics](https://colab.research.google.com/github/cs231n/cs231n.github.io/blob/master/python-colab.ipynb)\n",
    "\n",
    "In case you have never programmed with Python before, we added a link to another google colab notebook that includes a Python Tutorial written by Justin Johnson, Volodymyr Kuleshov, Isaac Caswell and Kevin Zakka for the Standford CS class on Convolutional Neural Networks for Visual Recognition. \n",
    "\n",
    "This tutorial starts with the basics and also shortly explains the Python packages Numpy and Matplotlib which are important to know when when working on a machine learning project with Python.\n",
    "\n",
    "It misses some important information on Python which is on indentation and comments. We included those topics below. Also some aspects of Python such as if..else and different loops are only mentioned inside code snippets. So some more information can be found in this notebook.\n",
    "\n",
    "At the end of this notebook you will find some exercises to test your Python knowledge. This notebook together with the links we provide should contain all the information you need to finish those exercises.\n",
    "\n",
    "**Important**: You can run the code inside the code snippets by selecting them and then by clicking on the `Run` button in the top menu. You can also select the code snippet/block and then press Ctrl + Enter."
   ]
  },
  {
   "cell_type": "markdown",
   "id": "4242e170",
   "metadata": {},
   "source": [
    "### Indentation\n",
    "\n",
    "[Python Syntax](https://www.w3schools.com/python/python_syntax.asp)\n",
    "\n",
    "With Python, indentation is a very important part of the syntax. This refers to the spaces at the beginning of a code line. Where other languages often use curly brackets to indicate a block of code, Python uses indentation.\n",
    "\n",
    "It is common to use four spaces to indicate a block of code, but this is up to you. It should at least be one.\n",
    "You should also use the same number of spaces in the same block of code."
   ]
  },
  {
   "cell_type": "markdown",
   "id": "18e2d583",
   "metadata": {},
   "source": [
    "### Comments\n",
    "\n",
    "[Python Comments](https://www.w3schools.com/python/python_comments.asp)\n",
    "\n",
    "You can write a comment using `#` at the start of the line. This is for a single line comment.\n",
    "\n",
    "To write multiline comments you can use `'''`  both at the start and end of your comment to define a multiline string. Note: it is not intended to be a multiline comment but as Python will ignore string literals that are not assigned to a variable, you can add your comment in here. Python will ignore this code as long as you do not assign it to a variable.\n"
   ]
  },
  {
   "cell_type": "markdown",
   "id": "965800cb",
   "metadata": {},
   "source": [
    "### If...Else\n",
    "\n",
    "[Python If .. Else](https://www.w3schools.com/python/python_conditions.asp)\n",
    "\n",
    "The code snippets below show you how you can write an `if` statement. Again, remember that indentation is important in Python. You will get an error if you write an `if` statement without indentation afterwards.\n",
    "\n",
    "You can add another condition check by adding `elif`, which is short for else if. Or if you want alternative code to be executed if the preceding conditions are not met you can add `else`."
   ]
  },
  {
   "cell_type": "code",
   "execution_count": null,
   "id": "520c57d3",
   "metadata": {},
   "outputs": [],
   "source": [
    "a = 33\n",
    "b = 200\n",
    "if b > a:\n",
    "  print(\"b is greater than a\")"
   ]
  },
  {
   "cell_type": "code",
   "execution_count": null,
   "id": "956ad052",
   "metadata": {},
   "outputs": [],
   "source": [
    "a = 33\n",
    "b = 200\n",
    "if b > a:\n",
    "print(\"b is greater than a\")"
   ]
  },
  {
   "cell_type": "code",
   "execution_count": null,
   "id": "dddea95f",
   "metadata": {},
   "outputs": [],
   "source": [
    "a = 33\n",
    "b = 33\n",
    "if b > a:\n",
    "  print(\"b is greater than a\")\n",
    "elif a == b:\n",
    "  print(\"a and b are equal\")"
   ]
  },
  {
   "cell_type": "code",
   "execution_count": null,
   "id": "d8be89c5",
   "metadata": {},
   "outputs": [],
   "source": [
    "a = 200\n",
    "b = 33\n",
    "if b > a:\n",
    "  print(\"b is greater than a\")\n",
    "elif a == b:\n",
    "  print(\"a and b are equal\")\n",
    "else:\n",
    "  print(\"a is greater than b\")"
   ]
  },
  {
   "cell_type": "code",
   "execution_count": null,
   "id": "3bfcc9fe",
   "metadata": {},
   "outputs": [],
   "source": [
    "a = 200\n",
    "b = 33\n",
    "if b > a:\n",
    "  print(\"b is greater than a\")\n",
    "else:\n",
    "  print(\"b is not greater than a\")"
   ]
  },
  {
   "cell_type": "markdown",
   "id": "922bf0a8",
   "metadata": {},
   "source": [
    "Short hand `if` and `if .. else` "
   ]
  },
  {
   "cell_type": "code",
   "execution_count": null,
   "id": "fc6782c3",
   "metadata": {},
   "outputs": [],
   "source": [
    "if a > b: print(\"a is greater than b\")"
   ]
  },
  {
   "cell_type": "code",
   "execution_count": null,
   "id": "08f39757",
   "metadata": {},
   "outputs": [],
   "source": [
    "a = 2\n",
    "b = 330\n",
    "print(\"A\") if a > b else print(\"B\") "
   ]
  },
  {
   "cell_type": "code",
   "execution_count": null,
   "id": "2f3431d4",
   "metadata": {},
   "outputs": [],
   "source": [
    "a = 330\n",
    "b = 330\n",
    "print(\"A\") if a > b else print(\"=\") if a == b else print(\"B\") "
   ]
  },
  {
   "cell_type": "code",
   "execution_count": null,
   "id": "5df7676f",
   "metadata": {},
   "outputs": [],
   "source": [
    "a = 200\n",
    "b = 33\n",
    "c = 500\n",
    "if a > b and c > a:\n",
    "  print(\"Both conditions are True\")"
   ]
  },
  {
   "cell_type": "code",
   "execution_count": null,
   "id": "f584923e",
   "metadata": {},
   "outputs": [],
   "source": [
    "a = 200\n",
    "b = 33\n",
    "c = 500\n",
    "if a > b or a > c:\n",
    "  print(\"At least one of the conditions is True\")"
   ]
  },
  {
   "cell_type": "markdown",
   "id": "d7cccb28",
   "metadata": {},
   "source": [
    "Nested `if`, where you have an `if` statement (or multiple) inside an `if` statement:"
   ]
  },
  {
   "cell_type": "code",
   "execution_count": null,
   "id": "26ada85b",
   "metadata": {},
   "outputs": [],
   "source": [
    "x = 41\n",
    "\n",
    "if x > 10:\n",
    "  print(\"Above ten,\")\n",
    "  if x > 20:\n",
    "    print(\"and also above 20!\")\n",
    "  else:\n",
    "    print(\"but not above 20.\") "
   ]
  },
  {
   "cell_type": "markdown",
   "id": "c62bd836",
   "metadata": {},
   "source": [
    "Finally, an `if` statement cannot be empty, but you can add `pass` to execute the code without errors and handle the `if` statement:"
   ]
  },
  {
   "cell_type": "code",
   "execution_count": null,
   "id": "3ac1bbc2",
   "metadata": {},
   "outputs": [],
   "source": [
    "a = 33\n",
    "b = 200\n",
    "\n",
    "if b > a:\n",
    "  pass\n",
    "\n",
    "print(\"I passed the previous if statement\")"
   ]
  },
  {
   "cell_type": "markdown",
   "id": "14054832",
   "metadata": {},
   "source": [
    "### While Loops\n",
    "\n",
    "[Python Loops](https://www.w3schools.com/python/python_while_loops.asp)\n",
    "\n",
    "The code snippets below show you how to construct a `while` loop in Python. With such a loop you can execute a set of statements as long as a condition is true. Remember to include statements inside your while loop that eventually make this condition false, otherwise your loop will continue forever. For example, in the code snippet below, it is important that the `i` variable is incremented otherwise the code would get stuck in this loop. Moreover, the `while` loop requires relevant variables to be defined beforehand."
   ]
  },
  {
   "cell_type": "code",
   "execution_count": null,
   "id": "e7f3af12",
   "metadata": {},
   "outputs": [],
   "source": [
    "i = 1\n",
    "while i < 6:\n",
    "  print(i)\n",
    "  i += 1"
   ]
  },
  {
   "cell_type": "markdown",
   "id": "de786a71",
   "metadata": {},
   "source": [
    "There is one way to stop the loop even while the condition is still true, that is by using the `break` statement:"
   ]
  },
  {
   "cell_type": "code",
   "execution_count": null,
   "id": "7b14490b",
   "metadata": {},
   "outputs": [],
   "source": [
    "i = 1\n",
    "while i < 6:\n",
    "  print(i)\n",
    "  if i == 3:\n",
    "    break\n",
    "  i += 1 "
   ]
  },
  {
   "cell_type": "markdown",
   "id": "1f25d74b",
   "metadata": {},
   "source": [
    "Somewhat similar, you can use the `continue` statement to stop the current iteration and continue with the next:"
   ]
  },
  {
   "cell_type": "code",
   "execution_count": null,
   "id": "5b047ebf",
   "metadata": {},
   "outputs": [],
   "source": [
    "i = 0\n",
    "while i < 6:\n",
    "  i += 1\n",
    "  if i == 3:\n",
    "    continue\n",
    "  print(i)"
   ]
  },
  {
   "cell_type": "markdown",
   "id": "749eedb7",
   "metadata": {},
   "source": [
    "Even with a `while` statement you can add an `else` statement to the end to execute a block of code when the loop condition is no longer true:"
   ]
  },
  {
   "cell_type": "code",
   "execution_count": null,
   "id": "9a35df03",
   "metadata": {},
   "outputs": [],
   "source": [
    "i = 1\n",
    "while i < 6:\n",
    "  print(i)\n",
    "  i += 1\n",
    "else:\n",
    "  print(\"i is no longer less than 6\")"
   ]
  },
  {
   "cell_type": "markdown",
   "id": "e6af993d",
   "metadata": {},
   "source": [
    "### For Loops\n",
    "\n",
    "[Python For Loops](https://www.w3schools.com/python/python_for_loops.asp)\n",
    "\n",
    "The code snippets below include examples on how to use a `for` loop in Python. With such a loop you can iterate over either a list, tuple, dictionary, set or string. With a `for` loop you do not need to set an indexing variable beforehand. "
   ]
  },
  {
   "cell_type": "code",
   "execution_count": null,
   "id": "7886ec34",
   "metadata": {},
   "outputs": [],
   "source": [
    "fruits = [\"apple\", \"banana\", \"cherry\"]\n",
    "for x in fruits:\n",
    "  print(x)"
   ]
  },
  {
   "cell_type": "markdown",
   "id": "e8c83f89",
   "metadata": {},
   "source": [
    "As mentioned, you can also iterate over strings as they contain a sequence of characters."
   ]
  },
  {
   "cell_type": "code",
   "execution_count": null,
   "id": "ffcb7a2b",
   "metadata": {},
   "outputs": [],
   "source": [
    "for x in \"banana\":\n",
    "  print(x)"
   ]
  },
  {
   "cell_type": "markdown",
   "id": "91f6249b",
   "metadata": {},
   "source": [
    "To stop a `for` loop before it has looped through all items you can use the `break` statement."
   ]
  },
  {
   "cell_type": "code",
   "execution_count": null,
   "id": "3485c438",
   "metadata": {},
   "outputs": [],
   "source": [
    "fruits = [\"apple\", \"banana\", \"cherry\"]\n",
    "for x in fruits:\n",
    "  print(x)\n",
    "  if x == \"banana\":\n",
    "    break"
   ]
  },
  {
   "cell_type": "code",
   "execution_count": null,
   "id": "34aa341f",
   "metadata": {},
   "outputs": [],
   "source": [
    "fruits = [\"apple\", \"banana\", \"cherry\"]\n",
    "for x in fruits:\n",
    "  if x == \"banana\":\n",
    "    break\n",
    "  print(x)"
   ]
  },
  {
   "cell_type": "markdown",
   "id": "32b82c16",
   "metadata": {},
   "source": [
    "You can also use the `continue` statement to just stop the current iteration and continue with the next."
   ]
  },
  {
   "cell_type": "code",
   "execution_count": null,
   "id": "adac1619",
   "metadata": {},
   "outputs": [],
   "source": [
    "fruits = [\"apple\", \"banana\", \"cherry\"]\n",
    "for x in fruits:\n",
    "  if x == \"banana\":\n",
    "    continue\n",
    "  print(x)"
   ]
  },
  {
   "cell_type": "markdown",
   "id": "42ce317e",
   "metadata": {},
   "source": [
    "With the `for` loop you can also use the `range()` function to loop through a set of code for a specified number of times. \n",
    "\n",
    "the `range(start,stop,step)` function takes three arguments. Here the start and step parameters are optional. Default start is set to 0 if not specified and default step is set to 1 if not specified. What it does is return a sequence of numbers starting from the start value (0 by default) and incrementing by the step value (1 by default) to end at the end value minus 1.\n",
    "\n",
    "So if you use `range(6)` it will start at 0 and increment by 1 up and until the value 5.\n",
    "\n",
    "Now you can use this to execute a piece of code for x number of times or you could provide the length of the sequence you want to iterate over and use the numbers in that `range()` return as indices for the sequence you are looping over."
   ]
  },
  {
   "cell_type": "code",
   "execution_count": null,
   "id": "25808685",
   "metadata": {},
   "outputs": [],
   "source": [
    "for x in range(6):\n",
    "  print(x)"
   ]
  },
  {
   "cell_type": "code",
   "execution_count": null,
   "id": "0091b98f",
   "metadata": {},
   "outputs": [],
   "source": [
    "fruits = [\"apple\", \"banana\", \"cherry\"]\n",
    "for i in range(len(fruits)):\n",
    "  print(fruits[i])"
   ]
  },
  {
   "cell_type": "code",
   "execution_count": null,
   "id": "3b268d9e",
   "metadata": {},
   "outputs": [],
   "source": [
    "def say_hello():\n",
    "  print(\"hello\")\n",
    "\n",
    "for i in range(3):\n",
    "  say_hello()"
   ]
  },
  {
   "cell_type": "code",
   "execution_count": null,
   "id": "942efe6a",
   "metadata": {},
   "outputs": [],
   "source": [
    "for x in range(2, 30, 3):\n",
    "  print(x)"
   ]
  },
  {
   "cell_type": "markdown",
   "id": "6a4ae458",
   "metadata": {},
   "source": [
    "You can also add the `else` case to a `for` loop to specify a block of code to be executed when the loop is finished. This block of code will not be executed when the for loop is stopped by a `break` statement."
   ]
  },
  {
   "cell_type": "code",
   "execution_count": null,
   "id": "2efd311c",
   "metadata": {},
   "outputs": [],
   "source": [
    "for x in range(6):\n",
    "  print(x)\n",
    "else:\n",
    "  print(\"Finally finished!\") "
   ]
  },
  {
   "cell_type": "code",
   "execution_count": null,
   "id": "41a32530",
   "metadata": {},
   "outputs": [],
   "source": [
    "for x in range(6):\n",
    "  if x == 3: break\n",
    "  print(x)\n",
    "else:\n",
    "  print(\"Finally finished!\") "
   ]
  },
  {
   "cell_type": "markdown",
   "id": "e75dc24e",
   "metadata": {},
   "source": [
    "There is the posibility to nest `for` loops."
   ]
  },
  {
   "cell_type": "code",
   "execution_count": null,
   "id": "71f0401e",
   "metadata": {},
   "outputs": [],
   "source": [
    "adj = [\"red\", \"big\", \"tasty\"]\n",
    "fruits = [\"apple\", \"banana\", \"cherry\"]\n",
    "\n",
    "for x in adj:\n",
    "  for y in fruits:\n",
    "    print(x, y) "
   ]
  },
  {
   "cell_type": "markdown",
   "id": "ed09363b",
   "metadata": {},
   "source": [
    "You can also put a `pass` statement inside the `for` loop to create an empty `for` loop. It is not possible to create an empty `for` loop in any other way."
   ]
  },
  {
   "cell_type": "code",
   "execution_count": null,
   "id": "48c6faa2",
   "metadata": {},
   "outputs": [],
   "source": [
    "for x in [0, 1, 2]:\n",
    "  pass"
   ]
  },
  {
   "cell_type": "markdown",
   "id": "ca362653",
   "metadata": {},
   "source": [
    "## Exercises\n",
    "\n",
    "Below you will find several exercises which are part from the Kaggle notebook [101-exercises](https://www.kaggle.com/code/ryanorsinger/101-exercises/notebook) (Created by [Ryan Orsinger](https://ryanorsinger.com), Source code on [https://github.com/ryanorsinger/101-exercises](https://github.com/ryanorsinger/101-exercises)). We did not copy all exercises but only a selection. Feel free to try out the remaining found on Kaggle. Just a reminder that these exercises are here to test your Python knowledge and are not mandatory. However, they might be fun to do :)\n",
    "\n",
    "You will find example answers to the exercises below at the end of this notebook."
   ]
  },
  {
   "cell_type": "markdown",
   "id": "312b080a",
   "metadata": {},
   "source": [
    "**Important notes from the Kaggle 101-exercises notebook**\n",
    "\n",
    "**Troubleshooting**\n",
    "\n",
    "- \"Name Error\" means that you need to assign a variable or define the function as instructed.\n",
    "- \"Assertion Error\" means that your provided solution does not match the correct answer.\n",
    "- \"Type Error\" means that your data type provided is not accurate\n",
    "\n",
    "**What to do when you don't know what to do next**\n",
    "- When the exercise asks you to reverse an list, the way forward is to search for \"How to reverse a list in Python\" in your favorite search engine.\n",
    "- When the exercise asks you to check if a number is even, the way forward is to search for \"how to check if a number is even in Python\".\n",
    "- When the exercise has you calculate the area of a circle, the way forward is to search for \"how to calculate the area of a circle in Python\" or \"How to get pi in Python\".\n",
    "\n",
    "> The pattern for finding what you need is to rely very heavily on search engine searches so you can find examples of working code and discussions about code that speak to your questions."
   ]
  },
  {
   "cell_type": "markdown",
   "id": "725ecb32",
   "metadata": {},
   "source": [
    "**Example Exercise**\n",
    "\n",
    "Uncomment the firt line below and run the cell.\n",
    "\n",
    "The hashtag `#` character in a line of Python code is the comment character."
   ]
  },
  {
   "cell_type": "code",
   "execution_count": null,
   "id": "ea1ddd1b",
   "metadata": {},
   "outputs": [],
   "source": [
    "# doing_python_right_now = True\n",
    "\n",
    "# The lines below will test your answer. If you see an error, then it means that your answer is incorrect or incomplete.\n",
    "assert doing_python_right_now == True, \"If you see a NameError, it means that the variable is not created and assigned a value. An 'Assertion Error' means that the value of the variable is incorrect.\" \n",
    "print(\"Exercise 0 is correct\") # This line will print if your solution passes the assertion above."
   ]
  },
  {
   "cell_type": "markdown",
   "id": "5aabe152",
   "metadata": {},
   "source": [
    "**Exercise 4**\n",
    "\n",
    "Create a variable named numbers and assign it a list of numbers, 1, 2, 3, 4, 5, 6, 7, 8, 9, 10"
   ]
  },
  {
   "cell_type": "code",
   "execution_count": null,
   "id": "76ad39ad",
   "metadata": {},
   "outputs": [],
   "source": [
    "\n",
    "assert numbers == [1, 2, 3, 4, 5, 6, 7, 8, 9, 10], \"Ensure the variable contains the numbers 1-10 in order.\"\n",
    "print(\"Exercise 4 is correct.\")"
   ]
  },
  {
   "cell_type": "markdown",
   "id": "2cc12585",
   "metadata": {},
   "source": [
    "### List Operations"
   ]
  },
  {
   "cell_type": "markdown",
   "id": "60ffeb52",
   "metadata": {},
   "source": [
    "**Hint** Recommend finding and using built-in Python functionality whenever possible."
   ]
  },
  {
   "cell_type": "markdown",
   "id": "4f4a2d3b",
   "metadata": {},
   "source": [
    "**Exercise 5**\n",
    "\n",
    "Given the following assigment of the list of fruits, add \"tomato\" to the end of the list."
   ]
  },
  {
   "cell_type": "code",
   "execution_count": null,
   "id": "9334b40e",
   "metadata": {},
   "outputs": [],
   "source": [
    "fruits = [\"mango\", \"banana\", \"guava\", \"kiwi\", \"strawberry\"]\n",
    "\n",
    "assert fruits == [\"mango\", \"banana\", \"guava\", \"kiwi\", \"strawberry\", \"tomato\"], \"Ensure the variable contains all the strings in the right order\"\n",
    "print(\"Exercise 5 is correct\")"
   ]
  },
  {
   "cell_type": "markdown",
   "id": "477a3a16",
   "metadata": {},
   "source": [
    "**Exercise 9**\n",
    "\n",
    "Write the code necessary to sort the fruits in reverse alphabetical order."
   ]
  },
  {
   "cell_type": "code",
   "execution_count": null,
   "id": "c3067720",
   "metadata": {},
   "outputs": [],
   "source": [
    "\n",
    "assert fruits == ['tomato', 'strawberry', 'mango', 'kiwi', 'guava', 'banana']\n",
    "print(\"Exercise 9 is correct.\")"
   ]
  },
  {
   "cell_type": "markdown",
   "id": "aea2dc43",
   "metadata": {},
   "source": [
    "### Basic Functions"
   ]
  },
  {
   "cell_type": "markdown",
   "id": "de4c40a0",
   "metadata": {},
   "source": [
    "![](http://)**Hint** Be sure to `return` values from your function definitions. The assert statements will call your function(s) for you."
   ]
  },
  {
   "cell_type": "code",
   "execution_count": null,
   "id": "c95d6ce7",
   "metadata": {},
   "outputs": [],
   "source": [
    "# Run this cell in order to generate some numbers to use in our functions after this.\n",
    "import random\n",
    "    \n",
    "positive_even_number = random.randrange(2, 101, 2)\n",
    "negative_even_number = random.randrange(-100, -1, 2)\n",
    "\n",
    "positive_odd_number = random.randrange(1, 100, 2)\n",
    "negative_odd_number = random.randrange(-101, 0, 2)\n",
    "print(\"We now have some random numbers available for future exercises.\")\n",
    "print(\"The random positive even number is\", positive_even_number)\n",
    "print(\"The random positive odd nubmer is\", positive_odd_number)\n",
    "print(\"The random negative even number\", negative_even_number)\n",
    "print(\"The random negative odd number\", negative_odd_number)"
   ]
  },
  {
   "cell_type": "markdown",
   "id": "f22499dc",
   "metadata": {},
   "source": [
    "**Example function definition:**\n",
    "\n",
    "Write a say_hello function that adds the string \"Hello, \" to the beginning and \"!\" to the end of any given input."
   ]
  },
  {
   "cell_type": "code",
   "execution_count": null,
   "id": "c7776159",
   "metadata": {},
   "outputs": [],
   "source": [
    "def say_hello(name):\n",
    "    return \"Hello, \" + name + \"!\"\n",
    "\n",
    "assert say_hello(\"Jane\") == \"Hello, Jane!\", \"Double check the inputs and data types\"\n",
    "assert say_hello(\"Pat\") == \"Hello, Pat!\", \"Double check the inputs and data types\"\n",
    "assert say_hello(\"Astrud\") == \"Hello, Astrud!\", \"Double check the inputs and data types\"\n",
    "print(\"The example function definition ran appropriately\")"
   ]
  },
  {
   "cell_type": "markdown",
   "id": "f889ed05",
   "metadata": {},
   "source": [
    "**Another example function definition:**\n",
    "\n",
    "This plus_two function takes in a variable and adds 2 to it."
   ]
  },
  {
   "cell_type": "code",
   "execution_count": null,
   "id": "c5cd8f86",
   "metadata": {},
   "outputs": [],
   "source": [
    "def plus_two(number):\n",
    "    return number + 2\n",
    "\n",
    "assert plus_two(3) == 5\n",
    "assert plus_two(0) == 2\n",
    "assert plus_two(-2) == 0\n",
    "print(\"The plus_two assertions executed appropriately... The second function definition example executed appropriately.\")"
   ]
  },
  {
   "cell_type": "markdown",
   "id": "62cfaf5b",
   "metadata": {},
   "source": [
    "**Exercise 15**\n",
    "\n",
    "Write a function definition named is_even that takes in a number and returns True or False if that number is even."
   ]
  },
  {
   "cell_type": "code",
   "execution_count": null,
   "id": "3fbc00a5",
   "metadata": {},
   "outputs": [],
   "source": [
    "\n",
    "assert is_even(2) == True, \"Ensure that the function is defined, named properly, and returns the correct value\"\n",
    "assert is_even(positive_odd_number) == False, \"Ensure that the function is defined, named properly, and returns the correct value\"\n",
    "assert is_even(positive_even_number) == True, \"Ensure that the function is defined, named properly, and returns the correct value\"\n",
    "assert is_even(negative_odd_number) == False, \"Ensure that the function is defined, named properly, and returns the correct value\"\n",
    "assert is_even(negative_even_number) == True, \"Ensure that the function is defined, named properly, and returns the correct value\"\n",
    "print(\"Exercise 15 is correct.\")"
   ]
  },
  {
   "cell_type": "markdown",
   "id": "787c9d34",
   "metadata": {},
   "source": [
    "**Exercise 28**\n",
    "\n",
    "Write a function definition named is_multiple_of_both_three_and_five that takes in a number and returns True or False if the number is evenly divisible by both 3 and 5."
   ]
  },
  {
   "cell_type": "code",
   "execution_count": null,
   "id": "712df2e2",
   "metadata": {},
   "outputs": [],
   "source": [
    "\n",
    "assert is_multiple_of_both_three_and_five(15) == True\n",
    "assert is_multiple_of_both_three_and_five(45) == True\n",
    "assert is_multiple_of_both_three_and_five(3) == False\n",
    "assert is_multiple_of_both_three_and_five(9) == False\n",
    "assert is_multiple_of_both_three_and_five(4) == False\n",
    "print(\"Exercise 28 is correct.\")"
   ]
  },
  {
   "cell_type": "markdown",
   "id": "4e227aba",
   "metadata": {},
   "source": [
    "**Exercise 37**\n",
    "\n",
    "Write a function definition named remainder that takes in two numbers and returns the remainder of first argument divided by the second argument."
   ]
  },
  {
   "cell_type": "code",
   "execution_count": null,
   "id": "f6fad133",
   "metadata": {},
   "outputs": [],
   "source": [
    "\n",
    "assert remainder(3, 3) == 0\n",
    "assert remainder(5, 2) == 1\n",
    "assert remainder(7, 5) == 2\n",
    "print(\"Exercise 37 is correct.\")"
   ]
  },
  {
   "cell_type": "markdown",
   "id": "534f8d12",
   "metadata": {},
   "source": [
    "**Exercise 43**\n",
    "\n",
    "Write a function definition named is_vowel that takes in value and returns True if the value is a, e, i, o, u in upper or lower case."
   ]
  },
  {
   "cell_type": "code",
   "execution_count": null,
   "id": "593f88b2",
   "metadata": {},
   "outputs": [],
   "source": [
    "\n",
    "assert is_vowel(\"a\") == True\n",
    "assert is_vowel(\"e\") == True\n",
    "assert is_vowel(\"i\") == True\n",
    "assert is_vowel(\"o\") == True\n",
    "assert is_vowel(\"u\") == True\n",
    "assert is_vowel(\"A\") == True\n",
    "assert is_vowel(\"E\") == True\n",
    "assert is_vowel(\"I\") == True\n",
    "assert is_vowel(\"O\") == True\n",
    "assert is_vowel(\"U\") == True\n",
    "assert is_vowel(\"banana\") == False\n",
    "assert is_vowel(\"Q\") == False\n",
    "assert is_vowel(\"y\") == False\n",
    "assert is_vowel(\"aei\") == False\n",
    "assert is_vowel(\"iou\") == False\n",
    "print(\"Exercise 43 is correct.\")"
   ]
  },
  {
   "cell_type": "markdown",
   "id": "f28844d6",
   "metadata": {},
   "source": [
    "**Exercise 46**\n",
    "\n",
    "Write a function definition named remove_vowels that takes in string and returns the string without any vowels"
   ]
  },
  {
   "cell_type": "code",
   "execution_count": null,
   "id": "d4424991",
   "metadata": {},
   "outputs": [],
   "source": [
    "\n",
    "assert remove_vowels(\"banana\") == \"bnn\"\n",
    "assert remove_vowels(\"ubuntu\") == \"bnt\"\n",
    "assert remove_vowels(\"mango\") == \"mng\"\n",
    "assert remove_vowels(\"QQQQ\") == \"QQQQ\"\n",
    "print(\"Exercise 46 is correct.\")"
   ]
  },
  {
   "cell_type": "markdown",
   "id": "fb4efc8c",
   "metadata": {},
   "source": [
    "### Accessing List Elements"
   ]
  },
  {
   "cell_type": "markdown",
   "id": "30a5419a",
   "metadata": {},
   "source": [
    "**Exercise 55**\n",
    "\n",
    "Write a function definition named second_to_last that takes in sequence and returns the second to last value of that sequence."
   ]
  },
  {
   "cell_type": "code",
   "execution_count": null,
   "id": "3980ffc3",
   "metadata": {},
   "outputs": [],
   "source": [
    "\n",
    "assert second_to_last(\"ubuntu\") == \"t\"\n",
    "assert second_to_last([1, 2, 3, 4]) == 3\n",
    "assert second_to_last([\"python\", \"is\", \"awesome\"]) == \"is\"\n",
    "assert second_to_last([\"kiwi\", \"mango\", \"guava\"]) == \"mango\"\n",
    "print(\"Exercise 55 is correct.\")"
   ]
  },
  {
   "cell_type": "markdown",
   "id": "6cb60d04",
   "metadata": {},
   "source": [
    "**Exercise 59**\n",
    "\n",
    "Write a function definition named first_to_last that takes in sequence and returns the sequence with the first value moved to the end of the sequence."
   ]
  },
  {
   "cell_type": "code",
   "execution_count": null,
   "id": "954980ef",
   "metadata": {},
   "outputs": [],
   "source": [
    "\n",
    "assert first_to_last([1, 2, 3, 4]) == [2, 3, 4, 1]\n",
    "assert first_to_last([\"python\", \"is\", \"awesome\"]) == [\"is\", \"awesome\", \"python\"]\n",
    "assert first_to_last([\"strawberry\", \"kiwi\", \"mango\", \"guava\"]) == [\"kiwi\", \"mango\", \"guava\", \"strawberry\"]\n",
    "print(\"Exercise 59 is correct.\")"
   ]
  },
  {
   "cell_type": "markdown",
   "id": "bcb5aed1",
   "metadata": {},
   "source": [
    "### Functions to describe data"
   ]
  },
  {
   "cell_type": "markdown",
   "id": "bb9884b3",
   "metadata": {},
   "source": [
    "**Exercise 62**\n",
    "\n",
    "Write a function definition named median that takes in sequence of numbers and returns the pivot value"
   ]
  },
  {
   "cell_type": "code",
   "execution_count": null,
   "id": "741cb53b",
   "metadata": {},
   "outputs": [],
   "source": [
    "     \n",
    "assert median([1, 2, 3, 4, 5]) == 3.0\n",
    "assert median([1, 2, 3]) == 2.0\n",
    "assert median([1, 5, 6]) == 5.0\n",
    "assert median([1, 2, 5, 6]) == 3.5\n",
    "print(\"Exercise 62 is correct.\")"
   ]
  },
  {
   "cell_type": "markdown",
   "id": "8f67fe4d",
   "metadata": {},
   "source": [
    "**Exercise 64**\n",
    "\n",
    "Write a function definition named product_of_all that takes in sequence of numbers and returns the product of multiplying all the numbers together"
   ]
  },
  {
   "cell_type": "code",
   "execution_count": null,
   "id": "0428370b",
   "metadata": {},
   "outputs": [],
   "source": [
    "\n",
    "assert product_of_all([1, 2, 3]) == 6\n",
    "assert product_of_all([3, 4, 5]) == 60\n",
    "assert product_of_all([2, 2, 3, 0]) == 0\n",
    "print(\"Exercise 64 is correct.\")"
   ]
  },
  {
   "cell_type": "markdown",
   "id": "0c27fe3d",
   "metadata": {},
   "source": [
    "### Applying functions to lists"
   ]
  },
  {
   "cell_type": "markdown",
   "id": "8dff5fb8",
   "metadata": {},
   "source": [
    "**Exercise 68**\n",
    "\n",
    "Write a function definition named only_even_numbers that takes in sequence of numbers and returns the even numbers in a list."
   ]
  },
  {
   "cell_type": "code",
   "execution_count": null,
   "id": "53b7d80a",
   "metadata": {},
   "outputs": [],
   "source": [
    "\n",
    "assert only_even_numbers([1, 2, 3]) == [2]\n",
    "assert only_even_numbers([-5, -4, -3, -2, -1, 1, 2, 3, 4, 5]) == [-4, -2, 2, 4]\n",
    "assert only_even_numbers([-4, -3, 1]) == [-4]\n",
    "assert only_even_numbers([1, 1, 1, 1, 1, 1]) == []\n",
    "print(\"Exercise 68 is correct.\")"
   ]
  },
  {
   "cell_type": "markdown",
   "id": "c0c78e54",
   "metadata": {},
   "source": [
    "**Exercise 71**\n",
    "\n",
    "Write a function definition named has_evens that takes in sequence of numbers and returns True if there are any even numbers in the sequence"
   ]
  },
  {
   "cell_type": "code",
   "execution_count": null,
   "id": "8a62a1aa",
   "metadata": {},
   "outputs": [],
   "source": [
    "\n",
    "assert has_evens([1, 2, 3]) == True\n",
    "assert has_evens([2, 5, 6]) == True\n",
    "assert has_evens([3, 3, 3]) == False\n",
    "assert has_evens([]) == False\n",
    "print(\"Exercise 71 is correct.\")"
   ]
  },
  {
   "cell_type": "markdown",
   "id": "65d35337",
   "metadata": {},
   "source": [
    "## Working with sets\n",
    "\n",
    "**Hint** Take a look at the `set` function in Python, the `set` data type, and built-in `set` methods."
   ]
  },
  {
   "cell_type": "code",
   "execution_count": null,
   "id": "2eaa5068",
   "metadata": {},
   "outputs": [],
   "source": [
    "# Example set function usage\n",
    "print(set(\"kiwi\"))\n",
    "print(set([1, 2, 2, 3, 3, 3, 4, 4, 4, 4]))"
   ]
  },
  {
   "cell_type": "markdown",
   "id": "6271972b",
   "metadata": {},
   "source": [
    "**Exercise 83**\n",
    "\n",
    "Write a function definition named get_unique_values that takes in a list and returns a set with only the unique values from that list."
   ]
  },
  {
   "cell_type": "code",
   "execution_count": null,
   "id": "f8b7151d",
   "metadata": {},
   "outputs": [],
   "source": [
    "\n",
    "assert get_unique_values([\"ant\", \"ant\", \"mosquito\", \"mosquito\", \"ladybug\"]) == {\"ant\", \"mosquito\", \"ladybug\"}\n",
    "assert get_unique_values([\"b\", \"a\", \"n\", \"a\", \"n\", \"a\", \"s\"]) == {\"b\", \"a\", \"n\", \"s\"}\n",
    "assert get_unique_values([\"mary\", \"had\", \"a\", \"little\", \"lamb\", \"little\", \"lamb\", \"little\", \"lamb\"]) == {\"mary\", \"had\", \"a\", \"little\", \"lamb\"}\n",
    "print(\"Exercise 83 is correct.\")"
   ]
  },
  {
   "cell_type": "markdown",
   "id": "7d611281",
   "metadata": {},
   "source": [
    "**Exercise 85**\n",
    "\n",
    "Write a function definition named get_values_in_common that takes two lists and returns a single set with the values that each list has in common"
   ]
  },
  {
   "cell_type": "code",
   "execution_count": null,
   "id": "91626284",
   "metadata": {},
   "outputs": [],
   "source": [
    "\n",
    "assert get_values_in_common([5, 1, 2, 3], [3, 4, 5, 5]) == {3, 5}\n",
    "assert get_values_in_common([1, 2], [2, 2, 3]) == {2}\n",
    "assert get_values_in_common([\"tomato\", \"mango\", \"kiwi\"], [\"eggplant\", \"tomato\", \"broccoli\"]) == {\"tomato\"}\n",
    "print(\"Exercise 85 is correct.\")"
   ]
  },
  {
   "cell_type": "markdown",
   "id": "f99174e5",
   "metadata": {},
   "source": [
    "**Exercise 86**\n",
    "\n",
    "Write a function definition named get_values_not_in_common that takes two lists and returns a single set with the values that each list does not have in common"
   ]
  },
  {
   "cell_type": "code",
   "execution_count": null,
   "id": "ec3cdf32",
   "metadata": {},
   "outputs": [],
   "source": [
    "\n",
    "assert get_values_not_in_common([5, 1, 2, 3], [3, 4, 5, 5]) == {1, 2, 4}\n",
    "assert get_values_not_in_common([1, 1], [2, 2, 3]) == {1, 2, 3}\n",
    "assert get_values_not_in_common([\"tomato\", \"mango\", \"kiwi\"], [\"eggplant\", \"tomato\", \"broccoli\"]) == {\"mango\", \"kiwi\", \"eggplant\", \"broccoli\"}\n",
    "print(\"Exercise 86 is correct.\")"
   ]
  },
  {
   "cell_type": "markdown",
   "id": "0ccee155",
   "metadata": {},
   "source": [
    "## Working with Dictionaries"
   ]
  },
  {
   "cell_type": "code",
   "execution_count": null,
   "id": "1f8b7f85",
   "metadata": {},
   "outputs": [],
   "source": [
    "# Run this cell in order to have these two dictionary variables defined.\n",
    "tukey_paper = {\n",
    "    \"title\": \"The Future of Data Analysis\",\n",
    "    \"author\": \"John W. Tukey\",\n",
    "    \"link\": \"https://projecteuclid.org/euclid.aoms/1177704711\",\n",
    "    \"year_published\": 1962\n",
    "}\n",
    "\n",
    "thomas_paper = {\n",
    "    \"title\": \"A mathematical model of glutathione metabolism\",\n",
    "    \"author\": \"Rachel Thomas\",\n",
    "    \"link\": \"https://www.ncbi.nlm.nih.gov/pubmed/18442411\",\n",
    "    \"year_published\": 2008\n",
    "}"
   ]
  },
  {
   "cell_type": "markdown",
   "id": "4392d792",
   "metadata": {},
   "source": [
    "**Exercise 87**\n",
    "\n",
    "Write a function named get_paper_title that takes in a dictionary and returns the title property"
   ]
  },
  {
   "cell_type": "code",
   "execution_count": null,
   "id": "e311b945",
   "metadata": {},
   "outputs": [],
   "source": [
    "\n",
    "assert get_paper_title(tukey_paper) == \"The Future of Data Analysis\"\n",
    "assert get_paper_title(thomas_paper) == \"A mathematical model of glutathione metabolism\"\n",
    "print(\"Exercise 87 is correct.\")"
   ]
  },
  {
   "cell_type": "markdown",
   "id": "19ad3941",
   "metadata": {},
   "source": [
    "## Working with Lists of Dictionaries\n",
    "\n",
    "**Hint** If you need an example of lists of dictionaries, see \n",
    "- [Getting Started With a List of Dictionaries](https://colab.research.google.com/github/ryanorsinger/list_of_dictionaries/blob/main/getting_started.ipynb)\n",
    "- [Practice Exercises for List of Dictionaries](https://colab.research.google.com/github/ryanorsinger/list_of_dictionaries/blob/main/exercises.ipynb)\n",
    "- [Companion Video](https://www.youtube.com/watch?v=pPdEahZgv8U)"
   ]
  },
  {
   "cell_type": "code",
   "execution_count": null,
   "id": "5a2bb006",
   "metadata": {},
   "outputs": [],
   "source": [
    "# Run this cell in order to have some setup data for the next exercises\n",
    "books = [\n",
    "    {\n",
    "        \"title\": \"Genetic Algorithms and Machine Learning for Programmers\",\n",
    "        \"price\": 36.99,\n",
    "        \"author\": \"Frances Buontempo\"\n",
    "    },\n",
    "    {\n",
    "        \"title\": \"The Visual Display of Quantitative Information\",\n",
    "        \"price\": 38.00,\n",
    "        \"author\": \"Edward Tufte\"\n",
    "    },\n",
    "    {\n",
    "        \"title\": \"Practical Object-Oriented Design\",\n",
    "        \"author\": \"Sandi Metz\",\n",
    "        \"price\": 30.47\n",
    "    },\n",
    "    {\n",
    "        \"title\": \"Weapons of Math Destruction\",\n",
    "        \"author\": \"Cathy O'Neil\",\n",
    "        \"price\": 17.44\n",
    "    }\n",
    "]"
   ]
  },
  {
   "cell_type": "markdown",
   "id": "e3844585",
   "metadata": {},
   "source": [
    "**Exercise 92**\n",
    "\n",
    "Write a function named total_of_book_prices that takes in a list of dictionaries and returns the sum total of all the book prices added together"
   ]
  },
  {
   "cell_type": "code",
   "execution_count": null,
   "id": "9b2ae722",
   "metadata": {},
   "outputs": [],
   "source": [
    "\n",
    "assert total_of_book_prices(books) == 122.9\n",
    "print(\"Exercise 92 is complete.\")"
   ]
  },
  {
   "cell_type": "markdown",
   "id": "3c9c72aa",
   "metadata": {},
   "source": [
    "**Exercise 94**\n",
    "\n",
    "Write a function called highest_price_book that takes in the above defined list of dictionaries \"books\" and returns the dictionary containing the title, price, and author of the book with the highest priced book.\n",
    "\n",
    "**Hint**: Much like sometimes start functions with a variable set to zero, you may want to create a dictionary with the price set to zero to compare to each dictionary's price in the list\n"
   ]
  },
  {
   "cell_type": "code",
   "execution_count": null,
   "id": "7a1f7bff",
   "metadata": {},
   "outputs": [],
   "source": [
    "\n",
    "assert highest_price_book(books) == {\n",
    "    \"title\": \"The Visual Display of Quantitative Information\",\n",
    "    \"price\": 38.00,\n",
    "    \"author\": \"Edward Tufte\"\n",
    "}\n",
    "\n",
    "print(\"Exercise 94 is complete\")"
   ]
  },
  {
   "cell_type": "code",
   "execution_count": null,
   "id": "6382c20a",
   "metadata": {},
   "outputs": [],
   "source": [
    "shopping_cart = {\n",
    "    \"tax\": .08,\n",
    "    \"items\": [\n",
    "        {\n",
    "            \"title\": \"orange juice\",\n",
    "            \"price\": 3.99,\n",
    "            \"quantity\": 1\n",
    "        },\n",
    "        {\n",
    "            \"title\": \"rice\",\n",
    "            \"price\": 1.99,\n",
    "            \"quantity\": 3\n",
    "        },\n",
    "        {\n",
    "            \"title\": \"beans\",\n",
    "            \"price\": 0.99,\n",
    "            \"quantity\": 3\n",
    "        },\n",
    "        {\n",
    "            \"title\": \"chili sauce\",\n",
    "            \"price\": 2.99,\n",
    "            \"quantity\": 1\n",
    "        },\n",
    "        {\n",
    "            \"title\": \"chocolate\",\n",
    "            \"price\": 0.75,\n",
    "            \"quantity\": 9\n",
    "        }\n",
    "    ]\n",
    "}"
   ]
  },
  {
   "cell_type": "markdown",
   "id": "ccc19517",
   "metadata": {},
   "source": [
    "**Exercise 99**\n",
    "\n",
    "Write a function named get_average_item_price that takes in the shopping cart as an input and returns the average of all the item prices.\n",
    "\n",
    "**Hint** - This should determine the total price divided by the number of types of items. This does not account for each item type's quantity."
   ]
  },
  {
   "cell_type": "code",
   "execution_count": null,
   "id": "100df3b0",
   "metadata": {},
   "outputs": [],
   "source": [
    "\n",
    "assert get_average_item_price(shopping_cart) == 2.1420000000000003\n",
    "print(\"Exercise 99 is complete.\")"
   ]
  },
  {
   "cell_type": "markdown",
   "id": "08fd1e0e",
   "metadata": {},
   "source": [
    "**Exercise 100**\n",
    "\n",
    "Write a function named get_average_spent_per_item that takes in the shopping cart and returns the average of summing each item's quanties times that item's price.\n",
    "\n",
    "**Hint**: You may need to set an initial total price and total total quantity to zero, then sum up and divide that total price by the total quantity"
   ]
  },
  {
   "cell_type": "code",
   "execution_count": null,
   "id": "f9f3fc0d",
   "metadata": {},
   "outputs": [],
   "source": [
    "\n",
    "assert get_average_spent_per_item(shopping_cart) == 1.333529411764706\n",
    "print(\"Exercise 100 is complete.\")"
   ]
  },
  {
   "cell_type": "markdown",
   "id": "597d8f1f",
   "metadata": {},
   "source": [
    "**Exercise 101**\n",
    "\n",
    "Write a function named most_spent_on_item that takes in the shopping cart as input and returns the dictionary associated with the item that has the highest price\\*quantity.\n",
    "\n",
    "Be sure to do this as programmatically as possible. \n",
    "\n",
    "**Hint**: Similarly to how we sometimes begin a function with setting a variable to zero, we need a starting place. Consider creating a variable that is a dictionary with the keys \"price\" and \"quantity\" both set to 0. You can then compare each item's price and quantity total to the one from \"most\"\n"
   ]
  },
  {
   "cell_type": "code",
   "execution_count": null,
   "id": "5ccb1f4c",
   "metadata": {},
   "outputs": [],
   "source": [
    "\n",
    "assert most_spent_on_item(shopping_cart) == {\n",
    "    \"title\": \"chocolate\",\n",
    "    \"price\": 0.75,\n",
    "    \"quantity\": 9\n",
    "}\n",
    "print(\"Exercise 101 is complete.\")"
   ]
  },
  {
   "cell_type": "markdown",
   "id": "d0eee52d",
   "metadata": {},
   "source": [
    "## Answers"
   ]
  },
  {
   "cell_type": "markdown",
   "id": "24872329",
   "metadata": {},
   "source": [
    "**Exercise 4**\n",
    "\n",
    "Create a variable named numbers and assign it a list of numbers, 1, 2, 3, 4, 5, 6, 7, 8, 9, 10"
   ]
  },
  {
   "cell_type": "code",
   "execution_count": null,
   "id": "68e7364e",
   "metadata": {},
   "outputs": [],
   "source": [
    "numbers = list(range(1,11))\n",
    "\n",
    "assert numbers == [1, 2, 3, 4, 5, 6, 7, 8, 9, 10], \"Ensure the variable contains the numbers 1-10 in order.\"\n",
    "print(\"Exercise 4 is correct.\")"
   ]
  },
  {
   "cell_type": "markdown",
   "id": "ca384c45",
   "metadata": {},
   "source": [
    "**Exercise 5**\n",
    "\n",
    "Given the following assigment of the list of fruits, add \"tomato\" to the end of the list."
   ]
  },
  {
   "cell_type": "code",
   "execution_count": null,
   "id": "38fab35a",
   "metadata": {},
   "outputs": [],
   "source": [
    "fruits = [\"mango\", \"banana\", \"guava\", \"kiwi\", \"strawberry\"]\n",
    "\n",
    "fruits.append(\"tomato\")\n",
    "\n",
    "assert fruits == [\"mango\", \"banana\", \"guava\", \"kiwi\", \"strawberry\", \"tomato\"], \"Ensure the variable contains all the strings in the right order\"\n",
    "print(\"Exercise 5 is correct\")"
   ]
  },
  {
   "cell_type": "markdown",
   "id": "6ecb4600",
   "metadata": {},
   "source": [
    "**Exercise 9**\n",
    "\n",
    "Write the code necessary to sort the fruits in reverse alphabetical order."
   ]
  },
  {
   "cell_type": "code",
   "execution_count": null,
   "id": "315a49e8",
   "metadata": {},
   "outputs": [],
   "source": [
    "fruits.sort(reverse=True)\n",
    "assert fruits == ['tomato', 'strawberry', 'mango', 'kiwi', 'guava', 'banana']\n",
    "print(\"Exercise 9 is correct.\")"
   ]
  },
  {
   "cell_type": "markdown",
   "id": "e939ad6d",
   "metadata": {},
   "source": [
    "**Exercise 15**\n",
    "\n",
    "Write a function definition named is_even that takes in a number and returns True or False if that number is even."
   ]
  },
  {
   "cell_type": "code",
   "execution_count": null,
   "id": "07a62e37",
   "metadata": {},
   "outputs": [],
   "source": [
    "def is_even(number):\n",
    "    return number % 2 == 0\n",
    "\n",
    "assert is_even(2) == True, \"Ensure that the function is defined, named properly, and returns the correct value\"\n",
    "assert is_even(positive_odd_number) == False, \"Ensure that the function is defined, named properly, and returns the correct value\"\n",
    "assert is_even(positive_even_number) == True, \"Ensure that the function is defined, named properly, and returns the correct value\"\n",
    "assert is_even(negative_odd_number) == False, \"Ensure that the function is defined, named properly, and returns the correct value\"\n",
    "assert is_even(negative_even_number) == True, \"Ensure that the function is defined, named properly, and returns the correct value\"\n",
    "print(\"Exercise 15 is correct.\")"
   ]
  },
  {
   "cell_type": "markdown",
   "id": "b9abcf26",
   "metadata": {},
   "source": [
    "**Exercise 28**\n",
    "\n",
    "Write a function definition named is_multiple_of_both_three_and_five that takes in a number and returns True or False if the number is evenly divisible by both 3 and 5."
   ]
  },
  {
   "cell_type": "code",
   "execution_count": null,
   "id": "80c7b83a",
   "metadata": {},
   "outputs": [],
   "source": [
    "def is_multiple_of_both_three_and_five(number):\n",
    "    return (number % 3 == 0) and (number % 5 == 0)\n",
    "\n",
    "assert is_multiple_of_both_three_and_five(15) == True\n",
    "assert is_multiple_of_both_three_and_five(45) == True\n",
    "assert is_multiple_of_both_three_and_five(3) == False\n",
    "assert is_multiple_of_both_three_and_five(9) == False\n",
    "assert is_multiple_of_both_three_and_five(4) == False\n",
    "print(\"Exercise 28 is correct.\")"
   ]
  },
  {
   "cell_type": "markdown",
   "id": "0e466759",
   "metadata": {},
   "source": [
    "**Exercise 37**\n",
    "\n",
    "Write a function definition named remainder that takes in two numbers and returns the remainder of first argument divided by the second argument."
   ]
  },
  {
   "cell_type": "code",
   "execution_count": null,
   "id": "9c46aa35",
   "metadata": {},
   "outputs": [],
   "source": [
    "def remainder(x,y):\n",
    "    return x % y\n",
    "\n",
    "assert remainder(3, 3) == 0\n",
    "assert remainder(5, 2) == 1\n",
    "assert remainder(7, 5) == 2\n",
    "print(\"Exercise 37 is correct.\")"
   ]
  },
  {
   "cell_type": "markdown",
   "id": "c7c8f19a",
   "metadata": {},
   "source": [
    "**Exercise 43**\n",
    "\n",
    "Write a function definition named is_vowel that takes in value and returns True if the value is a, e, i, o, u in upper or lower case."
   ]
  },
  {
   "cell_type": "code",
   "execution_count": null,
   "id": "a6bdd98e",
   "metadata": {},
   "outputs": [],
   "source": [
    "def is_vowel(char):\n",
    "    return False if len(char) > 1 or len(char) < 1 else char.lower() in \"aeiou\"\n",
    "\n",
    "assert is_vowel(\"a\") == True\n",
    "assert is_vowel(\"e\") == True\n",
    "assert is_vowel(\"i\") == True\n",
    "assert is_vowel(\"o\") == True\n",
    "assert is_vowel(\"u\") == True\n",
    "assert is_vowel(\"A\") == True\n",
    "assert is_vowel(\"E\") == True\n",
    "assert is_vowel(\"I\") == True\n",
    "assert is_vowel(\"O\") == True\n",
    "assert is_vowel(\"U\") == True\n",
    "assert is_vowel(\"banana\") == False\n",
    "assert is_vowel(\"Q\") == False\n",
    "assert is_vowel(\"y\") == False\n",
    "assert is_vowel(\"aei\") == False\n",
    "assert is_vowel(\"iou\") == False\n",
    "print(\"Exercise 43 is correct.\")"
   ]
  },
  {
   "cell_type": "markdown",
   "id": "1c7210ca",
   "metadata": {},
   "source": [
    "**Exercise 46**\n",
    "\n",
    "Write a function definition named remove_vowels that takes in string and returns the string without any vowels"
   ]
  },
  {
   "cell_type": "code",
   "execution_count": null,
   "id": "751b3b5d",
   "metadata": {},
   "outputs": [],
   "source": [
    "def remove_vowels(input_string):\n",
    "    return \"\".join([char for char in input_string if not is_vowel(char)])\n",
    "\n",
    "assert remove_vowels(\"banana\") == \"bnn\"\n",
    "assert remove_vowels(\"ubuntu\") == \"bnt\"\n",
    "assert remove_vowels(\"mango\") == \"mng\"\n",
    "assert remove_vowels(\"QQQQ\") == \"QQQQ\"\n",
    "print(\"Exercise 46 is correct.\")"
   ]
  },
  {
   "cell_type": "markdown",
   "id": "3fbd085a",
   "metadata": {},
   "source": [
    "**Exercise 55**\n",
    "\n",
    "Write a function definition named second_to_last that takes in sequence and returns the second to last value of that sequence."
   ]
  },
  {
   "cell_type": "code",
   "execution_count": null,
   "id": "dc522f6c",
   "metadata": {},
   "outputs": [],
   "source": [
    "def second_to_last(seq):\n",
    "    return seq[-2]\n",
    "\n",
    "assert second_to_last(\"ubuntu\") == \"t\"\n",
    "assert second_to_last([1, 2, 3, 4]) == 3\n",
    "assert second_to_last([\"python\", \"is\", \"awesome\"]) == \"is\"\n",
    "assert second_to_last([\"kiwi\", \"mango\", \"guava\"]) == \"mango\"\n",
    "print(\"Exercise 55 is correct.\")"
   ]
  },
  {
   "cell_type": "markdown",
   "id": "9d387d94",
   "metadata": {},
   "source": [
    "**Exercise 59**\n",
    "\n",
    "Write a function definition named first_to_last that takes in sequence and returns the sequence with the first value moved to the end of the sequence."
   ]
  },
  {
   "cell_type": "code",
   "execution_count": null,
   "id": "1d190316",
   "metadata": {},
   "outputs": [],
   "source": [
    "def first_to_last(l):\n",
    "    el = l.pop(0)\n",
    "    l.append(el)\n",
    "    return l\n",
    "\n",
    "assert first_to_last([1, 2, 3, 4]) == [2, 3, 4, 1]\n",
    "assert first_to_last([\"python\", \"is\", \"awesome\"]) == [\"is\", \"awesome\", \"python\"]\n",
    "assert first_to_last([\"strawberry\", \"kiwi\", \"mango\", \"guava\"]) == [\"kiwi\", \"mango\", \"guava\", \"strawberry\"]\n",
    "print(\"Exercise 59 is correct.\")"
   ]
  },
  {
   "cell_type": "markdown",
   "id": "5bd444e8",
   "metadata": {},
   "source": [
    "**Exercise 62**\n",
    "\n",
    "Write a function definition named median that takes in sequence of numbers and returns the pivot value"
   ]
  },
  {
   "cell_type": "code",
   "execution_count": null,
   "id": "2fa3f5be",
   "metadata": {},
   "outputs": [],
   "source": [
    "def median(seq):\n",
    "    n = len(seq)\n",
    "    s = sorted(seq)\n",
    "    return (s[n//2-1]/2.0+s[n//2]/2.0, s[n//2]*1.0)[n % 2] if n else None\n",
    "        \n",
    "assert median([1, 2, 3, 4, 5]) == 3.0\n",
    "assert median([1, 2, 3]) == 2.0\n",
    "assert median([1, 5, 6]) == 5.0\n",
    "assert median([1, 2, 5, 6]) == 3.5\n",
    "print(\"Exercise 62 is correct.\")"
   ]
  },
  {
   "cell_type": "markdown",
   "id": "928c5c7f",
   "metadata": {},
   "source": [
    "**Exercise 64**\n",
    "\n",
    "Write a function definition named product_of_all that takes in sequence of numbers and returns the product of multiplying all the numbers together"
   ]
  },
  {
   "cell_type": "code",
   "execution_count": null,
   "id": "11b99f9c",
   "metadata": {},
   "outputs": [],
   "source": [
    "def product_of_all(seq):\n",
    "    result = 1\n",
    "    for x in seq:\n",
    "        result *= x\n",
    "    return result\n",
    "    \n",
    "assert product_of_all([1, 2, 3]) == 6\n",
    "assert product_of_all([3, 4, 5]) == 60\n",
    "assert product_of_all([2, 2, 3, 0]) == 0\n",
    "print(\"Exercise 64 is correct.\")"
   ]
  },
  {
   "cell_type": "markdown",
   "id": "079e8c22",
   "metadata": {},
   "source": [
    "**Exercise 68**\n",
    "\n",
    "Write a function definition named only_even_numbers that takes in sequence of numbers and returns the even numbers in a list."
   ]
  },
  {
   "cell_type": "code",
   "execution_count": null,
   "id": "438b12fa",
   "metadata": {},
   "outputs": [],
   "source": [
    "def only_even_numbers(seq):\n",
    "    return [x for x in seq if is_even(x)]\n",
    "\n",
    "assert only_even_numbers([1, 2, 3]) == [2]\n",
    "assert only_even_numbers([-5, -4, -3, -2, -1, 1, 2, 3, 4, 5]) == [-4, -2, 2, 4]\n",
    "assert only_even_numbers([-4, -3, 1]) == [-4]\n",
    "assert only_even_numbers([1, 1, 1, 1, 1, 1]) == []\n",
    "print(\"Exercise 68 is correct.\")"
   ]
  },
  {
   "cell_type": "markdown",
   "id": "560d19e6",
   "metadata": {},
   "source": [
    "**Exercise 71**\n",
    "\n",
    "Write a function definition named has_evens that takes in sequence of numbers and returns True if there are any even numbers in the sequence"
   ]
  },
  {
   "cell_type": "code",
   "execution_count": null,
   "id": "1ea14db6",
   "metadata": {},
   "outputs": [],
   "source": [
    "def has_evens(seq):\n",
    "    for el in seq:\n",
    "        if is_even(el):\n",
    "            return True\n",
    "    else:\n",
    "        return False\n",
    "\n",
    "assert has_evens([1, 2, 3]) == True\n",
    "assert has_evens([2, 5, 6]) == True\n",
    "assert has_evens([3, 3, 3]) == False\n",
    "assert has_evens([]) == False\n",
    "print(\"Exercise 71 is correct.\")"
   ]
  },
  {
   "cell_type": "markdown",
   "id": "a4fc31d9",
   "metadata": {},
   "source": [
    "**Exercise 83**\n",
    "\n",
    "Write a function definition named get_unique_values that takes in a list and returns a set with only the unique values from that list."
   ]
  },
  {
   "cell_type": "code",
   "execution_count": null,
   "id": "ac2402d9",
   "metadata": {},
   "outputs": [],
   "source": [
    "def get_unique_values(seq):\n",
    "    return set(seq)\n",
    "\n",
    "assert get_unique_values([\"ant\", \"ant\", \"mosquito\", \"mosquito\", \"ladybug\"]) == {\"ant\", \"mosquito\", \"ladybug\"}\n",
    "assert get_unique_values([\"b\", \"a\", \"n\", \"a\", \"n\", \"a\", \"s\"]) == {\"b\", \"a\", \"n\", \"s\"}\n",
    "assert get_unique_values([\"mary\", \"had\", \"a\", \"little\", \"lamb\", \"little\", \"lamb\", \"little\", \"lamb\"]) == {\"mary\", \"had\", \"a\", \"little\", \"lamb\"}\n",
    "print(\"Exercise 83 is correct.\")"
   ]
  },
  {
   "cell_type": "markdown",
   "id": "5af61330",
   "metadata": {},
   "source": [
    "**Exercise 85**\n",
    "\n",
    "Write a function definition named get_values_in_common that takes two lists and returns a single set with the values that each list has in common"
   ]
  },
  {
   "cell_type": "code",
   "execution_count": null,
   "id": "8e2e1545",
   "metadata": {},
   "outputs": [],
   "source": [
    "def get_values_in_common(seq1,seq2):\n",
    "    return set(seq1).intersection(seq2)\n",
    "\n",
    "assert get_values_in_common([5, 1, 2, 3], [3, 4, 5, 5]) == {3, 5}\n",
    "assert get_values_in_common([1, 2], [2, 2, 3]) == {2}\n",
    "assert get_values_in_common([\"tomato\", \"mango\", \"kiwi\"], [\"eggplant\", \"tomato\", \"broccoli\"]) == {\"tomato\"}\n",
    "print(\"Exercise 85 is correct.\")"
   ]
  },
  {
   "cell_type": "markdown",
   "id": "c9fc8682",
   "metadata": {},
   "source": [
    "**Exercise 86**\n",
    "\n",
    "Write a function definition named get_values_not_in_common that takes two lists and returns a single set with the values that each list does not have in common"
   ]
  },
  {
   "cell_type": "code",
   "execution_count": null,
   "id": "4502be03",
   "metadata": {},
   "outputs": [],
   "source": [
    "def get_values_not_in_common(seq1,seq2):\n",
    "    return set(seq1).symmetric_difference(seq2)\n",
    "\n",
    "assert get_values_not_in_common([5, 1, 2, 3], [3, 4, 5, 5]) == {1, 2, 4}\n",
    "assert get_values_not_in_common([1, 1], [2, 2, 3]) == {1, 2, 3}\n",
    "assert get_values_not_in_common([\"tomato\", \"mango\", \"kiwi\"], [\"eggplant\", \"tomato\", \"broccoli\"]) == {\"mango\", \"kiwi\", \"eggplant\", \"broccoli\"}\n",
    "print(\"Exercise 86 is correct.\")"
   ]
  },
  {
   "cell_type": "markdown",
   "id": "84371366",
   "metadata": {},
   "source": [
    "**Exercise 87**\n",
    "\n",
    "Write a function named get_paper_title that takes in a dictionary and returns the title property"
   ]
  },
  {
   "cell_type": "code",
   "execution_count": null,
   "id": "9f48392a",
   "metadata": {},
   "outputs": [],
   "source": [
    "def get_paper_title(paper):\n",
    "    return paper['title']\n",
    "\n",
    "assert get_paper_title(tukey_paper) == \"The Future of Data Analysis\"\n",
    "assert get_paper_title(thomas_paper) == \"A mathematical model of glutathione metabolism\"\n",
    "print(\"Exercise 87 is correct.\")"
   ]
  },
  {
   "cell_type": "markdown",
   "id": "85e81d07",
   "metadata": {},
   "source": [
    "**Exercise 92**\n",
    "\n",
    "Write a function named total_of_book_prices that takes in a list of dictionaries and returns the sum total of all the book prices added together"
   ]
  },
  {
   "cell_type": "code",
   "execution_count": null,
   "id": "19237366",
   "metadata": {},
   "outputs": [],
   "source": [
    "def total_of_book_prices(books):\n",
    "    total = 0\n",
    "    for book in books:\n",
    "        total += book['price']\n",
    "    return total\n",
    "\n",
    "assert total_of_book_prices(books) == 122.9\n",
    "print(\"Exercise 92 is complete.\")"
   ]
  },
  {
   "cell_type": "markdown",
   "id": "915431e1",
   "metadata": {},
   "source": [
    "**Exercise 94**\n",
    "\n",
    "Write a function called highest_price_book that takes in the above defined list of dictionaries \"books\" and returns the dictionary containing the title, price, and author of the book with the highest priced book.\n",
    "\n",
    "**Hint**: Much like sometimes start functions with a variable set to zero, you may want to create a dictionary with the price set to zero to compare to each dictionary's price in the list"
   ]
  },
  {
   "cell_type": "code",
   "execution_count": null,
   "id": "9acd7d1e",
   "metadata": {},
   "outputs": [],
   "source": [
    "def highest_price_book(books):\n",
    "    result = {'price': 0.00}\n",
    "    for book in books:\n",
    "        if book['price'] > result['price']:\n",
    "            result = book\n",
    "    return result\n",
    "\n",
    "\n",
    "assert highest_price_book(books) == {\n",
    "    \"title\": \"The Visual Display of Quantitative Information\",\n",
    "    \"price\": 38.00,\n",
    "    \"author\": \"Edward Tufte\"\n",
    "}\n",
    "\n",
    "print(\"Exercise 94 is complete\")"
   ]
  },
  {
   "cell_type": "markdown",
   "id": "0b945e0e",
   "metadata": {},
   "source": [
    "**Exercise 99**\n",
    "\n",
    "Write a function named get_average_item_price that takes in the shopping cart as an input and returns the average of all the item prices.\n",
    "\n",
    "**Hint** - This should determine the total price divided by the number of types of items. This does not account for each item type's quantity."
   ]
  },
  {
   "cell_type": "code",
   "execution_count": null,
   "id": "0b4eaeb2",
   "metadata": {},
   "outputs": [],
   "source": [
    "def get_average_item_price(cart):\n",
    "    price = 0\n",
    "    items = cart['items']\n",
    "    item_count = len(items)\n",
    "    for item in items:\n",
    "        price += item['price']\n",
    "    return price/item_count\n",
    "\n",
    "assert get_average_item_price(shopping_cart) == 2.1420000000000003\n",
    "print(\"Exercise 99 is complete.\")"
   ]
  },
  {
   "cell_type": "markdown",
   "id": "cabb397c",
   "metadata": {},
   "source": [
    "**Exercise 100**\n",
    "\n",
    "Write a function named get_average_spent_per_item that takes in the shopping cart and returns the average of summing each item's quanties times that item's price.\n",
    "\n",
    "**Hint**: You may need to set an initial total price and total total quantity to zero, then sum up and divide that total price by the total quantity"
   ]
  },
  {
   "cell_type": "code",
   "execution_count": null,
   "id": "5173c5f8",
   "metadata": {},
   "outputs": [],
   "source": [
    "def get_average_spent_per_item(cart):\n",
    "    price = 0\n",
    "    quantity = 0\n",
    "    items = cart['items']\n",
    "    for item in items:\n",
    "        quantity += item['quantity']\n",
    "        price += item['price'] * item['quantity']\n",
    "    return price / quantity\n",
    "\n",
    "assert get_average_spent_per_item(shopping_cart) == 1.333529411764706\n",
    "print(\"Exercise 100 is complete.\")"
   ]
  },
  {
   "cell_type": "markdown",
   "id": "10d47537",
   "metadata": {},
   "source": [
    "**Exercise 101**\n",
    "\n",
    "Write a function named most_spent_on_item that takes in the shopping cart as input and returns the dictionary associated with the item that has the highest price\\*quantity.\n",
    "\n",
    "Be sure to do this as programmatically as possible. \n",
    "\n",
    "**Hint**: Similarly to how we sometimes begin a function with setting a variable to zero, we need a starting place. Consider creating a variable that is a dictionary with the keys \"price\" and \"quantity\" both set to 0. You can then compare each item's price and quantity total to the one from \"most\"\n"
   ]
  },
  {
   "cell_type": "code",
   "execution_count": null,
   "id": "5927e2bf",
   "metadata": {},
   "outputs": [],
   "source": [
    "def most_spent_on_item(cart):\n",
    "    result = {'price': 0,\n",
    "           'quantity': 0}\n",
    "    items = cart['items']\n",
    "    for item in items:\n",
    "        result_spent = result['price'] * result['quantity']\n",
    "        item_spent = item['price'] * item['quantity']\n",
    "        if item_spent > result_spent:\n",
    "            result = item\n",
    "    return result\n",
    "\n",
    "assert most_spent_on_item(shopping_cart) == {\n",
    "    \"title\": \"chocolate\",\n",
    "    \"price\": 0.75,\n",
    "    \"quantity\": 9\n",
    "}\n",
    "print(\"Exercise 101 is complete.\")"
   ]
  }
 ],
 "metadata": {
  "kernelspec": {
   "display_name": "Python 3 (ipykernel)",
   "language": "python",
   "name": "python3"
  },
  "language_info": {
   "codemirror_mode": {
    "name": "ipython",
    "version": 3
   },
   "file_extension": ".py",
   "mimetype": "text/x-python",
   "name": "python",
   "nbconvert_exporter": "python",
   "pygments_lexer": "ipython3",
   "version": "3.10.9"
  }
 },
 "nbformat": 4,
 "nbformat_minor": 5
}
