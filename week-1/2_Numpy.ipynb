{
 "cells": [
  {
   "cell_type": "markdown",
   "id": "929bff6d",
   "metadata": {},
   "source": [
    "## Numpy\n",
    "\n",
    "The following information can also be found in the [google colab notebook](https://colab.research.google.com/github/cs231n/cs231n.github.io/blob/master/python-colab.ipynb#scrollTo=3cfrOV4dL9hW) and is written by Justin Johnson, Volodymyr Kuleshov, Isaac Caswell and Kevin Zakka for the Standford CS class on Convolutional Neural Networks for Visual Recognition.\n",
    "\n",
    "Numpy is a core library for scientific computing in Python. It provides a high-performance multidimensional array object, and tools for working with these arrays. We will be making use of the PyTorch library which utilizes Tensors, the PyTorch equivalent to Numpy arrays. We will cover Tensors in another notebook. It is however good to know how to manipulate data with Numpy as it is widely used in the Python community.\n",
    "\n",
    "In this notebook you will also find exercises to test your knowledge on Numpy. "
   ]
  },
  {
   "cell_type": "markdown",
   "id": "db7b688d",
   "metadata": {},
   "source": [
    "To use Numpy, we first need to import the `numpy` package:"
   ]
  },
  {
   "cell_type": "code",
   "execution_count": null,
   "id": "dab64a05",
   "metadata": {},
   "outputs": [],
   "source": [
    "import numpy as np"
   ]
  },
  {
   "cell_type": "markdown",
   "id": "05968ecf",
   "metadata": {},
   "source": [
    "We could have just imported numpy, but by adding the `as np` part we can then reference to the library with this abbreviation making our lives a bit easier. "
   ]
  },
  {
   "cell_type": "markdown",
   "id": "590bf1dc",
   "metadata": {},
   "source": [
    "### Arrays"
   ]
  },
  {
   "cell_type": "markdown",
   "id": "54ce86d4",
   "metadata": {},
   "source": [
    "A numpy array is a grid of values, all of the same type, and is indexed by a tuple of nonnegative integers. The number of dimensions is the rank of the array; the shape of an array is a tuple of integers giving the size of the array along each dimension.\n",
    "\n",
    "We can initialize numpy arrays from nested Python lists, and access elements using square brackets:"
   ]
  },
  {
   "cell_type": "code",
   "execution_count": null,
   "id": "06861d34",
   "metadata": {},
   "outputs": [],
   "source": [
    "a = np.array([1, 2, 3])  # Create a rank 1 array\n",
    "print(type(a), a.shape, a[0], a[1], a[2])\n",
    "a[0] = 5                 # Change an element of the array\n",
    "print(a) "
   ]
  },
  {
   "cell_type": "code",
   "execution_count": null,
   "id": "868d37dd",
   "metadata": {},
   "outputs": [],
   "source": [
    "b = np.array([[1,2,3],[4,5,6]])   # Create a rank 2 array\n",
    "print(b)"
   ]
  },
  {
   "cell_type": "code",
   "execution_count": null,
   "id": "1d36416e",
   "metadata": {},
   "outputs": [],
   "source": [
    "print(b.shape)\n",
    "print(b[0, 0], b[0, 1], b[1, 0])"
   ]
  },
  {
   "cell_type": "markdown",
   "id": "10a9fddf",
   "metadata": {},
   "source": [
    "Numpy also provides many functions to create arrays:"
   ]
  },
  {
   "cell_type": "code",
   "execution_count": null,
   "id": "710efdef",
   "metadata": {},
   "outputs": [],
   "source": [
    "a = np.zeros((2,2))  # Create an array of all zeros\n",
    "print(a)"
   ]
  },
  {
   "cell_type": "code",
   "execution_count": null,
   "id": "50184857",
   "metadata": {},
   "outputs": [],
   "source": [
    "b = np.ones((1,2))   # Create an array of all ones\n",
    "print(b)"
   ]
  },
  {
   "cell_type": "code",
   "execution_count": null,
   "id": "f166624a",
   "metadata": {},
   "outputs": [],
   "source": [
    "c = np.full((2,2), 7) # Create a constant array\n",
    "print(c)"
   ]
  },
  {
   "cell_type": "code",
   "execution_count": null,
   "id": "47dbb85a",
   "metadata": {},
   "outputs": [],
   "source": [
    "d = np.eye(2)        # Create a 2x2 identity matrix\n",
    "print(d)"
   ]
  },
  {
   "cell_type": "code",
   "execution_count": null,
   "id": "5bb3fa68",
   "metadata": {},
   "outputs": [],
   "source": [
    "e = np.random.random((2,2)) # Create an array filled with random values\n",
    "print(e)"
   ]
  },
  {
   "cell_type": "markdown",
   "id": "fb6f5917",
   "metadata": {},
   "source": [
    "### Array indexing\n",
    "\n",
    "Numpy offers several ways to index into arrays.\n",
    "\n",
    "**Slicing**\n",
    "\n",
    "Similar to Python lists, numpy arrays can be sliced. Since arrays may be multidimensional, you must specify a slice for each dimension of the array:"
   ]
  },
  {
   "cell_type": "code",
   "execution_count": null,
   "id": "d5d6d064",
   "metadata": {},
   "outputs": [],
   "source": [
    "# Create the following rank 2 array with shape (3, 4)\n",
    "# [[ 1  2  3  4]\n",
    "#  [ 5  6  7  8]\n",
    "#  [ 9 10 11 12]]\n",
    "a = np.array([[1,2,3,4], [5,6,7,8], [9,10,11,12]])\n",
    "\n",
    "# Use slicing to pull out the subarray consisting of the first 2 rows\n",
    "# and columns 1 and 2; b is the following array of shape (2, 2):\n",
    "# [[2 3]\n",
    "#  [6 7]]\n",
    "b = a[:2, 1:3]\n",
    "print(b)"
   ]
  },
  {
   "cell_type": "markdown",
   "id": "b2fc125d",
   "metadata": {},
   "source": [
    "A slice of an array is a view into the same data, so modifying it will modify the original array."
   ]
  },
  {
   "cell_type": "code",
   "execution_count": null,
   "id": "3124a02d",
   "metadata": {},
   "outputs": [],
   "source": [
    "print(a[0, 1])\n",
    "b[0, 0] = 77    # b[0, 0] is the same piece of data as a[0, 1]\n",
    "print(a[0, 1]) "
   ]
  },
  {
   "cell_type": "markdown",
   "id": "93b774a7",
   "metadata": {},
   "source": [
    "You can also mix integer indexing with slice indexing. However, doing so will yield an array of lower rank than the original array. Note that this is quite different from the way that MATLAB handles array slicing:"
   ]
  },
  {
   "cell_type": "code",
   "execution_count": null,
   "id": "b80427c6",
   "metadata": {},
   "outputs": [],
   "source": [
    "# Create the following rank 2 array with shape (3, 4)\n",
    "a = np.array([[1,2,3,4], [5,6,7,8], [9,10,11,12]])\n",
    "print(a)"
   ]
  },
  {
   "cell_type": "markdown",
   "id": "b2381027",
   "metadata": {},
   "source": [
    "Two ways of accessing the data in the middle row of the array.\n",
    "Mixing integer indexing with slices yields an array of lower rank,\n",
    "while using only slices yields an array of the same rank as the\n",
    "original array:"
   ]
  },
  {
   "cell_type": "code",
   "execution_count": null,
   "id": "a7fd5ab4",
   "metadata": {},
   "outputs": [],
   "source": [
    "row_r1 = a[1, :]    # Rank 1 view of the second row of a  \n",
    "row_r2 = a[1:2, :]  # Rank 2 view of the second row of a\n",
    "row_r3 = a[[1], :]  # Rank 2 view of the second row of a\n",
    "print(row_r1, row_r1.shape)\n",
    "print(row_r2, row_r2.shape)\n",
    "print(row_r3, row_r3.shape)"
   ]
  },
  {
   "cell_type": "code",
   "execution_count": null,
   "id": "b88ef65f",
   "metadata": {},
   "outputs": [],
   "source": [
    "# We can make the same distinction when accessing columns of an array:\n",
    "col_r1 = a[:, 1]\n",
    "col_r2 = a[:, 1:2]\n",
    "print(col_r1, col_r1.shape)\n",
    "print()\n",
    "print(col_r2, col_r2.shape)"
   ]
  },
  {
   "cell_type": "markdown",
   "id": "180c5db7",
   "metadata": {},
   "source": [
    "**Integer Array Indexing**\n",
    "\n",
    "When you index into numpy arrays using slicing, the resulting array view will always be a subarray of the original array. In contrast, integer array indexing allows you to construct arbitrary arrays using the data from another array. Here is an example:"
   ]
  },
  {
   "cell_type": "code",
   "execution_count": null,
   "id": "7b69fa8d",
   "metadata": {},
   "outputs": [],
   "source": [
    "a = np.array([[1,2], [3, 4], [5, 6]])\n",
    "\n",
    "# An example of integer array indexing.\n",
    "# The returned array will have shape (3,) and \n",
    "print(a[[0, 1, 2], [0, 1, 0]])\n",
    "\n",
    "# The above example of integer array indexing is equivalent to this:\n",
    "print(np.array([a[0, 0], a[1, 1], a[2, 0]]))"
   ]
  },
  {
   "cell_type": "code",
   "execution_count": null,
   "id": "d44158ef",
   "metadata": {},
   "outputs": [],
   "source": [
    "# When using integer array indexing, you can reuse the same\n",
    "# element from the source array:\n",
    "print(a[[0, 0], [1, 1]])\n",
    "\n",
    "# Equivalent to the previous integer array indexing example\n",
    "print(np.array([a[0, 1], a[0, 1]]))"
   ]
  },
  {
   "cell_type": "markdown",
   "id": "4c0d2817",
   "metadata": {},
   "source": [
    "One useful trick with integer array indexing is selecting or mutating one element from each row of a matrix:"
   ]
  },
  {
   "cell_type": "code",
   "execution_count": null,
   "id": "51b0d60d",
   "metadata": {},
   "outputs": [],
   "source": [
    "# Create a new array from which we will select elements\n",
    "a = np.array([[1,2,3], [4,5,6], [7,8,9], [10, 11, 12]])\n",
    "print(a)"
   ]
  },
  {
   "cell_type": "code",
   "execution_count": null,
   "id": "57c40f37",
   "metadata": {},
   "outputs": [],
   "source": [
    "# Create an array of indices\n",
    "b = np.array([0, 2, 0, 1])\n",
    "\n",
    "# Select one element from each row of a using the indices in b\n",
    "print(a[np.arange(4), b])  # Prints \"[ 1  6  7 11]\""
   ]
  },
  {
   "cell_type": "code",
   "execution_count": null,
   "id": "aff5dc6e",
   "metadata": {},
   "outputs": [],
   "source": [
    "# Mutate one element from each row of a using the indices in b\n",
    "a[np.arange(4), b] += 10\n",
    "print(a)"
   ]
  },
  {
   "cell_type": "markdown",
   "id": "3bacb920",
   "metadata": {},
   "source": [
    "**Boolean Array Indexing**\n",
    "\n",
    "Boolean array indexing lets you pick out arbitrary elements of an array. Frequently this type of indexing is used to select the elements of an array that satisfy some condition. Here is an example:"
   ]
  },
  {
   "cell_type": "code",
   "execution_count": null,
   "id": "7ebbbc45",
   "metadata": {},
   "outputs": [],
   "source": [
    "import numpy as np\n",
    "\n",
    "a = np.array([[1,2], [3, 4], [5, 6]])\n",
    "\n",
    "bool_idx = (a > 2)  # Find the elements of a that are bigger than 2;\n",
    "                    # this returns a numpy array of Booleans of the same\n",
    "                    # shape as a, where each slot of bool_idx tells\n",
    "                    # whether that element of a is > 2.\n",
    "\n",
    "print(bool_idx)"
   ]
  },
  {
   "cell_type": "code",
   "execution_count": null,
   "id": "f6f53002",
   "metadata": {},
   "outputs": [],
   "source": [
    "# We use boolean array indexing to construct a rank 1 array\n",
    "# consisting of the elements of a corresponding to the True values\n",
    "# of bool_idx\n",
    "print(a[bool_idx])\n",
    "\n",
    "# We can do all of the above in a single concise statement:\n",
    "print(a[a > 2])"
   ]
  },
  {
   "cell_type": "markdown",
   "id": "1e661597",
   "metadata": {},
   "source": [
    "For brevity a lot of details about numpy array indexing are left out; if you want to know more you should read the documentation."
   ]
  },
  {
   "cell_type": "markdown",
   "id": "a5b47712",
   "metadata": {},
   "source": [
    "### Datatypes\n",
    "\n",
    "Every numpy array is a grid of elements of the same type. Numpy provides a large set of numeric datatypes that you can use to construct arrays. Numpy tries to guess a datatype when you create an array, but functions that construct arrays usually also include an optional argument to explicitly specify the datatype. Here is an example:"
   ]
  },
  {
   "cell_type": "code",
   "execution_count": null,
   "id": "8babf5f2",
   "metadata": {},
   "outputs": [],
   "source": [
    "x = np.array([1, 2])  # Let numpy choose the datatype\n",
    "y = np.array([1.0, 2.0])  # Let numpy choose the datatype\n",
    "z = np.array([1, 2], dtype=np.int64)  # Force a particular datatype\n",
    "\n",
    "print(x.dtype, y.dtype, z.dtype)"
   ]
  },
  {
   "cell_type": "markdown",
   "id": "d92f5beb",
   "metadata": {},
   "source": [
    "You can read all about numpy datatypes in the [documentation](http://docs.scipy.org/doc/numpy/reference/arrays.dtypes.html)."
   ]
  },
  {
   "cell_type": "markdown",
   "id": "8e846ebe",
   "metadata": {},
   "source": [
    "### Array Math\n",
    "\n",
    "Basic mathematical functions operate elementwise on arrays, and are available both as operator overloads and as functions in the numpy module:"
   ]
  },
  {
   "cell_type": "code",
   "execution_count": null,
   "id": "4cb00ec9",
   "metadata": {},
   "outputs": [],
   "source": [
    "x = np.array([[1,2],[3,4]], dtype=np.float64)\n",
    "y = np.array([[5,6],[7,8]], dtype=np.float64)\n",
    "\n",
    "# Elementwise sum; both produce the array\n",
    "print(x + y)\n",
    "print(np.add(x, y))"
   ]
  },
  {
   "cell_type": "code",
   "execution_count": null,
   "id": "2943ea5c",
   "metadata": {},
   "outputs": [],
   "source": [
    "# Elementwise difference; both produce the array\n",
    "print(x - y)\n",
    "print(np.subtract(x, y))"
   ]
  },
  {
   "cell_type": "code",
   "execution_count": null,
   "id": "66f75bb5",
   "metadata": {},
   "outputs": [],
   "source": [
    "# Elementwise product; both produce the array\n",
    "print(x * y)\n",
    "print(np.multiply(x, y))"
   ]
  },
  {
   "cell_type": "code",
   "execution_count": null,
   "id": "40a775f6",
   "metadata": {},
   "outputs": [],
   "source": [
    "# Elementwise division; both produce the array\n",
    "# [[ 0.2         0.33333333]\n",
    "#  [ 0.42857143  0.5       ]]\n",
    "print(x / y)\n",
    "print(np.divide(x, y))"
   ]
  },
  {
   "cell_type": "code",
   "execution_count": null,
   "id": "eeb37137",
   "metadata": {},
   "outputs": [],
   "source": [
    "# Elementwise square root; produces the array\n",
    "# [[ 1.          1.41421356]\n",
    "#  [ 1.73205081  2.        ]]\n",
    "print(np.sqrt(x))"
   ]
  },
  {
   "cell_type": "markdown",
   "id": "853afb0f",
   "metadata": {},
   "source": [
    "Note that unlike MATLAB, `*` is elementwise multiplication, not matrix multiplication. We instead use the dot function to compute inner products of vectors, to multiply a vector by a matrix, and to multiply matrices. dot is available both as a function in the numpy module and as an instance method of array objects:"
   ]
  },
  {
   "cell_type": "code",
   "execution_count": null,
   "id": "ff6ea517",
   "metadata": {},
   "outputs": [],
   "source": [
    "x = np.array([[1,2],[3,4]])\n",
    "y = np.array([[5,6],[7,8]])\n",
    "\n",
    "v = np.array([9,10])\n",
    "w = np.array([11, 12])\n",
    "\n",
    "# Inner product of vectors; both produce 219\n",
    "print(v.dot(w))\n",
    "print(np.dot(v, w))"
   ]
  },
  {
   "cell_type": "markdown",
   "id": "1bf840d6",
   "metadata": {},
   "source": [
    "You can also use the `@` operator which is equivalent to numpy's `dot` operator."
   ]
  },
  {
   "cell_type": "code",
   "execution_count": null,
   "id": "0db41acc",
   "metadata": {},
   "outputs": [],
   "source": [
    "print(v @ w)"
   ]
  },
  {
   "cell_type": "code",
   "execution_count": null,
   "id": "0386a8ad",
   "metadata": {},
   "outputs": [],
   "source": [
    "# Matrix / vector product; both produce the rank 1 array [29 67]\n",
    "print(x.dot(v))\n",
    "print(np.dot(x, v))\n",
    "print(x @ v)"
   ]
  },
  {
   "cell_type": "code",
   "execution_count": null,
   "id": "1cb643fa",
   "metadata": {},
   "outputs": [],
   "source": [
    "# Matrix / matrix product; both produce the rank 2 array\n",
    "# [[19 22]\n",
    "#  [43 50]]\n",
    "print(x.dot(y))\n",
    "print(np.dot(x, y))\n",
    "print(x @ y)"
   ]
  },
  {
   "cell_type": "markdown",
   "id": "be981d1e",
   "metadata": {},
   "source": [
    "Numpy provides many useful functions for performing computations on arrays; one of the most useful is `sum`:"
   ]
  },
  {
   "cell_type": "code",
   "execution_count": null,
   "id": "fbfd65d5",
   "metadata": {},
   "outputs": [],
   "source": [
    "x = np.array([[1,2],[3,4]])\n",
    "\n",
    "print(np.sum(x))  # Compute sum of all elements; prints \"10\"\n",
    "print(np.sum(x, axis=0))  # Compute sum of each column; prints \"[4 6]\"\n",
    "print(np.sum(x, axis=1))  # Compute sum of each row; prints \"[3 7]\""
   ]
  },
  {
   "cell_type": "markdown",
   "id": "9fc4ecaf",
   "metadata": {},
   "source": [
    "You can find the full list of mathematical functions provided by numpy in the [documentation](http://docs.scipy.org/doc/numpy/reference/routines.math.html).\n",
    "\n",
    "Apart from computing mathematical functions using arrays, we frequently need to reshape or otherwise manipulate data in arrays. The simplest example of this type of operation is transposing a matrix; to transpose a matrix, simply use the T attribute of an array object:"
   ]
  },
  {
   "cell_type": "code",
   "execution_count": null,
   "id": "99919033",
   "metadata": {},
   "outputs": [],
   "source": [
    "print(x)\n",
    "print(\"transpose\\n\", x.T)"
   ]
  },
  {
   "cell_type": "code",
   "execution_count": null,
   "id": "4b0075e9",
   "metadata": {},
   "outputs": [],
   "source": [
    "v = np.array([[1,2,3]])\n",
    "print(v )\n",
    "print(\"transpose\\n\", v.T)"
   ]
  },
  {
   "cell_type": "markdown",
   "id": "6b2cb854",
   "metadata": {},
   "source": [
    "### Broadcasting\n",
    "\n",
    "Broadcasting is a powerful mechanism that allows numpy to work with arrays of different shapes when performing arithmetic operations. Frequently we have a smaller array and a larger array, and we want to use the smaller array multiple times to perform some operation on the larger array.\n",
    "\n",
    "For example, suppose that we want to add a constant vector to each row of a matrix. We could do it like this:\n"
   ]
  },
  {
   "cell_type": "code",
   "execution_count": null,
   "id": "e0fc9afb",
   "metadata": {},
   "outputs": [],
   "source": [
    "# We will add the vector v to each row of the matrix x,\n",
    "# storing the result in the matrix y\n",
    "x = np.array([[1,2,3], [4,5,6], [7,8,9], [10, 11, 12]])\n",
    "v = np.array([1, 0, 1])\n",
    "y = np.empty_like(x)   # Create an empty matrix with the same shape as x\n",
    "\n",
    "# Add the vector v to each row of the matrix x with an explicit loop\n",
    "for i in range(4):\n",
    "    y[i, :] = x[i, :] + v\n",
    "\n",
    "print(y)"
   ]
  },
  {
   "cell_type": "markdown",
   "id": "951e8112",
   "metadata": {},
   "source": [
    "This works; however when the matrix x is very large, computing an explicit loop in Python could be slow. Note that adding the vector v to each row of the matrix x is equivalent to forming a matrix vv by stacking multiple copies of v vertically, then performing elementwise summation of x and vv. We could implement this approach like this:"
   ]
  },
  {
   "cell_type": "code",
   "execution_count": null,
   "id": "277b722c",
   "metadata": {},
   "outputs": [],
   "source": [
    "vv = np.tile(v, (4, 1))  # Stack 4 copies of v on top of each other\n",
    "print(vv)                # Prints \"[[1 0 1]\n",
    "                         #          [1 0 1]\n",
    "                         #          [1 0 1]\n",
    "                         #          [1 0 1]]\""
   ]
  },
  {
   "cell_type": "code",
   "execution_count": null,
   "id": "c6cb45da",
   "metadata": {},
   "outputs": [],
   "source": [
    "y = x + vv  # Add x and vv elementwise\n",
    "print(y)"
   ]
  },
  {
   "cell_type": "markdown",
   "id": "bd2f6dd5",
   "metadata": {},
   "source": [
    "Numpy broadcasting allows us to perform this computation without actually creating multiple copies of v. Consider this version, using broadcasting:"
   ]
  },
  {
   "cell_type": "code",
   "execution_count": null,
   "id": "6cc558c5",
   "metadata": {},
   "outputs": [],
   "source": [
    "# We will add the vector v to each row of the matrix x,\n",
    "# storing the result in the matrix y\n",
    "x = np.array([[1,2,3], [4,5,6], [7,8,9], [10, 11, 12]])\n",
    "v = np.array([1, 0, 1])\n",
    "y = x + v  # Add v to each row of x using broadcasting\n",
    "print(y)"
   ]
  },
  {
   "cell_type": "markdown",
   "id": "4549897e",
   "metadata": {},
   "source": [
    "The line `y = x + v` works even though `x` has shape `(4, 3)` and `v` has shape `(3,)` due to broadcasting; this line works as if v actually had shape `(4, 3)`, where each row was a copy of `v`, and the sum was performed elementwise.\n",
    "\n",
    "Broadcasting two arrays together follows these rules:\n",
    "\n",
    "1. If the arrays do not have the same rank, prepend the shape of the lower rank array with 1s until both shapes have the same length.\n",
    "2. The two arrays are said to be compatible in a dimension if they have the same size in the dimension, or if one of the arrays has size 1 in that dimension.\n",
    "3. The arrays can be broadcast together if they are compatible in all dimensions.\n",
    "4. After broadcasting, each array behaves as if it had shape equal to the elementwise maximum of shapes of the two input arrays.\n",
    "5. In any dimension where one array had size 1 and the other array had size greater than 1, the first array behaves as if it were copied along that dimension\n",
    "\n",
    "If this explanation does not make sense, try reading the explanation from the [documentation](http://docs.scipy.org/doc/numpy/user/basics.broadcasting.html) or this [explanation](http://wiki.scipy.org/EricsBroadcastingDoc).\n",
    "\n",
    "Functions that support broadcasting are known as universal functions. You can find the list of all universal functions in the [documentation](http://docs.scipy.org/doc/numpy/reference/ufuncs.html#available-ufuncs).\n",
    "\n",
    "Here are some applications of broadcasting:"
   ]
  },
  {
   "cell_type": "code",
   "execution_count": null,
   "id": "02a2a909",
   "metadata": {},
   "outputs": [],
   "source": [
    "# Compute outer product of vectors\n",
    "v = np.array([1,2,3])  # v has shape (3,)\n",
    "w = np.array([4,5])    # w has shape (2,)\n",
    "# To compute an outer product, we first reshape v to be a column\n",
    "# vector of shape (3, 1); we can then broadcast it against w to yield\n",
    "# an output of shape (3, 2), which is the outer product of v and w:\n",
    "\n",
    "print(np.reshape(v, (3, 1)) * w)"
   ]
  },
  {
   "cell_type": "code",
   "execution_count": null,
   "id": "96cc91ea",
   "metadata": {},
   "outputs": [],
   "source": [
    "# Add a vector to each row of a matrix\n",
    "x = np.array([[1,2,3], [4,5,6]])\n",
    "# x has shape (2, 3) and v has shape (3,) so they broadcast to (2, 3),\n",
    "# giving the following matrix:\n",
    "\n",
    "print(x + v)"
   ]
  },
  {
   "cell_type": "code",
   "execution_count": null,
   "id": "8906bfdf",
   "metadata": {},
   "outputs": [],
   "source": [
    "# Add a vector to each column of a matrix\n",
    "# x has shape (2, 3) and w has shape (2,).\n",
    "# If we transpose x then it has shape (3, 2) and can be broadcast\n",
    "# against w to yield a result of shape (3, 2); transposing this result\n",
    "# yields the final result of shape (2, 3) which is the matrix x with\n",
    "# the vector w added to each column. Gives the following matrix:\n",
    "\n",
    "print((x.T + w).T)"
   ]
  },
  {
   "cell_type": "code",
   "execution_count": null,
   "id": "774af0c6",
   "metadata": {},
   "outputs": [],
   "source": [
    "# Another solution is to reshape w to be a row vector of shape (2, 1);\n",
    "# we can then broadcast it directly against x to produce the same\n",
    "# output.\n",
    "print(x + np.reshape(w, (2, 1)))"
   ]
  },
  {
   "cell_type": "code",
   "execution_count": null,
   "id": "58e7dfe0",
   "metadata": {},
   "outputs": [],
   "source": [
    "# Multiply a matrix by a constant:\n",
    "# x has shape (2, 3). Numpy treats scalars as arrays of shape ();\n",
    "# these can be broadcast together to shape (2, 3), producing the\n",
    "# following array:\n",
    "print(x * 2)"
   ]
  },
  {
   "cell_type": "markdown",
   "id": "6e588cfa",
   "metadata": {},
   "source": [
    "Broadcasting typically makes your code more concise and faster, so you should strive to use it where possible."
   ]
  },
  {
   "cell_type": "markdown",
   "id": "1029d22b",
   "metadata": {},
   "source": [
    "This brief overview has touched on many of the important things that you need to know about numpy, but is far from complete. Check out the [numpy reference](http://docs.scipy.org/doc/numpy/reference/) to find out much more about numpy."
   ]
  },
  {
   "cell_type": "markdown",
   "id": "85250408",
   "metadata": {},
   "source": [
    "### Exercises\n",
    "\n",
    "These exercises are taken from [Kaggle](https://www.kaggle.com/code/utsav15/100-numpy-exercises).\n",
    "You will find the answers at the bottom of this notebook."
   ]
  },
  {
   "cell_type": "markdown",
   "id": "09d0e618",
   "metadata": {},
   "source": [
    "**1) Create a checkerboard 8x8 matrix using the tile function**"
   ]
  },
  {
   "cell_type": "code",
   "execution_count": null,
   "id": "e3285712",
   "metadata": {},
   "outputs": [],
   "source": [
    "# Provide answer below"
   ]
  },
  {
   "cell_type": "markdown",
   "id": "79548beb",
   "metadata": {},
   "source": [
    "**2) Normalize a 5x5 random matrix (e.g. $\\frac{\\mathbf{X} - \\mu}{\\sigma}$)**"
   ]
  },
  {
   "cell_type": "code",
   "execution_count": null,
   "id": "82da5733",
   "metadata": {},
   "outputs": [],
   "source": [
    "Z = np.random.random((5,5))\n",
    "\n",
    "# Provide answer below"
   ]
  },
  {
   "cell_type": "markdown",
   "id": "2a1606fb",
   "metadata": {},
   "source": [
    " **3) Given a 1D array, negate all elements which are between 3 and 8, in place.**"
   ]
  },
  {
   "cell_type": "code",
   "execution_count": null,
   "id": "9cb8354c",
   "metadata": {},
   "outputs": [],
   "source": [
    "Z = np.arange(11)\n",
    "\n",
    "# Provide answer below"
   ]
  },
  {
   "cell_type": "markdown",
   "id": "01f4fcd2",
   "metadata": {},
   "source": [
    "**4) Create a 5x5 matrix with row values ranging from 0 to 4**"
   ]
  },
  {
   "cell_type": "code",
   "execution_count": null,
   "id": "c9e7f72d",
   "metadata": {},
   "outputs": [],
   "source": [
    "# Provide answer below"
   ]
  },
  {
   "cell_type": "markdown",
   "id": "1310ff2a",
   "metadata": {},
   "source": [
    "**5) Create random vector of size 10 and replace the maximum value by 0**"
   ]
  },
  {
   "cell_type": "code",
   "execution_count": null,
   "id": "5305ac62",
   "metadata": {},
   "outputs": [],
   "source": [
    "# Provide answer below"
   ]
  },
  {
   "cell_type": "markdown",
   "id": "9627658c",
   "metadata": {},
   "source": [
    "**6) How to find the closest value (to a given scalar) in a vector?**"
   ]
  },
  {
   "cell_type": "code",
   "execution_count": null,
   "id": "6bbc80ea",
   "metadata": {},
   "outputs": [],
   "source": [
    "Z = np.arange(100)\n",
    "v = np.random.uniform(0,100)\n",
    "print(Z)\n",
    "print(v)\n",
    "\n",
    "# Provide answer below"
   ]
  },
  {
   "cell_type": "markdown",
   "id": "0f6d9b32",
   "metadata": {},
   "source": [
    "**7) Subtract the mean of each row of a matrix**"
   ]
  },
  {
   "cell_type": "code",
   "execution_count": null,
   "id": "0afaca95",
   "metadata": {},
   "outputs": [],
   "source": [
    "X = np.random.rand(5, 10)\n",
    "print(X)\n",
    "\n",
    "# Provide answer below"
   ]
  },
  {
   "cell_type": "markdown",
   "id": "4d880c12",
   "metadata": {},
   "source": [
    "**8) Consider the vector [1, 2, 3, 4, 5], how to build a new vector with 3 consecutive zeros interleaved between each value?**"
   ]
  },
  {
   "cell_type": "code",
   "execution_count": null,
   "id": "a859fee4",
   "metadata": {},
   "outputs": [],
   "source": [
    "Z = np.array([1,2,3,4,5])\n",
    "\n",
    "# Provide answer below"
   ]
  },
  {
   "cell_type": "markdown",
   "id": "167aea6d",
   "metadata": {},
   "source": [
    "**9) How to swap two rows of an array?**"
   ]
  },
  {
   "cell_type": "code",
   "execution_count": null,
   "id": "0236fa63",
   "metadata": {},
   "outputs": [],
   "source": [
    "A = np.arange(25).reshape(5,5)\n",
    "print(A)\n",
    "# Provide answer below"
   ]
  },
  {
   "cell_type": "markdown",
   "id": "164b6d1d",
   "metadata": {},
   "source": [
    "**10) Considering a 10x3 matrix, extract rows with equal values.**"
   ]
  },
  {
   "cell_type": "code",
   "execution_count": null,
   "id": "4531d5c2",
   "metadata": {},
   "outputs": [],
   "source": [
    "Z = np.random.randint(0,5,(10,3))\n",
    "print(Z)\n",
    "\n",
    "# Provide answer below"
   ]
  },
  {
   "cell_type": "markdown",
   "id": "7434ae69",
   "metadata": {},
   "source": [
    "**11) Given a two dimensional array, extract the unique rows.**"
   ]
  },
  {
   "cell_type": "code",
   "execution_count": null,
   "id": "9cd843aa",
   "metadata": {},
   "outputs": [],
   "source": [
    "Z = np.random.randint(0,2,(6,3))\n",
    "print(Z)\n",
    "\n",
    "# Provide answer below"
   ]
  },
  {
   "cell_type": "markdown",
   "id": "78d51915",
   "metadata": {},
   "source": [
    "### Answers"
   ]
  },
  {
   "cell_type": "markdown",
   "id": "3c9b871e",
   "metadata": {},
   "source": [
    "**1) Create a checkerboard 8x8 matrix using the tile function**"
   ]
  },
  {
   "cell_type": "code",
   "execution_count": null,
   "id": "9ab89305",
   "metadata": {},
   "outputs": [],
   "source": [
    "Z = np.tile( np.array([[0,1],[1,0]]), (4,4))\n",
    "print(Z)"
   ]
  },
  {
   "cell_type": "markdown",
   "id": "e19bf779",
   "metadata": {},
   "source": [
    "**2) Normalize a 5x5 random matrix (e.g. $\\frac{\\mathbf{X} - \\mu}{\\sigma}$)**"
   ]
  },
  {
   "cell_type": "code",
   "execution_count": null,
   "id": "55e3f3ec",
   "metadata": {},
   "outputs": [],
   "source": [
    "Z = np.random.random((5,5))\n",
    "Z = (Z - np.mean (Z)) / (np.std (Z))\n",
    "print(Z)"
   ]
  },
  {
   "cell_type": "markdown",
   "id": "181ee8b0",
   "metadata": {},
   "source": [
    " **3) Given a 1D array, negate all elements which are between 3 and 8, in place.**"
   ]
  },
  {
   "cell_type": "code",
   "execution_count": null,
   "id": "04ee871c",
   "metadata": {},
   "outputs": [],
   "source": [
    "# Author: Evgeni Burovski\n",
    "\n",
    "Z = np.arange(11)\n",
    "\n",
    "# Provide answer below\n",
    "Z[(3 < Z) & (Z < 8)] *= -1\n",
    "print(Z)"
   ]
  },
  {
   "cell_type": "markdown",
   "id": "7ad76932",
   "metadata": {},
   "source": [
    "**4) Create a 5x5 matrix with row values ranging from 0 to 4**"
   ]
  },
  {
   "cell_type": "code",
   "execution_count": null,
   "id": "9143ce6f",
   "metadata": {},
   "outputs": [],
   "source": [
    "Z = np.zeros((5,5))\n",
    "Z += np.arange(5)\n",
    "print(Z)"
   ]
  },
  {
   "cell_type": "markdown",
   "id": "135568af",
   "metadata": {},
   "source": [
    "**5) Create random vector of size 10 and replace the maximum value by 0**"
   ]
  },
  {
   "cell_type": "code",
   "execution_count": null,
   "id": "f2a0a541",
   "metadata": {},
   "outputs": [],
   "source": [
    "Z = np.random.random(10)\n",
    "Z[Z.argmax()] = 0\n",
    "print(Z)"
   ]
  },
  {
   "cell_type": "markdown",
   "id": "9668396c",
   "metadata": {},
   "source": [
    "**6) How to find the closest value (to a given scalar) in a vector?**"
   ]
  },
  {
   "cell_type": "code",
   "execution_count": null,
   "id": "9890acc8",
   "metadata": {},
   "outputs": [],
   "source": [
    "Z = np.arange(100)\n",
    "v = np.random.uniform(0,100)\n",
    "index = (np.abs(Z-v)).argmin()\n",
    "print(Z[index])"
   ]
  },
  {
   "cell_type": "markdown",
   "id": "331bb00e",
   "metadata": {},
   "source": [
    "**7) Subtract the mean of each row of a matrix**"
   ]
  },
  {
   "cell_type": "code",
   "execution_count": null,
   "id": "23313285",
   "metadata": {},
   "outputs": [],
   "source": [
    "# Author: Warren Weckesser\n",
    "\n",
    "X = np.random.rand(5, 10)\n",
    "\n",
    "# Recent versions of numpy\n",
    "Y = X - X.mean(axis=1, keepdims=True)\n",
    "\n",
    "print(Y)\n",
    "\n",
    "print()\n",
    "\n",
    "# Older versions of numpy\n",
    "Y = X - X.mean(axis=1).reshape(-1, 1)\n",
    "\n",
    "print(Y)"
   ]
  },
  {
   "cell_type": "markdown",
   "id": "0e096d5b",
   "metadata": {},
   "source": [
    "**8) Consider the vector [1, 2, 3, 4, 5], how to build a new vector with 3 consecutive zeros interleaved between each value?**"
   ]
  },
  {
   "cell_type": "code",
   "execution_count": null,
   "id": "98f84fa2",
   "metadata": {},
   "outputs": [],
   "source": [
    "# Author: Warren Weckesser\n",
    "\n",
    "Z = np.array([1,2,3,4,5])\n",
    "nz = 3\n",
    "Z0 = np.zeros(len(Z) + (len(Z)-1)*(nz))\n",
    "Z0[::nz+1] = Z\n",
    "print(Z0)"
   ]
  },
  {
   "cell_type": "markdown",
   "id": "e833ab83",
   "metadata": {},
   "source": [
    "**9) How to swap two rows of an array?**"
   ]
  },
  {
   "cell_type": "code",
   "execution_count": null,
   "id": "d1126ead",
   "metadata": {},
   "outputs": [],
   "source": [
    "# Author: Eelco Hoogendoorn\n",
    "\n",
    "A = np.arange(25).reshape(5,5)\n",
    "A[[0,1]] = A[[1,0]]\n",
    "print(A)"
   ]
  },
  {
   "cell_type": "markdown",
   "id": "cf53cc0e",
   "metadata": {},
   "source": [
    "**10) Considering a 10x3 matrix, extract rows with equal values.**"
   ]
  },
  {
   "cell_type": "code",
   "execution_count": null,
   "id": "db0cd207",
   "metadata": {},
   "outputs": [],
   "source": [
    "# Author: Robert Kern\n",
    "\n",
    "Z = np.random.randint(0,5,(10,3))\n",
    "print(Z)\n",
    "print()\n",
    "\n",
    "# solution for arrays of all dtypes (including string arrays and record arrays)\n",
    "E = np.all(Z[:,1:] == Z[:,:-1], axis=1)\n",
    "U = Z[E]\n",
    "print(U)\n",
    "print()\n",
    "\n",
    "# solution for numerical arrays only, will work for any number of columns in Z\n",
    "U = Z[Z.max(axis=1) == Z.min(axis=1),:]\n",
    "print(U)"
   ]
  },
  {
   "cell_type": "markdown",
   "id": "bbc6bcb4",
   "metadata": {},
   "source": [
    "**11) Given a two dimensional array, extract the unique rows.**"
   ]
  },
  {
   "cell_type": "code",
   "execution_count": null,
   "id": "59b76bd4",
   "metadata": {},
   "outputs": [],
   "source": [
    "Z = np.random.randint(0,2,(6,3))\n",
    "# Author: Andreas Kouzelis\n",
    "# NumPy >= 1.13\n",
    "uZ = np.unique(Z, axis=0)\n",
    "print(uZ)"
   ]
  }
 ],
 "metadata": {
  "kernelspec": {
   "display_name": "Python 3 (ipykernel)",
   "language": "python",
   "name": "python3"
  },
  "language_info": {
   "codemirror_mode": {
    "name": "ipython",
    "version": 3
   },
   "file_extension": ".py",
   "mimetype": "text/x-python",
   "name": "python",
   "nbconvert_exporter": "python",
   "pygments_lexer": "ipython3",
   "version": "3.10.9"
  }
 },
 "nbformat": 4,
 "nbformat_minor": 5
}
