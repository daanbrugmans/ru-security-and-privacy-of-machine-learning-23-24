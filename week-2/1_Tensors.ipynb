{
 "cells": [
  {
   "cell_type": "markdown",
   "id": "7d796dad",
   "metadata": {},
   "source": [
    "## Tensors\n",
    "\n",
    "> Understanding tensors, the basics data structure in PyTorch \n",
    ">\n",
    "> \\- Deep Learning with PyTorch, by Eli Stevens, Luca Antiga and Thomas Viehmann -"
   ]
  },
  {
   "cell_type": "markdown",
   "id": "64252818",
   "metadata": {},
   "source": [
    "In this notebook we will provide information on what tensors are and how you can use them to prepare your data. Tensors are an important part in using PyTorch to develop and train neural networks. A lot has been written on tensors and the PyTorch framework. We collected information from many sources and tried to summarize that information in this notebook while also providing relevant exercises to test your knowledge on the topic.\n",
    "\n",
    "As this is meant only as a refresher on the topic, this is not a complete summary. So feel free to consult the mentioned sources or look up other sources if certain parts are not clear or you are interested in more background information."
   ]
  },
  {
   "cell_type": "markdown",
   "id": "00286f0a",
   "metadata": {},
   "source": [
    "**From Input to Tensor**\n",
    "\n",
    "The world as floating-point numbers. To be able to create an artificial neural network that can learn from any form of input and come up with the wanted output, we will need to transform the input into a form that the neural network can digest. When using the PyTorch framework to build networks, this means we need to turn our input into floating-point numbers which we group together in so called *tensors*. "
   ]
  },
  {
   "cell_type": "markdown",
   "id": "a582eea3",
   "metadata": {},
   "source": [
    "![title](images/world_as_floating_points.png)\n",
    "\n",
    "Image is taken from the book *Deep Learning with PyTorch*."
   ]
  },
  {
   "cell_type": "markdown",
   "id": "b48af978",
   "metadata": {},
   "source": [
    "You could think of tensors like multidimensional arrays. The number of dimensions of a specific tensor is the number of indexes used to refer to the scalar value inside that tensor. Some important features of tensors are:\n",
    "\n",
    "- The ability to be stored on graphics processing units (GPU) for parallel and fast computations.\n",
    "- Operation distribution across multiple devices or machines.\n",
    "- Keeping track of the graph of computations that created them (comes in handy with backpropagation). "
   ]
  },
  {
   "cell_type": "markdown",
   "id": "61376c7f",
   "metadata": {},
   "source": [
    "**Note:** The information and exercises below are taken from the following link: [Basics of PyTorch](https://deeplearning.neuromatch.io/tutorials/W1D1_BasicsAndPytorch/student/W1D1_Tutorial1.html#section-2-1-creating-tensors). You will find more information on PyTorch there but this notebook only focuses on tensors."
   ]
  },
  {
   "cell_type": "markdown",
   "id": "05cb4b61",
   "metadata": {},
   "source": [
    "### Lets import PyTorch (and NumPy)"
   ]
  },
  {
   "cell_type": "code",
   "execution_count": null,
   "id": "24d7b668",
   "metadata": {},
   "outputs": [],
   "source": [
    "import torch\n",
    "import numpy as np"
   ]
  },
  {
   "cell_type": "markdown",
   "id": "8bfda6ff",
   "metadata": {},
   "source": [
    "### Creating Tensors"
   ]
  },
  {
   "cell_type": "markdown",
   "id": "8e6c8cd7",
   "metadata": {},
   "source": [
    "#### Construct tensors directly"
   ]
  },
  {
   "cell_type": "markdown",
   "id": "127a6074",
   "metadata": {},
   "source": [
    "You can create a tensor directly from some common python iterables, such as lists or tuples. Nested iterables can also be handled as long as the dimensions are compatible."
   ]
  },
  {
   "cell_type": "code",
   "execution_count": null,
   "id": "662889c5",
   "metadata": {},
   "outputs": [],
   "source": [
    "# tensor from a list\n",
    "a = torch.tensor([0, 1, 2])\n",
    "\n",
    "#tensor from a tuple of tuples\n",
    "b = ((1.0, 1.1), (1.2, 1.3))\n",
    "b = torch.tensor(b)\n",
    "\n",
    "# tensor from a numpy array\n",
    "c = np.ones([2, 3])\n",
    "c = torch.tensor(c)\n",
    "\n",
    "print(f\"Tensor a: {a}\")\n",
    "print(f\"Tensor b: {b}\")\n",
    "print(f\"Tensor c: {c}\")"
   ]
  },
  {
   "cell_type": "markdown",
   "id": "14294719",
   "metadata": {},
   "source": [
    "#### Some common tensor constructors:"
   ]
  },
  {
   "cell_type": "markdown",
   "id": "8f50a9b8",
   "metadata": {},
   "source": [
    "The numerical arguments you pass to these constructors determine the shape of the output tensor."
   ]
  },
  {
   "cell_type": "code",
   "execution_count": null,
   "id": "b8ba0396",
   "metadata": {},
   "outputs": [],
   "source": [
    "x = torch.ones(5, 3)\n",
    "y = torch.zeros(2)\n",
    "z = torch.empty(1, 1, 5)\n",
    "print(f\"Tensor x: {x}\")\n",
    "print(f\"Tensor y: {y}\")\n",
    "print(f\"Tensor z: {z}\")"
   ]
  },
  {
   "cell_type": "markdown",
   "id": "12048e48",
   "metadata": {},
   "source": [
    "Notice that `.empty()` does not return zeros, but seemingly random numbers. Unlike `.zeros()`, which initialises the elements of the tensor with zeros, `.empty()` just allocates the memory. It is hence a bit faster if you are looking to just create a tensor."
   ]
  },
  {
   "cell_type": "markdown",
   "id": "ae6fb886",
   "metadata": {},
   "source": [
    "#### Creating random tensors and tensor like other tensors:"
   ]
  },
  {
   "cell_type": "markdown",
   "id": "153ce0cb",
   "metadata": {},
   "source": [
    "You can also use constructors for random numbers."
   ]
  },
  {
   "cell_type": "code",
   "execution_count": null,
   "id": "bf5ffb93",
   "metadata": {},
   "outputs": [],
   "source": [
    "# Uniform distribution\n",
    "a = torch.rand(1, 3)\n",
    "\n",
    "# Normal distribution\n",
    "b = torch.randn(3, 4)\n",
    "\n",
    "print(f\"Tensor a: {a}\")\n",
    "print(f\"Tensor b: {b}\")"
   ]
  },
  {
   "cell_type": "markdown",
   "id": "d28ba7a7",
   "metadata": {},
   "source": [
    "Or constructors that allow you to construct a tensor, just like the once earlier, but with dimensions equal to another tensor."
   ]
  },
  {
   "cell_type": "code",
   "execution_count": null,
   "id": "2b7a1f89",
   "metadata": {},
   "outputs": [],
   "source": [
    "c = torch.zeros_like(a)\n",
    "d = torch.rand_like(c)\n",
    "\n",
    "print(f\"Tensor c: {c}\")\n",
    "print(f\"Tensor d: {d}\")"
   ]
  },
  {
   "cell_type": "markdown",
   "id": "941c77e0",
   "metadata": {},
   "source": [
    "#### Reproducibility"
   ]
  },
  {
   "cell_type": "markdown",
   "id": "b4f56152",
   "metadata": {},
   "source": [
    "With PyTorch Random Number Generator (RNG), you can use the `torch.manual_seed()` to seed the RNG for all devices (both CPU and GPU):"
   ]
  },
  {
   "cell_type": "code",
   "execution_count": null,
   "id": "a5307f3c",
   "metadata": {},
   "outputs": [],
   "source": [
    "import torch\n",
    "torch.manual_seed(0)"
   ]
  },
  {
   "cell_type": "markdown",
   "id": "28daefdb",
   "metadata": {},
   "source": [
    "for custom operators, you might need to set python seed as well:"
   ]
  },
  {
   "cell_type": "code",
   "execution_count": null,
   "id": "8b17e32d",
   "metadata": {},
   "outputs": [],
   "source": [
    "import random\n",
    "random.seed(0)"
   ]
  },
  {
   "cell_type": "markdown",
   "id": "f9bb9915",
   "metadata": {},
   "source": [
    "For random number generators in other libraries (e.g., NumPy):"
   ]
  },
  {
   "cell_type": "code",
   "execution_count": null,
   "id": "e9613d0e",
   "metadata": {},
   "outputs": [],
   "source": [
    "import numpy as np\n",
    "np.random.seed(0)"
   ]
  },
  {
   "cell_type": "markdown",
   "id": "1cd9e18e",
   "metadata": {},
   "source": [
    "#### Numpy-like number ranges:"
   ]
  },
  {
   "cell_type": "markdown",
   "id": "0414268c",
   "metadata": {},
   "source": [
    "The `.arange()` and `.linspace()` behave how you would expect them to if you are familiar with NumPy."
   ]
  },
  {
   "cell_type": "code",
   "execution_count": null,
   "id": "798f928b",
   "metadata": {},
   "outputs": [],
   "source": [
    "a = torch.arange(0, 10, step=1)\n",
    "b = np.arange(0, 10, step=1)\n",
    "\n",
    "c = torch.linspace(0, 5, steps=11)\n",
    "d = np.linspace(0, 5, num=11)\n",
    "\n",
    "print(f\"Tensor a: {a}\\n\")\n",
    "print(f\"Numpy array b: {b}\\n\")\n",
    "print(f\"Tensor c: {c}\\n\")\n",
    "print(f\"Numpy array d: {d}\\n\")"
   ]
  },
  {
   "cell_type": "markdown",
   "id": "ec797e2d",
   "metadata": {},
   "source": [
    "#### Exercises"
   ]
  },
  {
   "cell_type": "markdown",
   "id": "e3d47211",
   "metadata": {},
   "source": [
    "**Creating Tensors**\n",
    "\n",
    "Below you will find some incomplete code. Fill in the missing code to construct the specified tensors.\n",
    "\n",
    "We want the tensors:\n",
    "\n",
    "1) 20 by 21 tensor consisting of ones\n",
    "2) a tensor with elements equal to the elements of numpy array `Z`\n",
    "3) a tensor with the same number of elements as `A` but with values `~U(0,1)`*\n",
    "4) a 1D tensor containing the even numbers between 4 and 40 inclusive. \n",
    "\n",
    "*U($\\alpha$,$\\beta$) denotes the uniform distribution from $\\alpha$ to $\\beta$, with $\\alpha$,$\\beta$$\\in$ $\\mathbb{R}$\n",
    "\n",
    "**You will find the answers at the end of this notebook."
   ]
  },
  {
   "cell_type": "code",
   "execution_count": null,
   "id": "5665f267",
   "metadata": {},
   "outputs": [],
   "source": [
    "def tensor_creation(Z):\n",
    "  \"\"\"\n",
    "  A function that creates various tensors.\n",
    "\n",
    "  Args:\n",
    "    Z: numpy.ndarray\n",
    "      An array of shape (3,4)\n",
    "\n",
    "  Returns:\n",
    "    A : Tensor\n",
    "      20 by 21 tensor consisting of ones\n",
    "    B : Tensor\n",
    "      A tensor with elements equal to the elements of numpy array Z\n",
    "    C : Tensor\n",
    "      A tensor with the same number of elements as A but with values ∼U(0,1)\n",
    "    D : Tensor\n",
    "      A 1D tensor containing the even numbers between 4 and 40 inclusive.\n",
    "  \"\"\"\n",
    "  #################################################\n",
    "  ## TODO for students: fill in the missing code\n",
    "  ## from the first expression\n",
    "  raise NotImplementedError(\"Student exercise: say what they should have done\")\n",
    "  #################################################\n",
    "  A = ...\n",
    "  B = ...\n",
    "  C = ...\n",
    "  D = ...\n",
    "\n",
    "  return A, B, C, D\n",
    "\n",
    "\n",
    "# numpy array to copy later\n",
    "Z = np.vander([1, 2, 3], 4)\n",
    "\n",
    "# Uncomment below to check your function!\n",
    "A, B, C, D = tensor_creation(Z)\n",
    "print(f\"Z = \\n {Z}\")\n",
    "print(f\"Shape Z = {Z.shape}\")\n",
    "print()\n",
    "print(f\"A = \\n {A}\")\n",
    "print(f\"Shape A = {A.shape}\")\n",
    "print()\n",
    "print(f\"B = \\n {B}\")\n",
    "print()\n",
    "print(f\"C = \\n {C}\")\n",
    "print(f\"Shape C = {C.shape}\")\n",
    "print()\n",
    "print(f\"D = \\n {D}\")\n",
    "print(f\"Shape D = {D.shape}\")"
   ]
  },
  {
   "cell_type": "markdown",
   "id": "ae7c0111",
   "metadata": {},
   "source": [
    "### Operations in PyTorch"
   ]
  },
  {
   "cell_type": "markdown",
   "id": "d852286e",
   "metadata": {},
   "source": [
    "#### Tensor-Tensor Operations"
   ]
  },
  {
   "cell_type": "markdown",
   "id": "69755ddb",
   "metadata": {},
   "source": [
    "You can perform operations on tensors using methods under torch."
   ]
  },
  {
   "cell_type": "code",
   "execution_count": null,
   "id": "38902167",
   "metadata": {},
   "outputs": [],
   "source": [
    "a = torch.ones(5, 3)\n",
    "b = torch.rand(5, 3)\n",
    "c = torch.empty(5, 3)\n",
    "d = torch.empty(5, 3)\n",
    "\n",
    "# this only works if c and d already exist\n",
    "torch.add(a, b, out=c)\n",
    "\n",
    "# Pointwise Multiplication of a and b\n",
    "torch.multiply(a, b, out=d)\n",
    "\n",
    "print(c)\n",
    "print(d)"
   ]
  },
  {
   "cell_type": "markdown",
   "id": "7b558161",
   "metadata": {},
   "source": [
    "However, in PyTorch, most common Python operators are overridden. The common standard arithmetic operators ($+$,$-$,$*$,$/$, and $**$) have all been lifted to elementwise operations."
   ]
  },
  {
   "cell_type": "code",
   "execution_count": null,
   "id": "2c1ae48e",
   "metadata": {},
   "outputs": [],
   "source": [
    "x = torch.tensor([1, 2, 4, 8])\n",
    "y = torch.tensor([1, 2, 3, 4])\n",
    "x + y, x - y, x * y, x / y, x**y  # The `**` is the exponentiation operator"
   ]
  },
  {
   "cell_type": "markdown",
   "id": "ae799315",
   "metadata": {},
   "source": [
    "#### Tensor Methods"
   ]
  },
  {
   "cell_type": "markdown",
   "id": "2fb4a2cb",
   "metadata": {},
   "source": [
    "There are also a number of common arithmetic operations built in with tensors. You can find a full list of all methods by clicking on [this link](https://pytorch.org/docs/stable/tensors.html).\n",
    "\n",
    "All of these operations will have a similar syntax to their NumPy equivalents."
   ]
  },
  {
   "cell_type": "code",
   "execution_count": null,
   "id": "aee72790",
   "metadata": {},
   "outputs": [],
   "source": [
    "x = torch.rand(3, 3)\n",
    "print(x)\n",
    "print(\"\\n\")\n",
    "# sum() - note the axis is the axis you move across when summing\n",
    "print(f\"Sum of every element of x: {x.sum()}\")\n",
    "print(f\"Sum of the columns of x: {x.sum(axis=0)}\")\n",
    "print(f\"Sum of the rows of x: {x.sum(axis=1)}\")\n",
    "print(\"\\n\")\n",
    "\n",
    "print(f\"Mean value of all elements of x {x.mean()}\")\n",
    "print(f\"Mean values of the columns of x {x.mean(axis=0)}\")\n",
    "print(f\"Mean values of the rows of x {x.mean(axis=1)}\")"
   ]
  },
  {
   "cell_type": "markdown",
   "id": "1a2a12e1",
   "metadata": {},
   "source": [
    "#### Matrix Operations"
   ]
  },
  {
   "cell_type": "markdown",
   "id": "cd4d7890",
   "metadata": {},
   "source": [
    "The `@` symbol is overridden to represent matrix multiplication. You can also use `torch.matmul()` to multiply tensors. For dot multiplication, you can use `torch.dot()`, or manipulate the axes of your tensors and do matrix multiplication (we will cover that in the next section).\n",
    "\n",
    "Transposes of 2D tensors are obtained using `torch.t()` or `Tensor.T`. Note the lack of brackets for `Tensor.T` - it is an attribute, not a method."
   ]
  },
  {
   "cell_type": "code",
   "execution_count": null,
   "id": "07b329e3",
   "metadata": {},
   "outputs": [],
   "source": [
    "# matrix multiplication\n",
    "\n",
    "# vector x vector\n",
    "tensor1 = torch.randn(3)\n",
    "tensor2 = torch.randn(3)\n",
    "print(torch.matmul(tensor1, tensor2).size())\n",
    "print((tensor1 @ tensor2).size())\n",
    "print(torch.matmul(tensor1, tensor2))\n",
    "print(tensor1 @ tensor2)\n",
    "\n",
    "print()\n",
    "# matrix x vector\n",
    "tensor1 = torch.randn(3, 4)\n",
    "tensor2 = torch.randn(4)\n",
    "print(torch.matmul(tensor1, tensor2).size())\n",
    "print((tensor1 @ tensor2).size())\n",
    "print(torch.matmul(tensor1, tensor2))\n",
    "print(tensor1 @ tensor2)\n",
    "\n",
    "print()\n",
    "# batched matrix x broadcasted vector\n",
    "tensor1 = torch.randn(10, 3, 4)\n",
    "tensor2 = torch.randn(4)\n",
    "print(torch.matmul(tensor1, tensor2).size())\n",
    "print((tensor1 @ tensor2).size())\n",
    "print(torch.matmul(tensor1, tensor2))\n",
    "print(tensor1 @ tensor2)\n",
    "\n",
    "print()\n",
    "# batched matrix x batched matrix\n",
    "tensor1 = torch.randn(10, 3, 4)\n",
    "tensor2 = torch.randn(10, 4, 5)\n",
    "print(torch.matmul(tensor1, tensor2).size())\n",
    "print((tensor1 @ tensor2).size())\n",
    "print(torch.matmul(tensor1, tensor2))\n",
    "print(tensor1 @ tensor2)\n",
    "\n",
    "print()\n",
    "# batched matrix x broadcasted matrix\n",
    "tensor1 = torch.randn(10, 3, 4)\n",
    "tensor2 = torch.randn(4, 5)\n",
    "print(torch.matmul(tensor1, tensor2).size())\n",
    "print((tensor1 @ tensor2).size())\n",
    "print(torch.matmul(tensor1, tensor2))\n",
    "print(tensor1 @ tensor2)"
   ]
  },
  {
   "cell_type": "code",
   "execution_count": null,
   "id": "f98898c0",
   "metadata": {},
   "outputs": [],
   "source": [
    "# dot product\n",
    "\n",
    "torch.dot(torch.tensor([2, 3]), torch.tensor([2, 1]))"
   ]
  },
  {
   "cell_type": "code",
   "execution_count": null,
   "id": "0270110f",
   "metadata": {},
   "outputs": [],
   "source": [
    "# transpose\n",
    "\n",
    "x = torch.randn(())\n",
    "print(x)\n",
    "print(torch.t(x))\n",
    "print(x.T)\n",
    "\n",
    "print()\n",
    "x = torch.randn(3)\n",
    "print(x)\n",
    "print(torch.t(x))\n",
    "print(x.T)\n",
    "\n",
    "print()\n",
    "x = torch.randn(2, 3)\n",
    "print(x)\n",
    "print(torch.t(x))\n",
    "print(x.T)"
   ]
  },
  {
   "cell_type": "markdown",
   "id": "39ffd6e8",
   "metadata": {},
   "source": [
    "#### Exercises"
   ]
  },
  {
   "cell_type": "markdown",
   "id": "58d04768",
   "metadata": {},
   "source": [
    "**Simple tensor operations**\n",
    "\n",
    "Below are two expressions involving operations on matrices:\n",
    "\n",
    "$$\\mathbb{A}= \\begin{bmatrix} 2 & 4 \\\\ 5 & 7\\end{bmatrix}\\begin{bmatrix} 1 & 1 \\\\ 2 & 3 \\end{bmatrix} + \\begin{bmatrix} 10 & 10 \\\\ 12 & 1\\end{bmatrix}$$\n",
    "\n",
    "$$\\text{and}$$\n",
    "\n",
    "$$\\mathbb{b}= \\begin{bmatrix} 3 \\\\ 5 \\\\ 7 \\end{bmatrix} . \\begin{bmatrix} 2 \\\\ 4 \\\\ 8 \\end{bmatrix}$$\n",
    "\n",
    "The code block below that computes these expressions using PyTorch is incomplete - fill in the missing lines.\n",
    "\n",
    "**You will find the answers at the end of this notebook."
   ]
  },
  {
   "cell_type": "code",
   "execution_count": null,
   "id": "b290be04",
   "metadata": {},
   "outputs": [],
   "source": [
    "def simple_operations(a1: torch.Tensor, a2: torch.Tensor, a3: torch.Tensor):\n",
    "  \"\"\"\n",
    "  Helper function to demonstrate simple operations\n",
    "  i.e., Multiplication of tensor a1 with tensor a2 and then add it with tensor a3\n",
    "\n",
    "  Args:\n",
    "    a1: Torch tensor\n",
    "      Tensor of size ([2,2])\n",
    "    a2: Torch tensor\n",
    "      Tensor of size ([2,2])\n",
    "    a3: Torch tensor\n",
    "      Tensor of size ([2,2])\n",
    "\n",
    "  Returns:\n",
    "    answer: Torch tensor\n",
    "      Tensor of size ([2,2]) resulting from a1 multiplied with a2, added with a3\n",
    "  \"\"\"\n",
    "  ################################################\n",
    "  ## TODO for students:  complete the first computation using the argument matricies\n",
    "  raise NotImplementedError(\"Student exercise: fill in the missing code to complete the operation\")\n",
    "  ################################################\n",
    "  #\n",
    "  answer = ...\n",
    "  return answer\n",
    "\n",
    "# Computing expression 1:\n",
    "\n",
    "# init our tensors\n",
    "a1 = torch.tensor([[2, 4], [5, 7]])\n",
    "a2 = torch.tensor([[1, 1], [2, 3]])\n",
    "a3 = torch.tensor([[10, 10], [12, 1]])\n",
    "## uncomment to test your function\n",
    "# A = simple_operations(a1, a2, a3)\n",
    "# print(A)\n",
    "assert torch.equal(A,torch.tensor([[20, 24],[31, 27]]))"
   ]
  },
  {
   "cell_type": "code",
   "execution_count": null,
   "id": "093e933a",
   "metadata": {},
   "outputs": [],
   "source": [
    "def dot_product(b1: torch.Tensor, b2: torch.Tensor):\n",
    "  ###############################################\n",
    "  ## TODO for students:  complete the first computation using the argument matricies\n",
    "  raise NotImplementedError(\"Student exercise: fill in the missing code to complete the operation\")\n",
    "  ###############################################\n",
    "  \"\"\"\n",
    "  Helper function to demonstrate dot product operation\n",
    "  Dot product is an algebraic operation that takes two equal-length sequences\n",
    "  (usually coordinate vectors), and returns a single number.\n",
    "  Geometrically, it is the product of the Euclidean magnitudes of the\n",
    "  two vectors and the cosine of the angle between them.\n",
    "\n",
    "  Args:\n",
    "    b1: Torch tensor\n",
    "      Tensor of size ([3])\n",
    "    b2: Torch tensor\n",
    "      Tensor of size ([3])\n",
    "\n",
    "  Returns:\n",
    "    product: Tensor\n",
    "      Tensor of size ([1]) resulting from b1 scalar multiplied with b2\n",
    "  \"\"\"\n",
    "  # Use torch.dot() to compute the dot product of two tensors\n",
    "  product = ...\n",
    "  return product\n",
    "\n",
    "# Computing expression 2:\n",
    "b1 = torch.tensor([3, 5, 7])\n",
    "b2 = torch.tensor([2, 4, 8])\n",
    "## Uncomment to test your function\n",
    "# b = dot_product(b1, b2)\n",
    "# print(b)\n",
    "assert torch.equal(b, torch.tensor(82))"
   ]
  },
  {
   "cell_type": "markdown",
   "id": "944bf125",
   "metadata": {},
   "source": [
    "### Manipulating Tensors in PyTorch"
   ]
  },
  {
   "cell_type": "markdown",
   "id": "5b39db6d",
   "metadata": {},
   "source": [
    "#### Tensor Indexing"
   ]
  },
  {
   "cell_type": "markdown",
   "id": "a3bd9ed9",
   "metadata": {},
   "source": [
    "You can access elements in a tensor by index. Like with any numpy array, the first element has index 0 and ranges are specified to include the first to second to last (n-1). You can access elements according to their relative position to the end of the list by using negative indices. Another name for indexing is slicing.\n",
    "\n",
    "For example, `[-1]` picks the last element from a tensor; `[1:3]` selects the second and the third elements and `[:-2]` will select all elements excluding the last and second-to-last elements."
   ]
  },
  {
   "cell_type": "code",
   "execution_count": null,
   "id": "e3e7089e",
   "metadata": {},
   "outputs": [],
   "source": [
    "x = torch.arange(0, 10)\n",
    "print(x)\n",
    "print(x[-1])\n",
    "print(x[1:3])\n",
    "print(x[:-2])"
   ]
  },
  {
   "cell_type": "markdown",
   "id": "1cdcbec5",
   "metadata": {},
   "source": [
    "When you have multidimensional tensors, indexing rules work the same way as in NumPy."
   ]
  },
  {
   "cell_type": "code",
   "execution_count": null,
   "id": "d17e959c",
   "metadata": {},
   "outputs": [],
   "source": [
    "# make a 5D tensor\n",
    "x = torch.rand(1, 2, 3, 4, 5)\n",
    "\n",
    "print(f\" shape of x[0]:{x[0].shape}\")\n",
    "print(f\" shape of x[0][0]:{x[0][0].shape}\")\n",
    "print(f\" shape of x[0][0][0]:{x[0][0][0].shape}\")"
   ]
  },
  {
   "cell_type": "markdown",
   "id": "c57e0c38",
   "metadata": {},
   "source": [
    "#### Flatten and Reshape"
   ]
  },
  {
   "cell_type": "markdown",
   "id": "6d1ddfb5",
   "metadata": {},
   "source": [
    "To reshape tensors, you can make use of various methods. It is common to have to express 2D data in 1D format or vice versa. You can achieve this with the `.flatten()` and `.reshape()` methods."
   ]
  },
  {
   "cell_type": "code",
   "execution_count": null,
   "id": "f48f0b8b",
   "metadata": {},
   "outputs": [],
   "source": [
    "z = torch.arange(12).reshape(6, 2)\n",
    "print(f\"Original z: \\n {z}\")\n",
    "\n",
    "# 2D -> 1D\n",
    "z = z.flatten()\n",
    "print(f\"Flattened z: \\n {z}\")\n",
    "\n",
    "# and back to 2D\n",
    "z = z.reshape(3, 4)\n",
    "print(f\"Reshaped (3x4) z: \\n {z}\")\n",
    "\n",
    "z = z.flatten()\n",
    "print(f\"Flattened z: \\n {z}\")\n",
    "\n",
    "z = z.view(6, 2)\n",
    "print(f\"Using view to reshape to (6x2) z: \\n {z}\")"
   ]
  },
  {
   "cell_type": "markdown",
   "id": "2f5a32eb",
   "metadata": {},
   "source": [
    "You will also see the `.view()` methods used a lot to reshape tensors. There is a subtle [difference](https://stackoverflow.com/questions/49643225/whats-the-difference-between-reshape-and-view-in-pytorch) between `.view()` and `.reshape()`."
   ]
  },
  {
   "cell_type": "markdown",
   "id": "28ddc5d5",
   "metadata": {},
   "source": [
    "#### Squeezing Tensors"
   ]
  },
  {
   "cell_type": "markdown",
   "id": "653c5082",
   "metadata": {},
   "source": [
    "When processing batches of data, you will quite often be left with singleton dimensions. E.g., `[1,10]` or `[256, 1, 3]`. This dimension can quite easily mess up your matrix operations if you don’t plan on it being there.\n",
    "\n",
    "In order to compress tensors along their singleton dimensions we can use the `.squeeze()` method. We can use the `.unsqueeze()` method to do the opposite."
   ]
  },
  {
   "cell_type": "code",
   "execution_count": null,
   "id": "92dda4fd",
   "metadata": {},
   "outputs": [],
   "source": [
    "x = torch.randn(1, 10)\n",
    "# printing the zeroth element of the tensor will not give us the first number!\n",
    "\n",
    "print(x.shape)\n",
    "print(f\"x[0]: {x[0]}\")"
   ]
  },
  {
   "cell_type": "markdown",
   "id": "f3b6b9d0",
   "metadata": {},
   "source": [
    "Because of the singleton dimension, `x[0]` gives us the first row instead."
   ]
  },
  {
   "cell_type": "code",
   "execution_count": null,
   "id": "e296bae2",
   "metadata": {},
   "outputs": [],
   "source": [
    "# Let's get rid of that singleton dimension and see what happens now\n",
    "x = x.squeeze(0)\n",
    "print(x.shape)\n",
    "print(f\"x[0]: {x[0]}\")"
   ]
  },
  {
   "cell_type": "code",
   "execution_count": null,
   "id": "42331695",
   "metadata": {},
   "outputs": [],
   "source": [
    "# Adding singleton dimensions works a similar way, and is often used when tensors\n",
    "# being added need same number of dimensions\n",
    "\n",
    "y = torch.randn(5, 5)\n",
    "print(f\"Shape of y: {y.shape}\")\n",
    "\n",
    "# lets insert a singleton dimension\n",
    "y = y.unsqueeze(1)\n",
    "print(f\"Shape of y: {y.shape}\")"
   ]
  },
  {
   "cell_type": "markdown",
   "id": "6b2b9fb9",
   "metadata": {},
   "source": [
    "#### Permutations"
   ]
  },
  {
   "cell_type": "markdown",
   "id": "b0a49ac0",
   "metadata": {},
   "source": [
    "Sometimes your dimensions will be in the wrong order. For example, you may be dealing with RGB images with dim `[3×48×64]`, but your pipeline expects the colour dimension to be the last dimension, i.e., `[48×64×3]`. To get around this you can use the `.permute()` method."
   ]
  },
  {
   "cell_type": "code",
   "execution_count": null,
   "id": "f0d2ad7c",
   "metadata": {},
   "outputs": [],
   "source": [
    "# `x` has dimensions [color,image_height,image_width]\n",
    "x = torch.rand(3, 48, 64)\n",
    "\n",
    "# We want to permute our tensor to be [ image_height , image_width , color ]\n",
    "x = x.permute(1, 2, 0)\n",
    "# permute(1,2,0) means:\n",
    "# The 0th dim of my new tensor = the 1st dim of my old tensor\n",
    "# The 1st dim of my new tensor = the 2nd\n",
    "# The 2nd dim of my new tensor = the 0th\n",
    "print(x.shape)"
   ]
  },
  {
   "cell_type": "markdown",
   "id": "09a29c31",
   "metadata": {},
   "source": [
    "You may also see `.transpose()` used. This works in a similar way as permute, but can only swap two dimensions at once."
   ]
  },
  {
   "cell_type": "markdown",
   "id": "69d23ede",
   "metadata": {},
   "source": [
    "#### Concatenation"
   ]
  },
  {
   "cell_type": "markdown",
   "id": "9b1f1144",
   "metadata": {},
   "source": [
    "In this example, two matrices are concatenated along rows (axis 0, the first element of the shape) vs. columns (axis 1, the second element of the shape). You can see that the first output tensor’s axis-0 length (`6`) is the sum of the two input tensors’ axis-0 lengths (`3+3`); while the second output tensor’s axis-1 length (`8`) is the sum of the two input tensors’ axis-1 lengths (`4+4`)."
   ]
  },
  {
   "cell_type": "code",
   "execution_count": null,
   "id": "ec3cba77",
   "metadata": {},
   "outputs": [],
   "source": [
    "# Create two tensors of the same shape\n",
    "x = torch.arange(12, dtype=torch.float32).reshape((3, 4))\n",
    "y = torch.tensor([[2.0, 1, 4, 3], [1, 2, 3, 4], [4, 3, 2, 1]])\n",
    "\n",
    "\n",
    "# Concatenate along rows\n",
    "cat_rows = torch.cat((x, y), dim=0)\n",
    "\n",
    "# Concatenate along columns\n",
    "cat_cols = torch.cat((x, y), dim=1)\n",
    "\n",
    "# Printing outputs\n",
    "print('Concatenated by rows: shape{} \\n {}'.format(list(cat_rows.shape), cat_rows))\n",
    "print('\\n Concatenated by colums: shape{}  \\n {}'.format(list(cat_cols.shape), cat_cols))"
   ]
  },
  {
   "cell_type": "markdown",
   "id": "7508d935",
   "metadata": {},
   "source": [
    "#### Conversion to Other Python Objects"
   ]
  },
  {
   "cell_type": "markdown",
   "id": "911f0cb5",
   "metadata": {},
   "source": [
    "Converting a tensor to a numpy.ndarray, or vice versa, is easy, and the converted result does not share memory. This minor inconvenience is quite important: when you perform operations on the CPU or GPUs, you do not want to halt computation, waiting to see whether the NumPy package of Python might want to be doing something else with the same chunk of memory.\n",
    "\n",
    "When converting to a NumPy array, the information being tracked by the tensor will be lost, i.e., the computational graph."
   ]
  },
  {
   "cell_type": "code",
   "execution_count": null,
   "id": "47eba6ea",
   "metadata": {},
   "outputs": [],
   "source": [
    "x = torch.randn(5)\n",
    "print(f\"x: {x}  |  x type:  {x.type()}\")\n",
    "\n",
    "y = x.numpy()\n",
    "print(f\"y: {y}  |  y type:  {type(y)}\")\n",
    "\n",
    "z = torch.tensor(y)\n",
    "print(f\"z: {z}  |  z type:  {z.type()}\")"
   ]
  },
  {
   "cell_type": "markdown",
   "id": "ff006be2",
   "metadata": {},
   "source": [
    "To convert a size-1 tensor to a Python scalar, you can invoke the item function or Python’s built-in functions."
   ]
  },
  {
   "cell_type": "code",
   "execution_count": null,
   "id": "17f3ac3e",
   "metadata": {},
   "outputs": [],
   "source": [
    "a = torch.tensor([3.5])\n",
    "a, a.item(), float(a), int(a)"
   ]
  },
  {
   "cell_type": "markdown",
   "id": "c08c0439",
   "metadata": {},
   "source": [
    "#### Exercises"
   ]
  },
  {
   "cell_type": "markdown",
   "id": "0de25bd4",
   "metadata": {},
   "source": [
    "**Simple tensor operations**\n",
    "\n",
    "Using a combination of the methods discussed above, complete the functions below:\n",
    "\n",
    "**Function A**\n",
    "\n",
    "This function takes in two 2D tensors $A$ and $B$ and returns the column sum of $A$ multiplied by the sum of all elements of $B$, i.e., a scalar, e.g.,\n",
    "\n",
    "$$\\text{If } A = \\begin{bmatrix} 1 & 1 \\\\ 1 & 1 \\end{bmatrix} \\text{and } B = \\begin{bmatrix} 1 & 2 & 3 \\\\ 1 & 2 & 3 \\end{bmatrix} \\text{then } Out = \\begin{bmatrix} 2 & 2 \\end{bmatrix} . 12 = \\begin{bmatrix} 24 & 24 \\end{bmatrix}$$\n",
    "\n",
    "**Function B**\n",
    "\n",
    "This functions takes in a square matric $C$ and returns a 2D tensor consisting of a flattened $C$ with the index of each element appended to this tensor in the row dimension, e.g.,\n",
    "\n",
    "$$\\text{If } C = \\begin{bmatrix} 2 & 3 \\\\ -1 & 10 \\end{bmatrix} \\text{then } Out = \\begin{bmatrix} 0 & 2 \\\\ 1 & 3 \\\\ 2 & -1 \\\\ 3 & 10 \\end{bmatrix}$$\n",
    "\n",
    "**Hint:** Pay close attention to singleton dimensions.\n",
    "\n",
    "**Function C**\n",
    "\n",
    "This function takes in two 2D tensors $D$ and $E$. If the dimensions allow it, this function returns the elementwise sum of D-shaped $E$, and $D$; else this function returns a 1D tensor that is the concatenation of the two tensors, e.g.,\n",
    "\n",
    "$$\\text{If } D = \\begin{bmatrix} 1 & -1 \\\\ -1 & 3 \\end{bmatrix} \\text{and } E = \\begin{bmatrix} 2 & 3 & 0 & 2 \\end{bmatrix} \\text{then } Out = \\begin{bmatrix} 3 & 2 \\\\ -1 & 5 \\end{bmatrix}$$\n",
    "\n",
    "$$\\text{If } D = \\begin{bmatrix} 1 & -1 \\\\ -1 & 3 \\end{bmatrix} \\text{and } E = \\begin{bmatrix} 2 & 3 & 0 \\end{bmatrix} \\text{then } Out = \\begin{bmatrix} 1 & -1 & -1 & 3 & 2 & 3 & 0 \\end{bmatrix}$$\n",
    "\n",
    "**Hint:** `torch.numel()` is an easy way of finding the number of elements in a tensor.\n",
    "\n",
    "**You will find the answers at the end of this notebook."
   ]
  },
  {
   "cell_type": "code",
   "execution_count": null,
   "id": "f695cfe0",
   "metadata": {},
   "outputs": [],
   "source": [
    "def functionA(my_tensor1, my_tensor2):\n",
    "  \"\"\"\n",
    "  This function takes in two 2D tensors `my_tensor1` and `my_tensor2`\n",
    "  and returns the column sum of\n",
    "  `my_tensor1` multiplied by the sum of all the elmements of `my_tensor2`,\n",
    "  i.e., a scalar.\n",
    "\n",
    "  Args:\n",
    "    my_tensor1: torch.Tensor\n",
    "    my_tensor2: torch.Tensor\n",
    "\n",
    "  Retuns:\n",
    "    output: torch.Tensor\n",
    "      The multiplication of the column sum of `my_tensor1` by the sum of\n",
    "      `my_tensor2`.\n",
    "  \"\"\"\n",
    "  ################################################\n",
    "  ## TODO for students: complete functionA\n",
    "  raise NotImplementedError(\"Student exercise: complete function A\")\n",
    "  ################################################\n",
    "  # TODO multiplication the sum of the tensors\n",
    "  output = ...\n",
    "\n",
    "  return output\n",
    "\n",
    "\n",
    "def functionB(my_tensor):\n",
    "  \"\"\"\n",
    "  This function takes in a square matrix `my_tensor` and returns a 2D tensor\n",
    "  consisting of a flattened `my_tensor` with the index of each element\n",
    "  appended to this tensor in the row dimension.\n",
    "\n",
    "  Args:\n",
    "    my_tensor: torch.Tensor\n",
    "\n",
    "  Returns:\n",
    "    output: torch.Tensor\n",
    "      Concatenated tensor.\n",
    "  \"\"\"\n",
    "  ################################################\n",
    "  ## TODO for students: complete functionB\n",
    "  raise NotImplementedError(\"Student exercise: complete function B\")\n",
    "  ################################################\n",
    "  # TODO flatten the tensor `my_tensor`\n",
    "  my_tensor = ...\n",
    "  # TODO create the idx tensor to be concatenated to `my_tensor`\n",
    "  idx_tensor = ...\n",
    "  # TODO concatenate the two tensors\n",
    "  output = ...\n",
    "\n",
    "  return output\n",
    "\n",
    "\n",
    "def functionC(my_tensor1, my_tensor2):\n",
    "  \"\"\"\n",
    "  This function takes in two 2D tensors `my_tensor1` and `my_tensor2`.\n",
    "  If the dimensions allow it, it returns the\n",
    "  elementwise sum of `my_tensor1`-shaped `my_tensor2`, and `my_tensor2`;\n",
    "  else this function returns a 1D tensor that is the concatenation of the\n",
    "  two tensors.\n",
    "\n",
    "  Args:\n",
    "    my_tensor1: torch.Tensor\n",
    "    my_tensor2: torch.Tensor\n",
    "\n",
    "  Returns:\n",
    "    output: torch.Tensor\n",
    "      Concatenated tensor.\n",
    "  \"\"\"\n",
    "  ################################################\n",
    "  ## TODO for students: complete functionB\n",
    "  raise NotImplementedError(\"Student exercise: complete function C\")\n",
    "  ################################################\n",
    "  # TODO check we can reshape `my_tensor2` into the shape of `my_tensor1`\n",
    "  if ...:\n",
    "    # TODO reshape `my_tensor2` into the shape of `my_tensor1`\n",
    "    my_tensor2 = ...\n",
    "    # TODO sum the two tensors\n",
    "    output = ...\n",
    "  else:\n",
    "    # TODO flatten both tensors\n",
    "    my_tensor1 = ...\n",
    "    my_tensor2 = ...\n",
    "    # TODO concatenate the two tensors in the correct dimension\n",
    "    output = ...\n",
    "\n",
    "  return output\n",
    "\n",
    "\n",
    "## Implement the functions above and then uncomment the following lines to test your code\n",
    "# print(functionA(torch.tensor([[1, 1], [1, 1]]), torch.tensor([[1, 2, 3], [1, 2, 3]])))\n",
    "# print(functionB(torch.tensor([[2, 3], [-1, 10]])))\n",
    "# print(functionC(torch.tensor([[1, -1], [-1, 3]]), torch.tensor([[2, 3, 0, 2]])))\n",
    "# print(functionC(torch.tensor([[1, -1], [-1, 3]]), torch.tensor([[2, 3, 0]])))\n",
    "\n",
    "assert torch.equal(functionA(torch.tensor([[1, 1], [1, 1]]), torch.tensor([[1, 2, 3], [1, 2, 3]])), torch.tensor([24, 24]))\n",
    "assert torch.equal(functionB(torch.tensor([[2, 3], [-1, 10]])), torch.tensor([[0, 2], [1, 3], [2, -1], [3, 10]]))\n",
    "assert torch.equal(functionC(torch.tensor([[1, -1], [-1, 3]]), torch.tensor([[2, 3, 0, 2]])), torch.tensor([[3, 2], [-1, 5]]))\n",
    "assert torch.equal(functionC(torch.tensor([[1, -1], [-1, 3]]), torch.tensor([[2, 3, 0]])), torch.tensor([1, -1, -1, 3, 2, 3, 0]))"
   ]
  },
  {
   "cell_type": "markdown",
   "id": "472347d7",
   "metadata": {},
   "source": [
    "### Dynamic Computation Graph and Backpropagation\n",
    "\n",
    "The information on backpropagation and the dynamic computation graph can be found in the notebook [Introduction to PyTorch](https://colab.research.google.com/github/phlippe/uvadlc_notebooks/blob/master/docs/tutorial_notebooks/tutorial2/Introduction_to_PyTorch.ipynb). There you will also find additional information on Tensors similar to the information we already shared in this notebook. \n",
    "\n",
    "As we already shared, one of the features of tensors is there ability to keep track of the graph of computations that created them (which comes in handy with backpropagation). With PyTorch tensors you can automatically get **gradients/derivatives** of functions that you define. In this course we will mainly implement neural networks, which are just fancy functions. \n",
    "\n",
    "In those functions, the weight matrices we want to learn are called **parameters** or simply the **weights**. If a neural network outputs a single scalar value, we talk about taking the derivative of that value. However, often times we have to deal with **multiple** output values, which means that we talk about **gradients**.\n",
    "\n",
    "We define our function by **manipulating** a given input, usually bu matrix-multiplications with weight matrices and additions with so-called bias vectors. A **computation graph** is automatically created when manipulating our input. This graph tells us how to arrive at our output from our input. PyTorch is a **define-by-run** framework, which means that we can just do our manipulations and PyTorch will keep track of the computation graph for us (dynamically).\n",
    "\n",
    "In short: we only need to compute the output using our function and we can ask PyTorch to automatically get the **gradients**. \n",
    "\n",
    "The first thing we have to do is to specify which tensors require gradients. The default setting is that a newly created tensor does not require gradients."
   ]
  },
  {
   "cell_type": "code",
   "execution_count": null,
   "id": "3207f5d3",
   "metadata": {},
   "outputs": [],
   "source": [
    "x = torch.ones((3,))\n",
    "print(x.requires_grad)"
   ]
  },
  {
   "cell_type": "markdown",
   "id": "50124e86",
   "metadata": {},
   "source": [
    "You can change this for an existing tensor using the function `requires_grad_()` (the underscore indicates that this is a in-place operation). Alternatively, when creating a tensor, you can pass the argument `requires_grad=True` to most initializers shown above."
   ]
  },
  {
   "cell_type": "code",
   "execution_count": null,
   "id": "8e8ef9a7",
   "metadata": {},
   "outputs": [],
   "source": [
    "x.requires_grad_(True)\n",
    "print(x.requires_grad)"
   ]
  },
  {
   "cell_type": "markdown",
   "id": "66c2c134",
   "metadata": {},
   "source": [
    "In order to get familiar with the concept of a computation graph, we will create one for the following function:\n",
    "\n",
    "$$y = \\frac{1}{|x|}\\sum_i \\left[(x_i + 2)^2 + 3\\right]$$\n",
    "\n",
    "You could imagine that $x$ are our parameters, and we want to optimize (either maximize or minimize) the output $y$. For this, we want to obtain the gradients $\\partial y / \\partial \\mathbf{x}$. For our example, we'll use $\\mathbf{x}=[0,1,2]$ as our input."
   ]
  },
  {
   "cell_type": "code",
   "execution_count": null,
   "id": "9c98b696",
   "metadata": {},
   "outputs": [],
   "source": [
    "x = torch.arange(3, dtype=torch.float32, requires_grad=True) # Only float tensors can have gradients\n",
    "print(\"X\", x)"
   ]
  },
  {
   "cell_type": "markdown",
   "id": "15eb5ec8",
   "metadata": {},
   "source": [
    "Now let's build the computation graph step by step. You can combine multiple operations in a single line, but we will separate them here to get a better understanding of how each operation is added to the computation graph."
   ]
  },
  {
   "cell_type": "code",
   "execution_count": null,
   "id": "b1f246f5",
   "metadata": {},
   "outputs": [],
   "source": [
    "a = x + 2\n",
    "b = a ** 2\n",
    "c = b + 3\n",
    "y = c.mean()\n",
    "print(\"Y\", y)"
   ]
  },
  {
   "cell_type": "markdown",
   "id": "7a6f487b",
   "metadata": {},
   "source": [
    "Using the statements above, we have created a computation graph that looks similar to the figure below:\n",
    "\n",
    "<center style=\"width: 100%\"><img src=\"images/pytorch_computation_graph.svg\" width=\"200px\"></center>\n",
    "\n",
    "We calculate $a$ based on the inputs $x$ and the constant $2$, $b$ is $a$ squared, and so on. The visualization is an abstraction of the dependencies between inputs and outputs of the operations we have applied.\n",
    "Each node of the computation graph has automatically defined a function for calculating the gradients with respect to its inputs, `grad_fn`. You can see this when we printed the output tensor $y$. This is why the computation graph is usually visualized in the reverse direction (arrows point from the result to the inputs). We can perform backpropagation on the computation graph by calling the function `backward()` on the last output, which effectively calculates the gradients for each tensor that has the property `requires_grad=True`:"
   ]
  },
  {
   "cell_type": "code",
   "execution_count": null,
   "id": "58127800",
   "metadata": {},
   "outputs": [],
   "source": [
    "y.backward()"
   ]
  },
  {
   "cell_type": "markdown",
   "id": "3cadc3c6",
   "metadata": {},
   "source": [
    "`x.grad` will now contain the gradient $\\partial y/ \\partial \\mathcal{x}$, and this gradient indicates how a change in $\\mathbf{x}$ will affect output $y$ given the current input $\\mathbf{x}=[0,1,2]$:"
   ]
  },
  {
   "cell_type": "code",
   "execution_count": null,
   "id": "ce321d58",
   "metadata": {},
   "outputs": [],
   "source": [
    "print(x.grad)"
   ]
  },
  {
   "cell_type": "markdown",
   "id": "8ccde7a1",
   "metadata": {},
   "source": [
    "We can also verify these gradients by hand. We will calculate the gradients using the chain rule, in the same way as PyTorch did it:\n",
    "\n",
    "$$\\frac{\\partial y}{\\partial x_i} = \\frac{\\partial y}{\\partial c_i}\\frac{\\partial c_i}{\\partial b_i}\\frac{\\partial b_i}{\\partial a_i}\\frac{\\partial a_i}{\\partial x_i}$$\n",
    "\n",
    "Note that we have simplified this equation to index notation, and by using the fact that all operation besides the mean do not combine the elements in the tensor. The partial derivatives are:\n",
    "\n",
    "$$\n",
    "\\frac{\\partial a_i}{\\partial x_i} = 1,\\hspace{1cm}\n",
    "\\frac{\\partial b_i}{\\partial a_i} = 2\\cdot a_i\\hspace{1cm}\n",
    "\\frac{\\partial c_i}{\\partial b_i} = 1\\hspace{1cm}\n",
    "\\frac{\\partial y}{\\partial c_i} = \\frac{1}{3}\n",
    "$$\n",
    "\n",
    "Hence, with the input being $\\mathbf{x}=[0,1,2]$, our gradients are $\\partial y/\\partial \\mathbf{x}=[4/3,2,8/3]$. The previous code cell should have printed the same result."
   ]
  },
  {
   "cell_type": "markdown",
   "id": "6bf87380",
   "metadata": {},
   "source": [
    "**Note:** No Exercises for this section."
   ]
  },
  {
   "cell_type": "markdown",
   "id": "efc96200",
   "metadata": {},
   "source": [
    "### Answers"
   ]
  },
  {
   "cell_type": "markdown",
   "id": "75c87e9d",
   "metadata": {},
   "source": [
    "#### Exercise Creating Tensors"
   ]
  },
  {
   "cell_type": "code",
   "execution_count": null,
   "id": "6a323f22",
   "metadata": {},
   "outputs": [],
   "source": [
    "def tensor_creation(Z):\n",
    "  \"\"\"\n",
    "  A function that creates various tensors.\n",
    "  Args:\n",
    "    Z: numpy.ndarray\n",
    "      An array of shape (3,4)\n",
    "  Returns:\n",
    "    A : Tensor\n",
    "      20 by 21 tensor consisting of ones\n",
    "    B : Tensor\n",
    "      A tensor with elements equal to the elements of numpy array  Z\n",
    "    C : Tensor\n",
    "      A tensor with the same number of elements as A but with values ∼U(0,1)\n",
    "    D : Tensor\n",
    "      A 1D tensor containing the even numbers between 4 and 40 inclusive.\n",
    "  \"\"\"\n",
    "\n",
    "  A = torch.ones(20, 21)\n",
    "  B = torch.tensor(Z)\n",
    "  C = torch.rand_like(A)\n",
    "  D = torch.arange(4, 41, step=2)\n",
    "\n",
    "  return A, B, C, D\n",
    "\n",
    "# numpy array to copy later\n",
    "Z = np.vander([1, 2, 3], 4)\n",
    "\n",
    "# Uncomment below to check your function!\n",
    "A, B, C, D = tensor_creation(Z)\n",
    "print(f\"Z = \\n {Z}\")\n",
    "print(f\"Shape Z = {Z.shape}\")\n",
    "print()\n",
    "print(f\"A = \\n {A}\")\n",
    "print(f\"Shape A = {A.shape}\")\n",
    "print()\n",
    "print(f\"B = \\n {B}\")\n",
    "print()\n",
    "print(f\"C = \\n {C}\")\n",
    "print(f\"Shape C = {C.shape}\")\n",
    "print()\n",
    "print(f\"D = \\n {D}\")\n",
    "print(f\"Shape D = {D.shape}\")"
   ]
  },
  {
   "cell_type": "markdown",
   "id": "d5f7830d",
   "metadata": {},
   "source": [
    "#### Exercises Operations in PyTorch"
   ]
  },
  {
   "cell_type": "code",
   "execution_count": null,
   "id": "47851d8f",
   "metadata": {},
   "outputs": [],
   "source": [
    "def simple_operations(a1: torch.Tensor, a2: torch.Tensor, a3: torch.Tensor):\n",
    "  \"\"\"\n",
    "  Helper function to demonstrate simple operations\n",
    "  i.e., Multiplication of tensor a1 with tensor a2 and then add it with tensor a3\n",
    "  Args:\n",
    "    a1: Torch tensor\n",
    "      Tensor of size ([2,2])\n",
    "    a2: Torch tensor\n",
    "      Tensor of size ([2,2])\n",
    "    a3: Torch tensor\n",
    "      Tensor of size ([2,2])\n",
    "  Returns:\n",
    "    answer: Torch tensor\n",
    "      Tensor of size ([2,2]) resulting from a1 multiplied with a2, added with a3\n",
    "  \"\"\"\n",
    "  answer = a1 @ a2 + a3\n",
    "  return answer\n",
    "\n",
    "# Computing expression 1:\n",
    "\n",
    "# init our tensors\n",
    "a1 = torch.tensor([[2, 4], [5, 7]])\n",
    "a2 = torch.tensor([[1, 1], [2, 3]])\n",
    "a3 = torch.tensor([[10, 10], [12, 1]])\n",
    "## uncomment to test your function\n",
    "A = simple_operations(a1, a2, a3)\n",
    "print(A)\n",
    "assert torch.equal(A,torch.tensor([[20, 24],[31, 27]]))"
   ]
  },
  {
   "cell_type": "code",
   "execution_count": null,
   "id": "666958e5",
   "metadata": {},
   "outputs": [],
   "source": [
    "def dot_product(b1: torch.Tensor, b2: torch.Tensor):\n",
    "  \"\"\"\n",
    "  Helper function to demonstrate dot product operation\n",
    "  Dot product is an algebraic operation that takes two equal-length sequences\n",
    "  (usually coordinate vectors), and returns a single number.\n",
    "  Geometrically, it is the product of the Euclidean magnitudes of the\n",
    "  two vectors and the cosine of the angle between them.\n",
    "  Args:\n",
    "    b1: Torch tensor\n",
    "      Tensor of size ([3])\n",
    "    b2: Torch tensor\n",
    "      Tensor of size ([3])\n",
    "  Returns:\n",
    "    product: Tensor\n",
    "      Tensor of size ([1]) resulting from b1 scalar multiplied with b2\n",
    "  \"\"\"\n",
    "  # Use torch.dot() to compute the dot product of two tensors\n",
    "  product = torch.dot(b1, b2)\n",
    "  return product\n",
    "\n",
    "# Computing expression 2:\n",
    "b1 = torch.tensor([3, 5, 7])\n",
    "b2 = torch.tensor([2, 4, 8])\n",
    "## Uncomment to test your function\n",
    "b = dot_product(b1, b2)\n",
    "print(b)\n",
    "assert torch.equal(b, torch.tensor(82))"
   ]
  },
  {
   "cell_type": "markdown",
   "id": "b4c0515b",
   "metadata": {},
   "source": [
    "#### Exercises Manipulating Tensors in PyTorch"
   ]
  },
  {
   "cell_type": "code",
   "execution_count": null,
   "id": "27a869f6",
   "metadata": {},
   "outputs": [],
   "source": [
    "def functionA(my_tensor1, my_tensor2):\n",
    "  \"\"\"\n",
    "  This function takes in two 2D tensors `my_tensor1` and `my_tensor2`\n",
    "  and returns the column sum of\n",
    "  `my_tensor1` multiplied by the sum of all the elmements of `my_tensor2`,\n",
    "  i.e., a scalar.\n",
    "  Args:\n",
    "    my_tensor1: torch.Tensor\n",
    "    my_tensor2: torch.Tensor\n",
    "  Returns:\n",
    "    output: torch.Tensor\n",
    "      The multiplication of the column sum of `my_tensor1` by the sum of\n",
    "      `my_tensor2`.\n",
    "  \"\"\"\n",
    "  # TODO multiplication the sum of the tensors\n",
    "  output = my_tensor1.sum(axis=0) * my_tensor2.sum()\n",
    "\n",
    "  return output\n",
    "\n",
    "\n",
    "def functionB(my_tensor):\n",
    "  \"\"\"\n",
    "  This function takes in a square matrix `my_tensor` and returns a 2D tensor\n",
    "  consisting of a flattened `my_tensor` with the index of each element\n",
    "  appended to this tensor in the row dimension.\n",
    "  Args:\n",
    "    my_tensor: torch.Tensor\n",
    "  Returns:\n",
    "    output: torch.Tensor\n",
    "      Concatenated tensor.\n",
    "  \"\"\"\n",
    "  # TODO flatten the tensor `my_tensor`\n",
    "  my_tensor = my_tensor.flatten()\n",
    "  # TODO create the idx tensor to be concatenated to `my_tensor`\n",
    "  idx_tensor = torch.arange(0, len(my_tensor))\n",
    "  # TODO concatenate the two tensors\n",
    "  output = torch.cat([idx_tensor.unsqueeze(1), my_tensor.unsqueeze(1)], axis=1)\n",
    "\n",
    "  return output\n",
    "\n",
    "\n",
    "def functionC(my_tensor1, my_tensor2):\n",
    "  \"\"\"\n",
    "  This function takes in two 2D tensors `my_tensor1` and `my_tensor2`.\n",
    "  If the dimensions allow it, it returns the\n",
    "  elementwise sum of `my_tensor1`-shaped `my_tensor2`, and `my_tensor2`;\n",
    "  else this function returns a 1D tensor that is the concatenation of the\n",
    "  two tensors.\n",
    "  Args:\n",
    "    my_tensor1: torch.Tensor\n",
    "    my_tensor2: torch.Tensor\n",
    "  Returns:\n",
    "    output: torch.Tensor\n",
    "      Concatenated tensor.\n",
    "  \"\"\"\n",
    "  # TODO check we can reshape `my_tensor2` into the shape of `my_tensor1`\n",
    "  if torch.numel(my_tensor1) == torch.numel(my_tensor2):\n",
    "    # TODO reshape `my_tensor2` into the shape of `my_tensor1`\n",
    "    my_tensor2 = my_tensor2.reshape(my_tensor1.shape)\n",
    "    # TODO sum the two tensors\n",
    "    output = my_tensor1 + my_tensor2\n",
    "  else:\n",
    "    # TODO flatten both tensors\n",
    "    my_tensor1 = my_tensor1.reshape(1, -1)\n",
    "    my_tensor2 = my_tensor2.reshape(1, -1)\n",
    "    # TODO concatenate the two tensors in the correct dimension\n",
    "    output = torch.cat([my_tensor1, my_tensor2], axis=1).squeeze()\n",
    "\n",
    "  return output\n",
    "\n",
    "## Implement the functions above and then uncomment the following lines to test your code\n",
    "print(functionA(torch.tensor([[1, 1], [1, 1]]), torch.tensor([[1, 2, 3], [1, 2, 3]])))\n",
    "print(functionB(torch.tensor([[2, 3], [-1, 10]])))\n",
    "print(functionC(torch.tensor([[1, -1], [-1, 3]]), torch.tensor([[2, 3, 0, 2]])))\n",
    "print(functionC(torch.tensor([[1, -1], [-1, 3]]), torch.tensor([[2, 3, 0]])))\n",
    "\n",
    "assert torch.equal(functionA(torch.tensor([[1, 1], [1, 1]]), torch.tensor([[1, 2, 3], [1, 2, 3]])), torch.tensor([24, 24]))\n",
    "assert torch.equal(functionB(torch.tensor([[2, 3], [-1, 10]])), torch.tensor([[0, 2], [1, 3], [2, -1], [3, 10]]))\n",
    "assert torch.equal(functionC(torch.tensor([[1, -1], [-1, 3]]), torch.tensor([[2, 3, 0, 2]])), torch.tensor([[3, 2], [-1, 5]]))\n",
    "assert torch.equal(functionC(torch.tensor([[1, -1], [-1, 3]]), torch.tensor([[2, 3, 0]])), torch.tensor([1, -1, -1, 3, 2, 3, 0]))"
   ]
  }
 ],
 "metadata": {
  "kernelspec": {
   "display_name": "Python 3 (ipykernel)",
   "language": "python",
   "name": "python3"
  },
  "language_info": {
   "codemirror_mode": {
    "name": "ipython",
    "version": 3
   },
   "file_extension": ".py",
   "mimetype": "text/x-python",
   "name": "python",
   "nbconvert_exporter": "python",
   "pygments_lexer": "ipython3",
   "version": "3.10.13"
  }
 },
 "nbformat": 4,
 "nbformat_minor": 5
}
