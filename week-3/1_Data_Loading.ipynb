{
 "cells": [
  {
   "cell_type": "markdown",
   "id": "8c098375",
   "metadata": {},
   "source": [
    "# More Data Loading and Preprocessing"
   ]
  },
  {
   "cell_type": "markdown",
   "id": "d7d44f63-cf1f-4257-b64e-c6dcc18d06a1",
   "metadata": {},
   "source": [
    "In this tutorial we will explain how you can use existing python packages to load data. Data which we will ask you to use during the next tutorials. We will be using the MNIST and CIFAR-10 dataset. These are two widely known image datasets used for training machine learning models. We already explained something about these datasets in previous tutorials. In this tutorial we will specifically examine how we can use PyTorch to load these datasets and how the data is structured. \n",
    "\n",
    "We will start with the Dataset class from PyTorch which we can use to download and load many different existing datasets. Then we will perform several transformations on the data in order to practice how we could preprocess the data. Finally, we will focus on DataLoaders which will make our lives somewhat easier as they help us to create batches of the data which we can then use to train machine learning models without having to load the entire dataset or to perform randomized training. \n",
    "\n",
    "Below you can see we load several python packages. The first few are there to help us visualize the data to get a better sense of what we are working on. The last few, the torch packages, will be the main focus of this tutorial. They help us download and load the data."
   ]
  },
  {
   "cell_type": "code",
   "execution_count": null,
   "id": "dc1e5a69-4213-49f0-b115-54ca7ed9bd3a",
   "metadata": {},
   "outputs": [],
   "source": [
    "import matplotlib.pyplot as plt\n",
    "\n",
    "from PIL import Image\n",
    "\n",
    "import torch\n",
    "import torchvision\n",
    "import torchvision.transforms as transforms\n",
    "from torchvision import datasets\n",
    "from torch.utils.data import Dataset\n",
    "from torch.utils.data import DataLoader"
   ]
  },
  {
   "cell_type": "markdown",
   "id": "89dff26e-69f7-4611-bc85-e2971727f5a9",
   "metadata": {},
   "source": [
    "## PyTorch Dataset (MNIST Dataset)"
   ]
  },
  {
   "cell_type": "markdown",
   "id": "862fed62-4539-43ab-af66-49a383dcba11",
   "metadata": {},
   "source": [
    "### PyTorch, Torchvision & Built-in Datasets"
   ]
  },
  {
   "cell_type": "markdown",
   "id": "72f3bb19-8c2f-4e19-a2f3-0dd9eb3b0e34",
   "metadata": {},
   "source": [
    "To load MNIST (or later CIFAR-10) we will make use of PyTorch and more specifically PyTorch's package named [torchvision](https://pytorch.org/vision/stable/index.html). This is a package containing popular datasets, model architectures and common image transformations (to be used during preprocessing for example) for computer vision.\n",
    "\n",
    "We can load many datasets using the [torchvision.datasets](https://pytorch.org/vision/0.16/datasets.html) module. You can also use this module to create your own dataset. Executing the code cell below will list all function (or variable) names which can be found inside the datasets module. In between this list you can spot the different built-in datasets, such as MNIST and CIFAR-10."
   ]
  },
  {
   "cell_type": "code",
   "execution_count": 2,
   "id": "b7195f9f-e446-460e-8a40-20ea6820cd9a",
   "metadata": {},
   "outputs": [
    {
     "data": {
      "text/plain": [
       "['CIFAR10',\n",
       " 'CIFAR100',\n",
       " 'CLEVRClassification',\n",
       " 'CREStereo',\n",
       " 'Caltech101',\n",
       " 'Caltech256',\n",
       " 'CarlaStereo',\n",
       " 'CelebA',\n",
       " 'Cityscapes',\n",
       " 'CocoCaptions',\n",
       " 'CocoDetection',\n",
       " 'Country211',\n",
       " 'DTD',\n",
       " 'DatasetFolder',\n",
       " 'EMNIST',\n",
       " 'ETH3DStereo',\n",
       " 'EuroSAT',\n",
       " 'FER2013',\n",
       " 'FGVCAircraft',\n",
       " 'FakeData',\n",
       " 'FallingThingsStereo',\n",
       " 'FashionMNIST',\n",
       " 'Flickr30k',\n",
       " 'Flickr8k',\n",
       " 'Flowers102',\n",
       " 'FlyingChairs',\n",
       " 'FlyingThings3D',\n",
       " 'Food101',\n",
       " 'GTSRB',\n",
       " 'HD1K',\n",
       " 'HMDB51',\n",
       " 'INaturalist',\n",
       " 'ImageFolder',\n",
       " 'ImageNet',\n",
       " 'Imagenette',\n",
       " 'InStereo2k',\n",
       " 'KMNIST',\n",
       " 'Kinetics',\n",
       " 'Kitti',\n",
       " 'Kitti2012Stereo',\n",
       " 'Kitti2015Stereo',\n",
       " 'KittiFlow',\n",
       " 'LFWPairs',\n",
       " 'LFWPeople',\n",
       " 'LSUN',\n",
       " 'LSUNClass',\n",
       " 'MNIST',\n",
       " 'Middlebury2014Stereo',\n",
       " 'MovingMNIST',\n",
       " 'Omniglot',\n",
       " 'OxfordIIITPet',\n",
       " 'PCAM',\n",
       " 'PhotoTour',\n",
       " 'Places365',\n",
       " 'QMNIST',\n",
       " 'RenderedSST2',\n",
       " 'SBDataset',\n",
       " 'SBU',\n",
       " 'SEMEION',\n",
       " 'STL10',\n",
       " 'SUN397',\n",
       " 'SVHN',\n",
       " 'SceneFlowStereo',\n",
       " 'Sintel',\n",
       " 'SintelStereo',\n",
       " 'StanfordCars',\n",
       " 'UCF101',\n",
       " 'USPS',\n",
       " 'VOCDetection',\n",
       " 'VOCSegmentation',\n",
       " 'VisionDataset',\n",
       " 'WIDERFace',\n",
       " '__all__',\n",
       " '__builtins__',\n",
       " '__cached__',\n",
       " '__doc__',\n",
       " '__file__',\n",
       " '__getattr__',\n",
       " '__loader__',\n",
       " '__name__',\n",
       " '__package__',\n",
       " '__path__',\n",
       " '__spec__',\n",
       " '_optical_flow',\n",
       " '_stereo_matching',\n",
       " 'caltech',\n",
       " 'celeba',\n",
       " 'cifar',\n",
       " 'cityscapes',\n",
       " 'clevr',\n",
       " 'coco',\n",
       " 'country211',\n",
       " 'dtd',\n",
       " 'eurosat',\n",
       " 'fakedata',\n",
       " 'fer2013',\n",
       " 'fgvc_aircraft',\n",
       " 'flickr',\n",
       " 'flowers102',\n",
       " 'folder',\n",
       " 'food101',\n",
       " 'gtsrb',\n",
       " 'hmdb51',\n",
       " 'imagenet',\n",
       " 'imagenette',\n",
       " 'inaturalist',\n",
       " 'kinetics',\n",
       " 'kitti',\n",
       " 'lfw',\n",
       " 'lsun',\n",
       " 'mnist',\n",
       " 'moving_mnist',\n",
       " 'omniglot',\n",
       " 'oxford_iiit_pet',\n",
       " 'pcam',\n",
       " 'phototour',\n",
       " 'places365',\n",
       " 'rendered_sst2',\n",
       " 'sbd',\n",
       " 'sbu',\n",
       " 'semeion',\n",
       " 'stanford_cars',\n",
       " 'stl10',\n",
       " 'sun397',\n",
       " 'svhn',\n",
       " 'ucf101',\n",
       " 'usps',\n",
       " 'utils',\n",
       " 'video_utils',\n",
       " 'vision',\n",
       " 'voc',\n",
       " 'widerface']"
      ]
     },
     "execution_count": 2,
     "metadata": {},
     "output_type": "execute_result"
    }
   ],
   "source": [
    "dir(datasets)"
   ]
  },
  {
   "cell_type": "markdown",
   "id": "203bbe56-05a9-4d0a-b9e0-2ae471afe2c1",
   "metadata": {},
   "source": [
    "All built-in datasets are a subclass of the module [torch.utils.data.Dataset](https://pytorch.org/docs/stable/data.html#torch.utils.data.Dataset). Running the code cell below will show the function (or variable) names of the MNIST dataset module."
   ]
  },
  {
   "cell_type": "code",
   "execution_count": 3,
   "id": "c948962b-e40e-43e2-aa1b-4076af3c4c12",
   "metadata": {
    "scrolled": true
   },
   "outputs": [
    {
     "data": {
      "text/plain": [
       "['__add__',\n",
       " '__annotations__',\n",
       " '__class__',\n",
       " '__class_getitem__',\n",
       " '__delattr__',\n",
       " '__dict__',\n",
       " '__dir__',\n",
       " '__doc__',\n",
       " '__eq__',\n",
       " '__format__',\n",
       " '__ge__',\n",
       " '__getattribute__',\n",
       " '__getitem__',\n",
       " '__getstate__',\n",
       " '__gt__',\n",
       " '__hash__',\n",
       " '__init__',\n",
       " '__init_subclass__',\n",
       " '__le__',\n",
       " '__len__',\n",
       " '__lt__',\n",
       " '__module__',\n",
       " '__ne__',\n",
       " '__new__',\n",
       " '__orig_bases__',\n",
       " '__parameters__',\n",
       " '__reduce__',\n",
       " '__reduce_ex__',\n",
       " '__repr__',\n",
       " '__setattr__',\n",
       " '__sizeof__',\n",
       " '__slots__',\n",
       " '__str__',\n",
       " '__subclasshook__',\n",
       " '__weakref__',\n",
       " '_check_exists',\n",
       " '_check_legacy_exist',\n",
       " '_format_transform_repr',\n",
       " '_is_protocol',\n",
       " '_load_data',\n",
       " '_load_legacy_data',\n",
       " '_repr_indent',\n",
       " 'class_to_idx',\n",
       " 'classes',\n",
       " 'download',\n",
       " 'extra_repr',\n",
       " 'mirrors',\n",
       " 'processed_folder',\n",
       " 'raw_folder',\n",
       " 'resources',\n",
       " 'test_data',\n",
       " 'test_file',\n",
       " 'test_labels',\n",
       " 'train_data',\n",
       " 'train_labels',\n",
       " 'training_file']"
      ]
     },
     "execution_count": 3,
     "metadata": {},
     "output_type": "execute_result"
    }
   ],
   "source": [
    "dir(datasets.MNIST)"
   ]
  },
  {
   "cell_type": "markdown",
   "id": "5539d7ff-cde0-4dfb-ba96-ccb144fb004b",
   "metadata": {},
   "source": [
    "If we take a closer look at the the [datasets.MNIST](https://pytorch.org/vision/0.16/generated/torchvision.datasets.MNIST.html#torchvision.datasets.MNIST) documentation we can see how we can load the dataset into our jupyter notebook.\n",
    "\n",
    "It takes several parameters:\n",
    "- root (string): Root directory of the dataset where the MNIST data should exist. This is a directory you can specify yourself. Another parameter named 'download' will download the MNIST dataset from the internet and place it in this directory.\n",
    "- train (bool, optional): If this parameter is set to True, it creates a training dataset. Otherwise, it will create a test dataset. As mentioned this parameter is optional, so you do not need to pass it with a value. Its default value is set to True.\n",
    "- download (bool, optional): If this parameter is set to True, it downloads the dataset from the internet and puts it in the specified root directory. If the dataset is already downloaded, it is not downloaded again. This parameter is optional, so you do not need to pass it with a value. Its default value is set to False.\n",
    "- transfrom (callable, optional): A function/transform can be passed that takes in a PIL type image and returns a transformed version. See e.g. [torchvision.transforms](https://pytorch.org/vision/0.9/transforms.html). This parameter is optional, so you do not need to pass it with a value. Its default value is set to None.\n",
    "- target_transform (callable, optional): a function/transform can be passed that takes in the target and transforms it. This parameter is optional, so you do not need to pass it with a value. Its default value is set to None."
   ]
  },
  {
   "cell_type": "markdown",
   "id": "e18ec331-e53e-4197-9d13-b046d9e2c340",
   "metadata": {},
   "source": [
    "Lets now load the MNIST training set, by executing the code cell below:"
   ]
  },
  {
   "cell_type": "code",
   "execution_count": 5,
   "id": "c3da8452-4e0c-4925-9ac9-78a4362f00a0",
   "metadata": {},
   "outputs": [
    {
     "name": "stdout",
     "output_type": "stream",
     "text": [
      "Downloading http://yann.lecun.com/exdb/mnist/train-images-idx3-ubyte.gz\n",
      "Downloading http://yann.lecun.com/exdb/mnist/train-images-idx3-ubyte.gz to ./data\\MNIST\\raw\\train-images-idx3-ubyte.gz\n"
     ]
    },
    {
     "name": "stderr",
     "output_type": "stream",
     "text": [
      "100%|██████████| 9912422/9912422 [00:00<00:00, 21102226.03it/s]\n"
     ]
    },
    {
     "name": "stdout",
     "output_type": "stream",
     "text": [
      "Extracting ./data\\MNIST\\raw\\train-images-idx3-ubyte.gz to ./data\\MNIST\\raw\n",
      "\n",
      "Downloading http://yann.lecun.com/exdb/mnist/train-labels-idx1-ubyte.gz\n",
      "Downloading http://yann.lecun.com/exdb/mnist/train-labels-idx1-ubyte.gz to ./data\\MNIST\\raw\\train-labels-idx1-ubyte.gz\n"
     ]
    },
    {
     "name": "stderr",
     "output_type": "stream",
     "text": [
      "100%|██████████| 28881/28881 [00:00<?, ?it/s]\n"
     ]
    },
    {
     "name": "stdout",
     "output_type": "stream",
     "text": [
      "Extracting ./data\\MNIST\\raw\\train-labels-idx1-ubyte.gz to ./data\\MNIST\\raw\n",
      "\n",
      "Downloading http://yann.lecun.com/exdb/mnist/t10k-images-idx3-ubyte.gz\n",
      "Downloading http://yann.lecun.com/exdb/mnist/t10k-images-idx3-ubyte.gz to ./data\\MNIST\\raw\\t10k-images-idx3-ubyte.gz\n"
     ]
    },
    {
     "name": "stderr",
     "output_type": "stream",
     "text": [
      "100%|██████████| 1648877/1648877 [00:00<00:00, 2599808.66it/s]\n"
     ]
    },
    {
     "name": "stdout",
     "output_type": "stream",
     "text": [
      "Extracting ./data\\MNIST\\raw\\t10k-images-idx3-ubyte.gz to ./data\\MNIST\\raw\n",
      "\n",
      "Downloading http://yann.lecun.com/exdb/mnist/t10k-labels-idx1-ubyte.gz\n",
      "Downloading http://yann.lecun.com/exdb/mnist/t10k-labels-idx1-ubyte.gz to ./data\\MNIST\\raw\\t10k-labels-idx1-ubyte.gz\n"
     ]
    },
    {
     "name": "stderr",
     "output_type": "stream",
     "text": [
      "100%|██████████| 4542/4542 [00:00<?, ?it/s]"
     ]
    },
    {
     "name": "stdout",
     "output_type": "stream",
     "text": [
      "Extracting ./data\\MNIST\\raw\\t10k-labels-idx1-ubyte.gz to ./data\\MNIST\\raw\n",
      "\n"
     ]
    },
    {
     "name": "stderr",
     "output_type": "stream",
     "text": [
      "\n"
     ]
    }
   ],
   "source": [
    "train_set = torchvision.datasets.MNIST(root='./data', download=True, train=True)"
   ]
  },
  {
   "cell_type": "markdown",
   "id": "e30e5974-7fcd-42e6-8a60-9473f8cf71d2",
   "metadata": {},
   "source": [
    "If everything went correct, a new directory was created in the same directory as this jupyter notebook called 'data'. Inside this directory you will find the MNIST training data (images and labels). The dataset object is now loaded in the variable named 'train_set'. Like mentioned before, this dataset object has several functions which can be called."
   ]
  },
  {
   "cell_type": "code",
   "execution_count": 6,
   "id": "19cd36d8-ba93-4a88-81db-32fe1fad9178",
   "metadata": {
    "scrolled": true
   },
   "outputs": [
    {
     "data": {
      "text/plain": [
       "['__add__',\n",
       " '__annotations__',\n",
       " '__class__',\n",
       " '__class_getitem__',\n",
       " '__delattr__',\n",
       " '__dict__',\n",
       " '__dir__',\n",
       " '__doc__',\n",
       " '__eq__',\n",
       " '__format__',\n",
       " '__ge__',\n",
       " '__getattribute__',\n",
       " '__getitem__',\n",
       " '__getstate__',\n",
       " '__gt__',\n",
       " '__hash__',\n",
       " '__init__',\n",
       " '__init_subclass__',\n",
       " '__le__',\n",
       " '__len__',\n",
       " '__lt__',\n",
       " '__module__',\n",
       " '__ne__',\n",
       " '__new__',\n",
       " '__orig_bases__',\n",
       " '__parameters__',\n",
       " '__reduce__',\n",
       " '__reduce_ex__',\n",
       " '__repr__',\n",
       " '__setattr__',\n",
       " '__sizeof__',\n",
       " '__slots__',\n",
       " '__str__',\n",
       " '__subclasshook__',\n",
       " '__weakref__',\n",
       " '_check_exists',\n",
       " '_check_legacy_exist',\n",
       " '_format_transform_repr',\n",
       " '_is_protocol',\n",
       " '_load_data',\n",
       " '_load_legacy_data',\n",
       " '_repr_indent',\n",
       " 'class_to_idx',\n",
       " 'classes',\n",
       " 'data',\n",
       " 'download',\n",
       " 'extra_repr',\n",
       " 'mirrors',\n",
       " 'processed_folder',\n",
       " 'raw_folder',\n",
       " 'resources',\n",
       " 'root',\n",
       " 'target_transform',\n",
       " 'targets',\n",
       " 'test_data',\n",
       " 'test_file',\n",
       " 'test_labels',\n",
       " 'train',\n",
       " 'train_data',\n",
       " 'train_labels',\n",
       " 'training_file',\n",
       " 'transform',\n",
       " 'transforms']"
      ]
     },
     "execution_count": 6,
     "metadata": {},
     "output_type": "execute_result"
    }
   ],
   "source": [
    "dir(train_set)"
   ]
  },
  {
   "cell_type": "markdown",
   "id": "401452a2-020c-4099-a7c7-07f6946486d2",
   "metadata": {},
   "source": [
    "For example we can ask for the training labels:"
   ]
  },
  {
   "cell_type": "code",
   "execution_count": 7,
   "id": "0d99998d-eff6-42a1-ba6d-f288c8488db6",
   "metadata": {},
   "outputs": [
    {
     "name": "stdout",
     "output_type": "stream",
     "text": [
      "tensor([5, 0, 4,  ..., 5, 6, 8])\n"
     ]
    }
   ],
   "source": [
    "print(train_set.targets)"
   ]
  },
  {
   "cell_type": "markdown",
   "id": "ca492010-8d2d-48da-9629-fdaa96abc4b6",
   "metadata": {},
   "source": [
    "Or we can ask for the training data:"
   ]
  },
  {
   "cell_type": "code",
   "execution_count": 8,
   "id": "b1991a52-9fc0-44c2-a6b7-43c8e9bff712",
   "metadata": {
    "scrolled": true
   },
   "outputs": [
    {
     "name": "stdout",
     "output_type": "stream",
     "text": [
      "tensor([[[0, 0, 0,  ..., 0, 0, 0],\n",
      "         [0, 0, 0,  ..., 0, 0, 0],\n",
      "         [0, 0, 0,  ..., 0, 0, 0],\n",
      "         ...,\n",
      "         [0, 0, 0,  ..., 0, 0, 0],\n",
      "         [0, 0, 0,  ..., 0, 0, 0],\n",
      "         [0, 0, 0,  ..., 0, 0, 0]],\n",
      "\n",
      "        [[0, 0, 0,  ..., 0, 0, 0],\n",
      "         [0, 0, 0,  ..., 0, 0, 0],\n",
      "         [0, 0, 0,  ..., 0, 0, 0],\n",
      "         ...,\n",
      "         [0, 0, 0,  ..., 0, 0, 0],\n",
      "         [0, 0, 0,  ..., 0, 0, 0],\n",
      "         [0, 0, 0,  ..., 0, 0, 0]],\n",
      "\n",
      "        [[0, 0, 0,  ..., 0, 0, 0],\n",
      "         [0, 0, 0,  ..., 0, 0, 0],\n",
      "         [0, 0, 0,  ..., 0, 0, 0],\n",
      "         ...,\n",
      "         [0, 0, 0,  ..., 0, 0, 0],\n",
      "         [0, 0, 0,  ..., 0, 0, 0],\n",
      "         [0, 0, 0,  ..., 0, 0, 0]],\n",
      "\n",
      "        ...,\n",
      "\n",
      "        [[0, 0, 0,  ..., 0, 0, 0],\n",
      "         [0, 0, 0,  ..., 0, 0, 0],\n",
      "         [0, 0, 0,  ..., 0, 0, 0],\n",
      "         ...,\n",
      "         [0, 0, 0,  ..., 0, 0, 0],\n",
      "         [0, 0, 0,  ..., 0, 0, 0],\n",
      "         [0, 0, 0,  ..., 0, 0, 0]],\n",
      "\n",
      "        [[0, 0, 0,  ..., 0, 0, 0],\n",
      "         [0, 0, 0,  ..., 0, 0, 0],\n",
      "         [0, 0, 0,  ..., 0, 0, 0],\n",
      "         ...,\n",
      "         [0, 0, 0,  ..., 0, 0, 0],\n",
      "         [0, 0, 0,  ..., 0, 0, 0],\n",
      "         [0, 0, 0,  ..., 0, 0, 0]],\n",
      "\n",
      "        [[0, 0, 0,  ..., 0, 0, 0],\n",
      "         [0, 0, 0,  ..., 0, 0, 0],\n",
      "         [0, 0, 0,  ..., 0, 0, 0],\n",
      "         ...,\n",
      "         [0, 0, 0,  ..., 0, 0, 0],\n",
      "         [0, 0, 0,  ..., 0, 0, 0],\n",
      "         [0, 0, 0,  ..., 0, 0, 0]]], dtype=torch.uint8)\n"
     ]
    }
   ],
   "source": [
    "print(train_set.data)"
   ]
  },
  {
   "cell_type": "markdown",
   "id": "915e560f-7d27-4150-8bf6-9c28552c849e",
   "metadata": {},
   "source": [
    "You can get the number of training samples:"
   ]
  },
  {
   "cell_type": "code",
   "execution_count": 9,
   "id": "aa57c756-027f-476e-b017-19e68f414de3",
   "metadata": {},
   "outputs": [
    {
     "data": {
      "text/plain": [
       "60000"
      ]
     },
     "execution_count": 9,
     "metadata": {},
     "output_type": "execute_result"
    }
   ],
   "source": [
    "len(train_set)"
   ]
  },
  {
   "cell_type": "markdown",
   "id": "df253c10-4253-482e-8f4e-1e4f9e330dca",
   "metadata": {},
   "source": [
    "You can also pick a specific training sample, which is a tuple of an [PIL](https://pillow.readthedocs.io/en/stable/) image and its corresponding label. "
   ]
  },
  {
   "cell_type": "code",
   "execution_count": 10,
   "id": "241841f2-3b82-4771-b144-93e801bb595d",
   "metadata": {},
   "outputs": [
    {
     "data": {
      "text/plain": [
       "(<PIL.Image.Image image mode=L size=28x28>, 4)"
      ]
     },
     "execution_count": 10,
     "metadata": {},
     "output_type": "execute_result"
    }
   ],
   "source": [
    "train_set[2]"
   ]
  },
  {
   "cell_type": "markdown",
   "id": "350fac7f-7c61-4b6a-8f8e-ecea72075f98",
   "metadata": {},
   "source": [
    "Maybe you already noticed, but this is different from when you would take the image data via `train_set.data` and `train_set.target` where, as you could see in the example above, the image data is stored as tensors. This is the case because the `Dataset` class comes with a [`__getitem__()`](https://pytorch.org/vision/0.16/_modules/torchvision/datasets/mnist.html#MNIST) method that will turn the tensor into a PIL image. This `__getitem__()` method is used when you access a data sample by using the index on the entire dataset object. The method will also perform a transform on the data if a transform function is available, but more on this later."
   ]
  },
  {
   "cell_type": "markdown",
   "id": "8d21f895-26ae-48e6-a4d6-2b8fd06795ef",
   "metadata": {},
   "source": [
    "We then use display, which is a method that can be used on PIL image objects, on the image related to training sample 2, by taking the first element (at index zero) of the tuple."
   ]
  },
  {
   "cell_type": "code",
   "execution_count": 11,
   "id": "b21fc70d-67cc-48b7-8375-7ba8ee08bac2",
   "metadata": {},
   "outputs": [
    {
     "data": {
      "image/jpeg": "[encoded data removed]",
      "image/png": "[encoded data removed]",
      "text/plain": [
       "<PIL.Image.Image image mode=L size=200x200>"
      ]
     },
     "metadata": {},
     "output_type": "display_data"
    }
   ],
   "source": [
    "display(train_set[2][0].resize((200,200)))"
   ]
  },
  {
   "cell_type": "markdown",
   "id": "88dcb9c8-6f8d-4281-bd86-8b2e72773679",
   "metadata": {},
   "source": [
    "The label the corresponds to this image is stored as second element (index 1) of this tuple:"
   ]
  },
  {
   "cell_type": "code",
   "execution_count": 13,
   "id": "80f7b5b2-7ff9-4a5f-8cdf-612bdce8b59d",
   "metadata": {},
   "outputs": [
    {
     "name": "stdout",
     "output_type": "stream",
     "text": [
      "Label = 4\n"
     ]
    }
   ],
   "source": [
    "print(\"Label =\", train_set[2][1])"
   ]
  },
  {
   "cell_type": "markdown",
   "id": "1d89e24d-4a2b-4458-9930-b32a8ff6185e",
   "metadata": {},
   "source": [
    "We can also load the MNIST test set by switching the train parameter to False:"
   ]
  },
  {
   "cell_type": "code",
   "execution_count": 14,
   "id": "922bf533-429d-40f7-8dd3-620eb052b768",
   "metadata": {},
   "outputs": [],
   "source": [
    "test_set = torchvision.datasets.MNIST(root='./data', download=True, train=False)"
   ]
  },
  {
   "cell_type": "code",
   "execution_count": 15,
   "id": "d7ab7ea4-fcda-4fa9-803c-d809630f786d",
   "metadata": {},
   "outputs": [
    {
     "name": "stdout",
     "output_type": "stream",
     "text": [
      "10000\n"
     ]
    }
   ],
   "source": [
    "print(len(test_set))"
   ]
  },
  {
   "cell_type": "code",
   "execution_count": 16,
   "id": "1f9f0aa3-c513-4a4e-ac68-5ee974382fe2",
   "metadata": {},
   "outputs": [
    {
     "data": {
      "text/plain": [
       "(<PIL.Image.Image image mode=L size=28x28>, 1)"
      ]
     },
     "execution_count": 16,
     "metadata": {},
     "output_type": "execute_result"
    }
   ],
   "source": [
    "test_set[2]"
   ]
  },
  {
   "cell_type": "markdown",
   "id": "171a0e72-ed38-4f09-9701-c3e9ba855d46",
   "metadata": {},
   "source": [
    "As you can see, the test set contains similar data tuples where the first element holds the image and the second element the correct label."
   ]
  },
  {
   "cell_type": "markdown",
   "id": "66071d0c-171f-4793-ad37-a7830475a60c",
   "metadata": {},
   "source": [
    "### Transforms"
   ]
  },
  {
   "cell_type": "markdown",
   "id": "55ba8258-c6b4-46b0-9174-cd9a524e0542",
   "metadata": {},
   "source": [
    "Now you could think we are done as we downloaded the dataset from the internet and loaded it into a dataset object/variable. Yes this is correct. However, to train machine learning models you will often need to make sure the data is in the correct format or preprocessed in a certain way. This can easily be done by making use of the transform parameter which we can pass to the dataset module. Lets now take a closer look into this."
   ]
  },
  {
   "cell_type": "markdown",
   "id": "3f2d2c79-59db-4a72-ab7d-cd05295bd852",
   "metadata": {},
   "source": [
    "Before we will transform entire datasets, lets zoom in a bit to see what is meant with transformations:"
   ]
  },
  {
   "cell_type": "code",
   "execution_count": 17,
   "id": "b67dd30d-239a-4bd0-9038-3011960558d4",
   "metadata": {},
   "outputs": [
    {
     "name": "stdout",
     "output_type": "stream",
     "text": [
      "Label =  5\n",
      "\n",
      "\n"
     ]
    },
    {
     "data": {
      "image/jpeg": "[encoded data removed]",
      "image/png": "[encoded data removed]",
      "text/plain": [
       "<PIL.Image.Image image mode=L size=200x200>"
      ]
     },
     "metadata": {},
     "output_type": "display_data"
    },
    {
     "name": "stdout",
     "output_type": "stream",
     "text": [
      "\n",
      "Label is of type:  <class 'int'>\n",
      "\n",
      "Image is of type:  <class 'PIL.Image.Image'>\n"
     ]
    }
   ],
   "source": [
    "train_image, train_label = train_set[0]\n",
    "\n",
    "print(\"Label =\", train_label)\n",
    "print(\"\\n\")\n",
    "display(train_image.resize((200,200)))\n",
    "\n",
    "print(\"\\nLabel is of type: \", type(train_label))\n",
    "print(\"\\nImage is of type: \", type(train_image))"
   ]
  },
  {
   "cell_type": "markdown",
   "id": "e03366bd-68cc-41bc-b28f-c591d5f711fc",
   "metadata": {},
   "source": [
    "#### Tensor"
   ]
  },
  {
   "cell_type": "markdown",
   "id": "dd4f774a-e342-42c8-89e6-7b930c16258d",
   "metadata": {},
   "source": [
    "We know that the dataset contains PIL images and Integer labels. However, to be able to train neural networks with PyTorch we will need to transform the PIL images to tensors. In a previous tutorial we explained what tensors are and what you can do with them. If you do not remember or did not follow this tutorial we encourage you to take a look at it before continuing with this tutorial. \n",
    "\n",
    "Now lets first transform one PIL image into tensor format to get an idea of what this does to the data."
   ]
  },
  {
   "cell_type": "code",
   "execution_count": 18,
   "id": "21b8bd2e-e7fd-4d74-bcfa-f083d5ea79f3",
   "metadata": {},
   "outputs": [
    {
     "name": "stdout",
     "output_type": "stream",
     "text": [
      "<PIL.Image.Image image mode=L size=28x28 at 0x2072FAB90D0>\n"
     ]
    }
   ],
   "source": [
    "print(train_image)"
   ]
  },
  {
   "cell_type": "markdown",
   "id": "888d1242-5591-4912-a67b-1c8ecd44e38d",
   "metadata": {},
   "source": [
    "To transform this PIL image into tensor format we can make use of the [PILToTensor](https://pytorch.org/vision/main/generated/torchvision.transforms.PILToTensor.html#torchvision.transforms.PILToTensor) class of the transforms package. "
   ]
  },
  {
   "cell_type": "code",
   "execution_count": 19,
   "id": "3b149b23-ff3e-47b0-9e7f-79180321c8a2",
   "metadata": {
    "scrolled": true
   },
   "outputs": [
    {
     "name": "stdout",
     "output_type": "stream",
     "text": [
      "tensor([[[  0,   0,   0,   0,   0,   0,   0,   0,   0,   0,   0,   0,   0,   0,\n",
      "            0,   0,   0,   0,   0,   0,   0,   0,   0,   0,   0,   0,   0,   0],\n",
      "         [  0,   0,   0,   0,   0,   0,   0,   0,   0,   0,   0,   0,   0,   0,\n",
      "            0,   0,   0,   0,   0,   0,   0,   0,   0,   0,   0,   0,   0,   0],\n",
      "         [  0,   0,   0,   0,   0,   0,   0,   0,   0,   0,   0,   0,   0,   0,\n",
      "            0,   0,   0,   0,   0,   0,   0,   0,   0,   0,   0,   0,   0,   0],\n",
      "         [  0,   0,   0,   0,   0,   0,   0,   0,   0,   0,   0,   0,   0,   0,\n",
      "            0,   0,   0,   0,   0,   0,   0,   0,   0,   0,   0,   0,   0,   0],\n",
      "         [  0,   0,   0,   0,   0,   0,   0,   0,   0,   0,   0,   0,   0,   0,\n",
      "            0,   0,   0,   0,   0,   0,   0,   0,   0,   0,   0,   0,   0,   0],\n",
      "         [  0,   0,   0,   0,   0,   0,   0,   0,   0,   0,   0,   0,   3,  18,\n",
      "           18,  18, 126, 136, 175,  26, 166, 255, 247, 127,   0,   0,   0,   0],\n",
      "         [  0,   0,   0,   0,   0,   0,   0,   0,  30,  36,  94, 154, 170, 253,\n",
      "          253, 253, 253, 253, 225, 172, 253, 242, 195,  64,   0,   0,   0,   0],\n",
      "         [  0,   0,   0,   0,   0,   0,   0,  49, 238, 253, 253, 253, 253, 253,\n",
      "          253, 253, 253, 251,  93,  82,  82,  56,  39,   0,   0,   0,   0,   0],\n",
      "         [  0,   0,   0,   0,   0,   0,   0,  18, 219, 253, 253, 253, 253, 253,\n",
      "          198, 182, 247, 241,   0,   0,   0,   0,   0,   0,   0,   0,   0,   0],\n",
      "         [  0,   0,   0,   0,   0,   0,   0,   0,  80, 156, 107, 253, 253, 205,\n",
      "           11,   0,  43, 154,   0,   0,   0,   0,   0,   0,   0,   0,   0,   0],\n",
      "         [  0,   0,   0,   0,   0,   0,   0,   0,   0,  14,   1, 154, 253,  90,\n",
      "            0,   0,   0,   0,   0,   0,   0,   0,   0,   0,   0,   0,   0,   0],\n",
      "         [  0,   0,   0,   0,   0,   0,   0,   0,   0,   0,   0, 139, 253, 190,\n",
      "            2,   0,   0,   0,   0,   0,   0,   0,   0,   0,   0,   0,   0,   0],\n",
      "         [  0,   0,   0,   0,   0,   0,   0,   0,   0,   0,   0,  11, 190, 253,\n",
      "           70,   0,   0,   0,   0,   0,   0,   0,   0,   0,   0,   0,   0,   0],\n",
      "         [  0,   0,   0,   0,   0,   0,   0,   0,   0,   0,   0,   0,  35, 241,\n",
      "          225, 160, 108,   1,   0,   0,   0,   0,   0,   0,   0,   0,   0,   0],\n",
      "         [  0,   0,   0,   0,   0,   0,   0,   0,   0,   0,   0,   0,   0,  81,\n",
      "          240, 253, 253, 119,  25,   0,   0,   0,   0,   0,   0,   0,   0,   0],\n",
      "         [  0,   0,   0,   0,   0,   0,   0,   0,   0,   0,   0,   0,   0,   0,\n",
      "           45, 186, 253, 253, 150,  27,   0,   0,   0,   0,   0,   0,   0,   0],\n",
      "         [  0,   0,   0,   0,   0,   0,   0,   0,   0,   0,   0,   0,   0,   0,\n",
      "            0,  16,  93, 252, 253, 187,   0,   0,   0,   0,   0,   0,   0,   0],\n",
      "         [  0,   0,   0,   0,   0,   0,   0,   0,   0,   0,   0,   0,   0,   0,\n",
      "            0,   0,   0, 249, 253, 249,  64,   0,   0,   0,   0,   0,   0,   0],\n",
      "         [  0,   0,   0,   0,   0,   0,   0,   0,   0,   0,   0,   0,   0,   0,\n",
      "           46, 130, 183, 253, 253, 207,   2,   0,   0,   0,   0,   0,   0,   0],\n",
      "         [  0,   0,   0,   0,   0,   0,   0,   0,   0,   0,   0,   0,  39, 148,\n",
      "          229, 253, 253, 253, 250, 182,   0,   0,   0,   0,   0,   0,   0,   0],\n",
      "         [  0,   0,   0,   0,   0,   0,   0,   0,   0,   0,  24, 114, 221, 253,\n",
      "          253, 253, 253, 201,  78,   0,   0,   0,   0,   0,   0,   0,   0,   0],\n",
      "         [  0,   0,   0,   0,   0,   0,   0,   0,  23,  66, 213, 253, 253, 253,\n",
      "          253, 198,  81,   2,   0,   0,   0,   0,   0,   0,   0,   0,   0,   0],\n",
      "         [  0,   0,   0,   0,   0,   0,  18, 171, 219, 253, 253, 253, 253, 195,\n",
      "           80,   9,   0,   0,   0,   0,   0,   0,   0,   0,   0,   0,   0,   0],\n",
      "         [  0,   0,   0,   0,  55, 172, 226, 253, 253, 253, 253, 244, 133,  11,\n",
      "            0,   0,   0,   0,   0,   0,   0,   0,   0,   0,   0,   0,   0,   0],\n",
      "         [  0,   0,   0,   0, 136, 253, 253, 253, 212, 135, 132,  16,   0,   0,\n",
      "            0,   0,   0,   0,   0,   0,   0,   0,   0,   0,   0,   0,   0,   0],\n",
      "         [  0,   0,   0,   0,   0,   0,   0,   0,   0,   0,   0,   0,   0,   0,\n",
      "            0,   0,   0,   0,   0,   0,   0,   0,   0,   0,   0,   0,   0,   0],\n",
      "         [  0,   0,   0,   0,   0,   0,   0,   0,   0,   0,   0,   0,   0,   0,\n",
      "            0,   0,   0,   0,   0,   0,   0,   0,   0,   0,   0,   0,   0,   0],\n",
      "         [  0,   0,   0,   0,   0,   0,   0,   0,   0,   0,   0,   0,   0,   0,\n",
      "            0,   0,   0,   0,   0,   0,   0,   0,   0,   0,   0,   0,   0,   0]]],\n",
      "       dtype=torch.uint8)\n"
     ]
    }
   ],
   "source": [
    "# First make a PILToTensor() object\n",
    "p2t = transforms.PILToTensor()\n",
    "\n",
    "# Then use the object to transform the PIL image to tensor\n",
    "train_image_tensor = p2t(train_image)\n",
    "\n",
    "print(train_image_tensor)"
   ]
  },
  {
   "cell_type": "markdown",
   "id": "c91fc562-c2d9-46c0-a375-59b145533db6",
   "metadata": {},
   "source": [
    "We can also make use of the Compose class inside the transforms package to chain several transforms together. Applying the PILToTensor transform with the Compose would look like this:"
   ]
  },
  {
   "cell_type": "code",
   "execution_count": 20,
   "id": "bdcac119-705f-47a1-93e2-8216590c6d0e",
   "metadata": {},
   "outputs": [],
   "source": [
    "transform = transforms.Compose([\n",
    "    transforms.PILToTensor()\n",
    "])\n",
    "\n",
    "train_image_tensor = transform(train_image)"
   ]
  },
  {
   "cell_type": "code",
   "execution_count": 21,
   "id": "e3b681ac-d317-4d4a-bd70-4b10494a9484",
   "metadata": {
    "scrolled": true
   },
   "outputs": [
    {
     "name": "stdout",
     "output_type": "stream",
     "text": [
      "tensor([[[  0,   0,   0,   0,   0,   0,   0,   0,   0,   0,   0,   0,   0,   0,\n",
      "            0,   0,   0,   0,   0,   0,   0,   0,   0,   0,   0,   0,   0,   0],\n",
      "         [  0,   0,   0,   0,   0,   0,   0,   0,   0,   0,   0,   0,   0,   0,\n",
      "            0,   0,   0,   0,   0,   0,   0,   0,   0,   0,   0,   0,   0,   0],\n",
      "         [  0,   0,   0,   0,   0,   0,   0,   0,   0,   0,   0,   0,   0,   0,\n",
      "            0,   0,   0,   0,   0,   0,   0,   0,   0,   0,   0,   0,   0,   0],\n",
      "         [  0,   0,   0,   0,   0,   0,   0,   0,   0,   0,   0,   0,   0,   0,\n",
      "            0,   0,   0,   0,   0,   0,   0,   0,   0,   0,   0,   0,   0,   0],\n",
      "         [  0,   0,   0,   0,   0,   0,   0,   0,   0,   0,   0,   0,   0,   0,\n",
      "            0,   0,   0,   0,   0,   0,   0,   0,   0,   0,   0,   0,   0,   0],\n",
      "         [  0,   0,   0,   0,   0,   0,   0,   0,   0,   0,   0,   0,   3,  18,\n",
      "           18,  18, 126, 136, 175,  26, 166, 255, 247, 127,   0,   0,   0,   0],\n",
      "         [  0,   0,   0,   0,   0,   0,   0,   0,  30,  36,  94, 154, 170, 253,\n",
      "          253, 253, 253, 253, 225, 172, 253, 242, 195,  64,   0,   0,   0,   0],\n",
      "         [  0,   0,   0,   0,   0,   0,   0,  49, 238, 253, 253, 253, 253, 253,\n",
      "          253, 253, 253, 251,  93,  82,  82,  56,  39,   0,   0,   0,   0,   0],\n",
      "         [  0,   0,   0,   0,   0,   0,   0,  18, 219, 253, 253, 253, 253, 253,\n",
      "          198, 182, 247, 241,   0,   0,   0,   0,   0,   0,   0,   0,   0,   0],\n",
      "         [  0,   0,   0,   0,   0,   0,   0,   0,  80, 156, 107, 253, 253, 205,\n",
      "           11,   0,  43, 154,   0,   0,   0,   0,   0,   0,   0,   0,   0,   0],\n",
      "         [  0,   0,   0,   0,   0,   0,   0,   0,   0,  14,   1, 154, 253,  90,\n",
      "            0,   0,   0,   0,   0,   0,   0,   0,   0,   0,   0,   0,   0,   0],\n",
      "         [  0,   0,   0,   0,   0,   0,   0,   0,   0,   0,   0, 139, 253, 190,\n",
      "            2,   0,   0,   0,   0,   0,   0,   0,   0,   0,   0,   0,   0,   0],\n",
      "         [  0,   0,   0,   0,   0,   0,   0,   0,   0,   0,   0,  11, 190, 253,\n",
      "           70,   0,   0,   0,   0,   0,   0,   0,   0,   0,   0,   0,   0,   0],\n",
      "         [  0,   0,   0,   0,   0,   0,   0,   0,   0,   0,   0,   0,  35, 241,\n",
      "          225, 160, 108,   1,   0,   0,   0,   0,   0,   0,   0,   0,   0,   0],\n",
      "         [  0,   0,   0,   0,   0,   0,   0,   0,   0,   0,   0,   0,   0,  81,\n",
      "          240, 253, 253, 119,  25,   0,   0,   0,   0,   0,   0,   0,   0,   0],\n",
      "         [  0,   0,   0,   0,   0,   0,   0,   0,   0,   0,   0,   0,   0,   0,\n",
      "           45, 186, 253, 253, 150,  27,   0,   0,   0,   0,   0,   0,   0,   0],\n",
      "         [  0,   0,   0,   0,   0,   0,   0,   0,   0,   0,   0,   0,   0,   0,\n",
      "            0,  16,  93, 252, 253, 187,   0,   0,   0,   0,   0,   0,   0,   0],\n",
      "         [  0,   0,   0,   0,   0,   0,   0,   0,   0,   0,   0,   0,   0,   0,\n",
      "            0,   0,   0, 249, 253, 249,  64,   0,   0,   0,   0,   0,   0,   0],\n",
      "         [  0,   0,   0,   0,   0,   0,   0,   0,   0,   0,   0,   0,   0,   0,\n",
      "           46, 130, 183, 253, 253, 207,   2,   0,   0,   0,   0,   0,   0,   0],\n",
      "         [  0,   0,   0,   0,   0,   0,   0,   0,   0,   0,   0,   0,  39, 148,\n",
      "          229, 253, 253, 253, 250, 182,   0,   0,   0,   0,   0,   0,   0,   0],\n",
      "         [  0,   0,   0,   0,   0,   0,   0,   0,   0,   0,  24, 114, 221, 253,\n",
      "          253, 253, 253, 201,  78,   0,   0,   0,   0,   0,   0,   0,   0,   0],\n",
      "         [  0,   0,   0,   0,   0,   0,   0,   0,  23,  66, 213, 253, 253, 253,\n",
      "          253, 198,  81,   2,   0,   0,   0,   0,   0,   0,   0,   0,   0,   0],\n",
      "         [  0,   0,   0,   0,   0,   0,  18, 171, 219, 253, 253, 253, 253, 195,\n",
      "           80,   9,   0,   0,   0,   0,   0,   0,   0,   0,   0,   0,   0,   0],\n",
      "         [  0,   0,   0,   0,  55, 172, 226, 253, 253, 253, 253, 244, 133,  11,\n",
      "            0,   0,   0,   0,   0,   0,   0,   0,   0,   0,   0,   0,   0,   0],\n",
      "         [  0,   0,   0,   0, 136, 253, 253, 253, 212, 135, 132,  16,   0,   0,\n",
      "            0,   0,   0,   0,   0,   0,   0,   0,   0,   0,   0,   0,   0,   0],\n",
      "         [  0,   0,   0,   0,   0,   0,   0,   0,   0,   0,   0,   0,   0,   0,\n",
      "            0,   0,   0,   0,   0,   0,   0,   0,   0,   0,   0,   0,   0,   0],\n",
      "         [  0,   0,   0,   0,   0,   0,   0,   0,   0,   0,   0,   0,   0,   0,\n",
      "            0,   0,   0,   0,   0,   0,   0,   0,   0,   0,   0,   0,   0,   0],\n",
      "         [  0,   0,   0,   0,   0,   0,   0,   0,   0,   0,   0,   0,   0,   0,\n",
      "            0,   0,   0,   0,   0,   0,   0,   0,   0,   0,   0,   0,   0,   0]]],\n",
      "       dtype=torch.uint8)\n"
     ]
    }
   ],
   "source": [
    "print(train_image_tensor)"
   ]
  },
  {
   "cell_type": "markdown",
   "id": "36cf446f-41d1-40ff-aaad-d4d6310bf0b1",
   "metadata": {},
   "source": [
    "Below you will find a method which you can use to plot the image tensors. It takes the image data in tensor format and the Integer label."
   ]
  },
  {
   "cell_type": "code",
   "execution_count": 22,
   "id": "dc934cba-a89e-477b-9cc7-32a49f9d79b5",
   "metadata": {},
   "outputs": [],
   "source": [
    "def plot_image(image,label,colored=False):\n",
    "    figure = plt.figure(figsize=(4, 4))\n",
    "    if not colored:\n",
    "        plt.imshow(image[0].cpu(), cmap='gray')\n",
    "    else:\n",
    "        plt.imshow(image.permute(1, 2, 0))\n",
    "    plt.title(\"label = \" + str(label))"
   ]
  },
  {
   "cell_type": "code",
   "execution_count": 23,
   "id": "ba6c15a9-a5ae-4931-8cd4-80a5ca57c396",
   "metadata": {},
   "outputs": [
    {
     "data": {
      "image/png": "[encoded data removed]",
      "text/plain": [
       "<Figure size 400x400 with 1 Axes>"
      ]
     },
     "metadata": {},
     "output_type": "display_data"
    }
   ],
   "source": [
    "plot_image(train_image_tensor,train_label)"
   ]
  },
  {
   "cell_type": "markdown",
   "id": "37fbb8f3-8434-4a23-ba6b-bf1bfdd45243",
   "metadata": {},
   "source": [
    "#### Normalize"
   ]
  },
  {
   "cell_type": "markdown",
   "id": "c37c7114-619f-44eb-932d-9d781a261141",
   "metadata": {},
   "source": [
    "Another transform we might want to perform is to normalize all data. By normalizing all data we can ensure, in the case of using image data, that all pixel values are in the same range (for example in the range 0 to 1 or -1 to 1) and so we could reduce learning time. The process of training a machine learning model could be affected by the different pixel values as some images might include higher or lower pixel values than similar cases.\n",
    "\n",
    "To get the data between 0 and 1 is as simply as dividing it by the maximum pixel value."
   ]
  },
  {
   "cell_type": "code",
   "execution_count": 24,
   "id": "2bf09ad1-28a8-4eee-b146-135724d20ad8",
   "metadata": {},
   "outputs": [
    {
     "name": "stdout",
     "output_type": "stream",
     "text": [
      "Minimum pixel value:  0\n",
      "Maximum pixel value:  255\n"
     ]
    }
   ],
   "source": [
    "print(\"Minimum pixel value: \", train_set.data.min().item())\n",
    "print(\"Maximum pixel value: \", train_set.data.max().item())"
   ]
  },
  {
   "cell_type": "code",
   "execution_count": 25,
   "id": "d8b3a329-8777-45b5-9c54-5c11d1fadd77",
   "metadata": {},
   "outputs": [
    {
     "name": "stdout",
     "output_type": "stream",
     "text": [
      "Minimum pixel value:  0.0\n",
      "Maximum pixel value:  1.0\n"
     ]
    }
   ],
   "source": [
    "normalized_train_set = train_set.data/255\n",
    "\n",
    "print(\"Minimum pixel value: \", normalized_train_set.data.min().item())\n",
    "print(\"Maximum pixel value: \", normalized_train_set.data.max().item())"
   ]
  },
  {
   "cell_type": "markdown",
   "id": "f2b5437e-75cc-49eb-ad16-ca3df5c84f17",
   "metadata": {},
   "source": [
    "Or we could use the `transforms.ToTensor()` class on the PIL images. Later on we will learn how we can apply this on the entire dataset at once."
   ]
  },
  {
   "cell_type": "code",
   "execution_count": 26,
   "id": "c4b8cfe3-fce9-487d-b5e2-522dbe3b707e",
   "metadata": {},
   "outputs": [
    {
     "name": "stdout",
     "output_type": "stream",
     "text": [
      "Minimum pixel value:  0.0\n",
      "Maximum pixel value:  1.0\n",
      "\n",
      "Minimum pixel value:  0.0\n",
      "Maximum pixel value:  1.0\n"
     ]
    }
   ],
   "source": [
    "train_image, train_label = train_set[0]\n",
    "\n",
    "# Example 1 \n",
    "\n",
    "d2t = transforms.ToTensor()\n",
    "train_image_tensor = d2t(train_image)\n",
    "print(\"Minimum pixel value: \", train_image_tensor.min().item())\n",
    "print(\"Maximum pixel value: \", train_image_tensor.max().item())\n",
    "\n",
    "# Example 2\n",
    "\n",
    "transform = transforms.Compose([\n",
    "    transforms.ToTensor()\n",
    "])\n",
    "train_image_tensor = transform(train_image)\n",
    "print(\"\\nMinimum pixel value: \", train_image_tensor.min().item())\n",
    "print(\"Maximum pixel value: \", train_image_tensor.max().item())"
   ]
  },
  {
   "cell_type": "markdown",
   "id": "dd95615f-ff76-432e-b763-cbe322074816",
   "metadata": {},
   "source": [
    "To get them in the range of -1 and 1 we can use [`transforms.Normalize()`](https://pytorch.org/vision/0.9/transforms.html#torchvision.transforms.Normalize) to apply normalization on the dataset samples. It does not support PIL images so you would first need to transform them into tensors. Also the Normalization method expects Float instead of Integer, so we will make use of the [`transforms.ConvertImageDType()`](https://pytorch.org/vision/0.10/transforms.html#torchvision.transforms.ConvertImageDtype) to convert the image to float.\n",
    "\n",
    "It also takes a few parameters which are the mean and standard deviation of the entire dataset. To be able to get the MNIST data in the range of -1 and 1 we need to divide the data by 255 and use a mean and standard deviation of 0.5. This is because the `transforms.Normalize` method will transform the data by applying: \n",
    "\n",
    "$$\n",
    "new\\_pixel\\_value = \\frac{pixel\\_value - mean}{standard\\_deviation}\n",
    "$$\n",
    "\n",
    "So if we divide all data by the maximum pixel value 255 we will get the values between 0 and 1. Then if we use these mean and standard deviation values with the Normalization method we will get the values between -1 and 1.\n",
    "\n",
    "$$\n",
    "-1 = \\frac{0 - 0.5}{0.5}\n",
    "$$\n",
    "\n",
    "$$\n",
    "1 = \\frac{1 - 0.5}{0.5}\n",
    "$$"
   ]
  },
  {
   "cell_type": "code",
   "execution_count": null,
   "id": "bf50d56c-d037-49d2-ae99-b74da3aeca40",
   "metadata": {},
   "outputs": [],
   "source": [
    "train_image, train_label = train_set[0]\n",
    "\n",
    "# Example 1:\n",
    "\n",
    "p2t = transforms.PILToTensor()\n",
    "norm_img = transforms.Normalize(0.5, 0.5)\n",
    "tensor_train_image = p2t(train_image)\n",
    "normalized_train_image = norm_img(tensor_train_image.float()/255)\n",
    "\n",
    "print(\"Minimum pixel value: \", normalized_train_image.min().item())\n",
    "print(\"Maximum pixel value: \", normalized_train_image.max().item())\n",
    "\n",
    "# Example 2:\n",
    "\n",
    "transform = transforms.Compose([\n",
    "    transforms.PILToTensor(),\n",
    "    transforms.ConvertImageDtype(torch.float64), #this transform will also normalize between 0 and 1\n",
    "    transforms.Normalize(0.5,0.5)\n",
    "])\n",
    "\n",
    "normalized_train_image = transform(train_image)\n",
    "print(\"\\nMinimum pixel value: \", normalized_train_image.min().item())\n",
    "print(\"Maximum pixel value: \", normalized_train_image.max().item())"
   ]
  },
  {
   "cell_type": "markdown",
   "id": "77dc4b07-86ee-499a-991c-f99b2aed7ef3",
   "metadata": {},
   "source": [
    "#### Other transforms"
   ]
  },
  {
   "cell_type": "markdown",
   "id": "2494d588-4139-4f51-83bc-7bb2e68c4ff8",
   "metadata": {},
   "source": [
    "There is an entire list of pre-defined transforms you could apply on the data. Here we show only a few examples. There can be many reasons to apply these transforms. For example, by flipping the images in a certain way you could create more data yourself. With numbers this is not a wise thing to do. However, if the task is to determine the color of the objects in the images, then it does not matter if the image is upside down or if an object is directed to the right or to the left. As long as the color of the object can be recognized.\n",
    "\n",
    "To flip image you can make use of [`transforms.RandomHorizontalFlip()`](https://pytorch.org/vision/0.9/transforms.html#torchvision.transforms.RandomHorizontalFlip) or [`transforms.RandomVerticalFlip()`](https://pytorch.org/vision/0.9/transforms.html#torchvision.transforms.RandomVerticalFlip) which both take as parameter value `p` which is the probability that the flip is applied. If you set this value to 1.0 it will always flip the image. "
   ]
  },
  {
   "cell_type": "code",
   "execution_count": null,
   "id": "e0bd6d90-51e4-405d-b897-c89a22e96be3",
   "metadata": {},
   "outputs": [],
   "source": [
    "# Horizontal and Vertical Flip code\n",
    "train_image, train_label = train_set[0]\n",
    "\n",
    "hor_flip = transforms.RandomHorizontalFlip(p=1.0)\n",
    "ver_flip = transforms.RandomVerticalFlip(p=1.0)\n",
    "\n",
    "print(\"Original view training image:\")\n",
    "display(train_image.resize((200,200)))\n",
    "\n",
    "print(\"\\nHorizontally flipped view training image:\")\n",
    "display(hor_flip(train_image).resize((200,200)))\n",
    "\n",
    "print(\"\\nVertically flipped view training image:\")\n",
    "display(ver_flip(train_image).resize((200,200)))\n",
    "\n",
    "print(\"\\nVertically flipped view of horizontally flipped training image:\")\n",
    "display(ver_flip(hor_flip(train_image)).resize((200,200)))\n",
    "\n",
    "print(\"\\nHorizontally flipped view of vertically flipped training image:\")\n",
    "display(hor_flip(ver_flip(train_image)).resize((200,200)))"
   ]
  },
  {
   "cell_type": "markdown",
   "id": "53b37ee6-2a7f-4bdd-8296-af3cbfa7da5c",
   "metadata": {},
   "source": [
    "Or maybe it does not matter what color the object is but it is of importance that your model recognizes the edges of an object. In this case you want to make the edges more clear and to do so you first want to turn the colored image into grayscale. "
   ]
  },
  {
   "cell_type": "code",
   "execution_count": null,
   "id": "23d2d32e-398f-4ddd-be81-2b589823447e",
   "metadata": {},
   "outputs": [],
   "source": [
    "# Grayscale Code\n",
    "color_image = Image.open(\"hello_kitty.jpg\")\n",
    "\n",
    "img2gray = transforms.RandomGrayscale(p=1.0)\n",
    "\n",
    "print(\"Original Color Image:\")\n",
    "display(color_image.resize((200,200)))\n",
    "print(\"\\nGrayscale Image:\")\n",
    "display(img2gray(color_image).resize((200,200)))"
   ]
  },
  {
   "cell_type": "markdown",
   "id": "ea6f7780-7c3b-4da2-ba3d-d905b749b417",
   "metadata": {},
   "source": [
    "While we hope this short section on transformations helped you understand what transformations are, what they are used for and how you can apply them. It is a whole topic on its own and there are many other transformations which we did not mention. For this course you will mainly need to know how to transform your data into tensors, the focus will not be on improving results by experimenting with different preprocessing techniques."
   ]
  },
  {
   "cell_type": "markdown",
   "id": "1eeebfa7-dc81-40b9-9ffb-ac783a66becc",
   "metadata": {},
   "source": [
    "### Download, Load and Transform All Together"
   ]
  },
  {
   "cell_type": "markdown",
   "id": "85464077-19ac-4e98-a51b-ace237daa95e",
   "metadata": {},
   "source": [
    "Now that we have explained what transformations are we would like to show you how you can download, load and transform all at the same time."
   ]
  },
  {
   "cell_type": "code",
   "execution_count": null,
   "id": "4a16c0ac-e4af-46d9-955c-f090b32ff071",
   "metadata": {},
   "outputs": [],
   "source": [
    "train_set = torchvision.datasets.MNIST(root='./data', transform=transforms.Compose([transforms.ToTensor()]), download=True, train=True)\n",
    "test_set = torchvision.datasets.MNIST(root='./data', transform=transforms.Compose([transforms.ToTensor()]), download=True, train=False)"
   ]
  },
  {
   "cell_type": "markdown",
   "id": "c9b94d9d-2b3e-46c2-ab85-5197ca155500",
   "metadata": {},
   "source": [
    "### Create your own Custom Dataset"
   ]
  },
  {
   "cell_type": "markdown",
   "id": "b93f0958-0d8d-430b-a770-36836e5d0ca0",
   "metadata": {},
   "source": [
    "You can also use Pytorch's Dataset class to [create your own custom dataset](https://pytorch.org/tutorials/beginner/basics/data_tutorial.html#creating-a-custom-dataset-for-your-files). A custom Dataset class must implement three functions: `__init__`,`__len__` and `__getitem__`.  \n",
    "\n",
    "What a class is and how to build one is explained in a previous tutorial. Please take a look at that tutorial if this part is not clear to you. \n",
    "\n",
    "The `__init__` function is run once when instantiating the Dataset object. Here you can set class variables that can be used throughout the class. The `__len__` function returns the total number of samples found in your custom dataset. finally, `__getitem__` function loads and returns a sample from the dataset at the given index `idx`. So when you use `custom_dataset[1]`, this function is used to load and return the sample at index 1. \n",
    "\n",
    "In the code snippet below we will create a custom dataset class based on the MNIST dataset. The only difference is that when we load a data sample we will flip it horizontally. Just to show you how to create a custom dataset. You can ofcourse create a totally different dataset using images locally stored. Or you use this custom dataset class to perform different operations on the images when you load them with `__getitem__`. This is all up to you. "
   ]
  },
  {
   "cell_type": "code",
   "execution_count": null,
   "id": "5b6db7f2-7db6-403c-8e97-cd44b445fe72",
   "metadata": {},
   "outputs": [],
   "source": [
    "class CustomMNISTDataset(Dataset):\n",
    "\n",
    "    def __init__(self, original_mnist_dataset):\n",
    "        self.original_set = original_mnist_dataset\n",
    "\n",
    "    def __len__(self):\n",
    "        return len(self.original_set)\n",
    "\n",
    "    def __getitem__(self, idx):\n",
    "        img, label = self.original_set[idx]\n",
    "        horizontal_transform = transforms.RandomHorizontalFlip(p=1.0)\n",
    "        return horizontal_transform(img), label"
   ]
  },
  {
   "cell_type": "code",
   "execution_count": null,
   "id": "bae49ea2-5cee-4205-a32a-194de0410e9c",
   "metadata": {},
   "outputs": [],
   "source": [
    "custom_set = CustomMNISTDataset(train_set)\n",
    "\n",
    "train_image, train_label = train_set[50]\n",
    "custom_image, custom_label = custom_set[50]\n",
    "\n",
    "plot_image(train_image,train_label)\n",
    "plot_image(custom_image,custom_label)"
   ]
  },
  {
   "cell_type": "markdown",
   "id": "41ef7aa7-c80e-46a0-97bb-c6c79be2792b",
   "metadata": {},
   "source": [
    "## PyTorch DataLoaders (MNIST Dataset)"
   ]
  },
  {
   "cell_type": "markdown",
   "id": "78aaaecb-0712-4883-b42f-43da567591eb",
   "metadata": {},
   "source": [
    "In the first part of this tutorial you have learned how to load and transform the MNIST dataset. Now, you can use this data to train a machine learning model in several ways. Either you train the model once on the entire dataset. Or you leave a part aside to validate your model inbetween training. You can also train your model in multiple runs. This can be done sequentially each run, where you feed the training samples in the same order or you shuffle them each round. Moreover, you can also divide your training set in smaller groups, otherwise known as batches, to reduce the memory needed as you do not load the training data all at once. This has the additional benefit that you can process data in parallel for faster data loading. Either way, you have multiple options on how to feed the data to your model. \n",
    "\n",
    "PyTorch [DataLoader](https://pytorch.org/docs/stable/data.html#torch.utils.data.DataLoader) class is an utility class that provides you the tools to load data from a Dataset and create mini-batches for training your models. It is designed to handle large datasets and enables you to perform [data augmentation, shuffling, and other preprocessing tasks](https://saturncloud.io/blog/pytorch-dataloader-features-benefits-and-how-to-use-it/). Instead of having to implement your data training strategy yourself, you can simply use this class to make your life easier. The following code snippet shows how to wrap a DataLoader around the MNIST dataset."
   ]
  },
  {
   "cell_type": "code",
   "execution_count": null,
   "id": "870a9678-57d9-4dfc-a40d-7cfd0593c67c",
   "metadata": {},
   "outputs": [],
   "source": [
    "# DataLoaders code\n",
    "train_set = torchvision.datasets.MNIST(root='./data', transform=transforms.Compose([transforms.ToTensor()]), download=True, train=True)\n",
    "test_set = torchvision.datasets.MNIST(root='./data', transform=transforms.Compose([transforms.ToTensor()]), download=True, train=False)\n",
    "\n",
    "train_dataloader = DataLoader(train_set, batch_size=64, shuffle=True)\n",
    "test_dataloader = DataLoader(test_set, batch_size=64, shuffle=True)"
   ]
  },
  {
   "cell_type": "markdown",
   "id": "b4aaba11-8d7c-4db4-ba60-ff5885fa1f6f",
   "metadata": {},
   "source": [
    "As you can see from this code snippet and from the pytorch documentation, the `DataLoader` class takes a few parameters. The most important for now are:\n",
    "- dataset (Dataset): dataset from which to load the data.\n",
    "- batch_size (int, optional): how many samples per batch to load (default: 1).\n",
    "- shuffle (bool, optional): set to `True` to have the data reshuffled at every epoch (default: `False`).\n",
    "- sampler (Sampler or Iterable, optional): defines the strategy to draw samples from the dataset. Can be any `Iterable` with `__len__` implemented. If specified, `shuffle` must not be specified. (default: None).\n",
    "- batch_sampler (Sampler or Iterable, optional): like `sampler`, but returns a batch of indices at a time. Mutually exclusive with `batch_size`, `shuffle`, `sampler` and `drop_last`. (default: None).\n",
    "- num_workers (int, optional): how many subprocesses to use for data loading. 0 means that the data will be loaded in the main process. (default: 0).\n",
    "- pin_memory (bool, optional): If `True`, the data loader will copy Tensors into device/CUDA pinned memory before returning them. (default: `False`).\n",
    "\n",
    "The other parameters can be found [here](https://pytorch.org/docs/stable/data.html#torch.utils.data.DataLoader).\n",
    "\n",
    "Below we show you how to iterate over the dataloader and get images with corresponding labels."
   ]
  },
  {
   "cell_type": "code",
   "execution_count": null,
   "id": "07f4884a-7191-4b0f-839e-3bccecae8a4d",
   "metadata": {},
   "outputs": [],
   "source": [
    "# Iterate through dataloader\n",
    "train_features, train_labels = next(iter(train_dataloader))\n",
    "print(f\"Feature batch shape: {train_features.size()}\")\n",
    "print(f\"Labels batch shape: {train_labels.size()}\")\n",
    "img = train_features[0].squeeze()\n",
    "label = train_labels[0]\n",
    "plt.imshow(img, cmap=\"gray\")\n",
    "plt.show()\n",
    "print(f\"Label: {label}\")"
   ]
  },
  {
   "cell_type": "markdown",
   "id": "b549a3d4-b647-474d-916e-c60bf219dd5c",
   "metadata": {},
   "source": [
    "Now you know everything there is to know for this course on loading data and using the dataloader to efficiently feed data to your machine learning model. In a next tutorial we will focus on building machine learning models and we will then use the dataloader to actually start training models.\n",
    "\n",
    "Before you start on the next tutorial you can test your knowledge on Datasets and Dataloaders with the exercises below. This time you will be asked to load the data from the CIFAR-10 dataset yourself."
   ]
  },
  {
   "cell_type": "markdown",
   "id": "414c6c23-f8eb-47f5-a040-e8c9be79a8a8",
   "metadata": {},
   "source": [
    "## Exercises (CIFAR-10 Dataset)"
   ]
  },
  {
   "cell_type": "markdown",
   "id": "519d806d-cd5c-41d0-b4f7-cf4258fa7efe",
   "metadata": {},
   "source": [
    "We showed you how to load the MNIST dataset and now you are going to try to do the same but load the CIFAR10 dataset. In some cases you will need to finish the code we already added and in other cases you might need to add some more yourself. "
   ]
  },
  {
   "cell_type": "markdown",
   "id": "3daf2cf8-cf18-4080-89a7-15436716adb7",
   "metadata": {},
   "source": [
    "### Load CIFAR-10 dataset"
   ]
  },
  {
   "cell_type": "markdown",
   "id": "2bd873ff-ec7f-4ed8-a3d6-0fc6cbee5b75",
   "metadata": {},
   "source": [
    "Finish the code below in such a way you do not get an assertion error or any other error."
   ]
  },
  {
   "cell_type": "code",
   "execution_count": null,
   "id": "d4228cad-9d36-4a9c-8245-4c62e32e756b",
   "metadata": {},
   "outputs": [],
   "source": [
    "train_set = torchvision.datasets.CIFAR10(root='./data', download=True, train=True)"
   ]
  },
  {
   "cell_type": "code",
   "execution_count": null,
   "id": "9205aaa6-235d-47a4-a083-b8787ee397be",
   "metadata": {},
   "outputs": [],
   "source": [
    "test_set = torchvision.datasets.CIFAR10(root='./data', download=True, train=False)"
   ]
  },
  {
   "cell_type": "code",
   "execution_count": null,
   "id": "067970f0-899c-4254-96db-ea6e23137107",
   "metadata": {},
   "outputs": [],
   "source": [
    "train_set = ...\n",
    "assert type(train_set) ==  datasets.CIFAR10\n",
    "assert len(train_set) == 50000"
   ]
  },
  {
   "cell_type": "code",
   "execution_count": null,
   "id": "574cb801-6d9f-4129-91ee-28992427a6fc",
   "metadata": {},
   "outputs": [],
   "source": [
    "test_set = ...\n",
    "assert type(test_set) == datasets.CIFAR10\n",
    "assert len(test_set) == 10000"
   ]
  },
  {
   "cell_type": "markdown",
   "id": "c52be878-33cd-4511-903b-b3ebad9caecf",
   "metadata": {},
   "source": [
    "Lets visualize the data by executing the code snippet below. This snippet should run without errors if you loaded the data correctly."
   ]
  },
  {
   "cell_type": "code",
   "execution_count": null,
   "id": "00f0fb3e-35c5-4d5e-b474-2d79492af94f",
   "metadata": {},
   "outputs": [],
   "source": [
    "train_image, train_label = train_set[1]\n",
    "print(\"Label = \", train_label)\n",
    "display(train_image.resize((200,200)))"
   ]
  },
  {
   "cell_type": "markdown",
   "id": "e580ad9c-95ad-4a78-b2d3-8491d24e8617",
   "metadata": {},
   "source": [
    "As you can probably see we are dealing with colored PIL images and Integer labels. CIFAR10 contains [10 different category images](https://www.cs.toronto.edu/~kriz/cifar.html). The 10 categories/classes are in order of label number:\n",
    "- airplane\n",
    "- automobile\n",
    "- bird\n",
    "- cat\n",
    "- deer\n",
    "- dog\n",
    "- frog\n",
    "- horse\n",
    "- ship\n",
    "- truck"
   ]
  },
  {
   "cell_type": "code",
   "execution_count": null,
   "id": "ad4ea285-42e3-4e52-a4d4-4596460e4b22",
   "metadata": {},
   "outputs": [],
   "source": [
    "classes = ['airplaine', 'automobile', 'bird', 'cat', 'deer', 'dog', 'frog', 'horse', 'ship', 'truck']"
   ]
  },
  {
   "cell_type": "code",
   "execution_count": null,
   "id": "14a40aca-d30c-4f84-8c87-b98c733d3c3a",
   "metadata": {},
   "outputs": [],
   "source": [
    "print(\"Label = \", classes[train_label])\n",
    "display(train_image.resize((200,200)))"
   ]
  },
  {
   "cell_type": "markdown",
   "id": "3a2fbca5-a4e1-4152-9baa-015aadf18ac3",
   "metadata": {},
   "source": [
    "Execute the code snippet below to examine the shape of the training data."
   ]
  },
  {
   "cell_type": "code",
   "execution_count": null,
   "id": "d2e943b4-7433-49cf-84fc-68c5abf13073",
   "metadata": {},
   "outputs": [],
   "source": [
    "train_images = train_set.data\n",
    "train_images.shape"
   ]
  },
  {
   "cell_type": "markdown",
   "id": "f71e1713-585c-4e3c-9b10-3ab64bd8a84d",
   "metadata": {},
   "source": [
    "As you can see there are 50.000 images of shape 32x32x3. So not only are they a different size then the MNIST images, which were of size 28x28. Also they include 3 channels instead of only 1. As these are colored images, we are dealing with RGB color channels. Keep this in mind when working with this dataset."
   ]
  },
  {
   "cell_type": "markdown",
   "id": "d90985a8-faab-4721-b292-6405cb576126",
   "metadata": {},
   "source": [
    "### Transform CIFAR-10 dataset"
   ]
  },
  {
   "cell_type": "code",
   "execution_count": null,
   "id": "333cb0a2-c903-4ced-bddc-d42c606e6ae8",
   "metadata": {},
   "outputs": [],
   "source": [
    "train_image, train_label = train_set[1]\n",
    "\n",
    "transform = ...\n",
    "\n",
    "transformed_image = ...\n",
    "\n",
    "plot_image(transformed_image,classes[train_label],colored=True)"
   ]
  },
  {
   "cell_type": "code",
   "execution_count": null,
   "id": "e3e71b0a-092b-4f13-9268-f1ffd2077589",
   "metadata": {},
   "outputs": [],
   "source": [
    "train_image, train_label = train_set[1]\n",
    "\n",
    "transform = transforms.Compose([\n",
    "    transforms.PILToTensor(),\n",
    "    transforms.RandomHorizontalFlip(p=1.0),\n",
    "    transforms.RandomVerticalFlip(p=1.0)\n",
    "])\n",
    "\n",
    "transformed_image = transform(train_image)\n",
    "\n",
    "plot_image(transformed_image,classes[train_label],colored=True)"
   ]
  },
  {
   "cell_type": "markdown",
   "id": "b6cdabbc-570c-4a25-9b15-46544e9890de",
   "metadata": {},
   "source": [
    "### Create Custom Dataset"
   ]
  },
  {
   "cell_type": "markdown",
   "id": "4b7587c7-1f42-4fdb-8bdc-587edd3cb10d",
   "metadata": {},
   "source": [
    "Now create a custom CIFAR10 dataset that when, `__getitem__` is called, returns grayscale vertically flipped tensors."
   ]
  },
  {
   "cell_type": "code",
   "execution_count": null,
   "id": "00163f21-149a-42dc-a09a-c1c857c661d2",
   "metadata": {},
   "outputs": [],
   "source": [
    "class __(Dataset):\n",
    "\n",
    "    def ...():\n",
    "\n",
    "    def ...():\n",
    "\n",
    "    def ...():"
   ]
  },
  {
   "cell_type": "markdown",
   "id": "6a143053-70ea-4f26-934c-53bca4c47834",
   "metadata": {},
   "source": [
    "Finish the code snippet below. The image displayed should be gray and vertically flipped."
   ]
  },
  {
   "cell_type": "code",
   "execution_count": null,
   "id": "f1e1edf4-8a30-4adc-9bb8-1e86522b0020",
   "metadata": {},
   "outputs": [],
   "source": [
    "custom_train = ...\n",
    "\n",
    "img, label = custom_train[1]\n",
    "plot_image(img,label)"
   ]
  },
  {
   "cell_type": "markdown",
   "id": "ee33a95f-ea2b-4974-903d-0e8b5d2ff99b",
   "metadata": {},
   "source": [
    "### Use DataLoaders on the CIFAR-10 dataset"
   ]
  },
  {
   "cell_type": "markdown",
   "id": "bf9fc9ce-dd4b-4c95-a6e8-f6dc3e17de6a",
   "metadata": {},
   "source": [
    "Finally, you are going to wrap the loaded CIFAR10 dataset into a DataLoader. Create DataLoader of your custom dataset with batch size of 128 and shuffle set to True. Then load one batch and display the data of one batch like done above."
   ]
  },
  {
   "cell_type": "code",
   "execution_count": null,
   "id": "e6c68c10-97b1-46ef-aac1-d56f4e0ba7d6",
   "metadata": {},
   "outputs": [],
   "source": [
    "train_dataloader = DataLoader(..., ..., ...)\n",
    "\n",
    "train_features, train_labels = ...\n",
    "\n",
    "print(f\"Feature batch shape: {train_features.size()}\")\n",
    "print(f\"Labels batch shape: {train_labels.size()}\")\n",
    "img = train_features[0].squeeze()\n",
    "label = train_labels[0]\n",
    "plot_image(img,classes[label.item()])"
   ]
  }
 ],
 "metadata": {
  "kernelspec": {
   "display_name": "Python 3 (ipykernel)",
   "language": "python",
   "name": "python3"
  },
  "language_info": {
   "codemirror_mode": {
    "name": "ipython",
    "version": 3
   },
   "file_extension": ".py",
   "mimetype": "text/x-python",
   "name": "python",
   "nbconvert_exporter": "python",
   "pygments_lexer": "ipython3",
   "version": "3.11.3"
  }
 },
 "nbformat": 4,
 "nbformat_minor": 5
}
