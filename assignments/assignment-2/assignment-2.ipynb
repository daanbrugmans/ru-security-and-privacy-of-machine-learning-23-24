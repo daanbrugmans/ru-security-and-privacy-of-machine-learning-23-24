{
 "cells": [
  {
   "cell_type": "markdown",
   "metadata": {},
   "source": [
    "# Assignment 2 - Security and Privacy of Machine Learning\n",
    "### By Daan Brugmans (s1080742)\n",
    "\n",
    "This notebook contains the implementation of Assignment 2 for the Radboud University course [Security and Privacy of Machine Learning](https://www.ru.nl/courseguides/science/vm/osirislinks/imc/nwi-imc069/).\n",
    "The topic at hand is to execute, analyze, and defend against backdoor attacks on convolutional neural networks.\n",
    "Specifically, this notebook wil look at [Blend Attacks](https://arxiv.org/pdf/1712.05526) and [WaNet Attacks](https://arxiv.org/pdf/2102.10369), in addition to the [Fine-Pruning Defense](https://arxiv.org/pdf/1805.12185).\n",
    "\n",
    "This notebook is divided into two parts.\n",
    "In the first part, we will set up and define all components that we need in order to answer the questions posed in the assignment.\n",
    "In the second part, we will answer the questions in a Q&A-style by providing the question, the code that will give us an answer, and the answer itself.\n",
    "\n",
    "This notebook should show all results without being needed to run.\n",
    "However, if you do want to run this notebook, I have provided a `requirements.txt` that you can use to install all the required packages.\n",
    "You can also find this notebook with [this URL](https://github.com/daanbrugmans/ru-security-and-privacy-of-machine-learning-23-24/blob/main/assignment-2/assignment-2.ipynb)."
   ]
  },
  {
   "cell_type": "markdown",
   "metadata": {},
   "source": [
    "## Part 1: Setup"
   ]
  },
  {
   "cell_type": "markdown",
   "metadata": {},
   "source": [
    "### 1.1 Imports\n",
    "We will use PyTorch as the main environment for our deep learning endeavors. To this end, we will use the `torch` and `torchvision` packages."
   ]
  },
  {
   "cell_type": "code",
   "execution_count": 41,
   "metadata": {},
   "outputs": [],
   "source": [
    "import random\n",
    "import gc\n",
    "from copy import copy\n",
    "\n",
    "import matplotlib.pyplot as plt\n",
    "import numpy as np\n",
    "import sklearn.metrics\n",
    "from PIL import Image\n",
    "from tqdm import tqdm\n",
    "\n",
    "import torch\n",
    "from torch import nn\n",
    "from torch.utils.data import Dataset\n",
    "from torch.utils.data import DataLoader\n",
    "from torch.utils.data import random_split\n",
    "\n",
    "import torchvision"
   ]
  },
  {
   "cell_type": "markdown",
   "metadata": {},
   "source": [
    "### 1.2 Preparation\n",
    "Some preparatory code is performed here: we set a seed for `torch`, `numpy`, and `random` for reproducibility, and we set the device on which we will perform our model training. We also define a function for visualizing a batch of images, so that we can visually check if a backdoor has been executed successfully."
   ]
  },
  {
   "cell_type": "code",
   "execution_count": 38,
   "metadata": {},
   "outputs": [
    {
     "name": "stdout",
     "output_type": "stream",
     "text": [
      "cuda\n",
      "NVIDIA GeForce GTX 1050\n"
     ]
    }
   ],
   "source": [
    "def visualize_batch(images: torch.Tensor, labels: torch.Tensor):\n",
    "    \"\"\"Visualizes a batch of images.\n",
    "    \n",
    "    Taken from week 9 notebook (Backdoor Defenses, dr. Picek) and refactored.\"\"\"\n",
    "    \n",
    "    # Making sure we can view the images\n",
    "    images = images.detach().numpy()\n",
    "    images = images*255\n",
    "    images = [image.astype(np.uint8) for image in images]\n",
    "    images = [np.moveaxis(image, source=0, destination=-1) for image in images]\n",
    "    \n",
    "    # Plot the images in the batch, along with the corresponding labels\n",
    "    fig = plt.figure(figsize=(25, 4))\n",
    "    for idx in np.arange(20):\n",
    "        ax = fig.add_subplot(2, 20//2, idx+1, xticks=[], yticks=[])\n",
    "        ax.imshow(images[idx], cmap='viridis')\n",
    "        # Print out the correct label for each image\n",
    "        # .item() gets the value contained in a Tensor\n",
    "        ax.set_title(str(labels[idx].item()))\n",
    "    \n",
    "    plt.show()\n",
    "\n",
    "def set_global_seed(seed):\n",
    "    \"\"\"Sets the same seed for varying libraries.\n",
    "    \n",
    "    Taken from week 5 lab notebook (Evasion Attacks (Defenses), dr. Picek)\"\"\"\n",
    "    torch.manual_seed(seed)\n",
    "    np.random.seed(seed)\n",
    "    random.seed(seed)\n",
    "\n",
    "    if torch.cuda.is_available():\n",
    "        torch.cuda.manual_seed(seed)\n",
    "        torch.cuda.manual_seed_all(seed)\n",
    "\n",
    "        torch.backends.cudnn.benchmark = False\n",
    "        torch.backends.cudnn.deterministic = True\n",
    "        \n",
    "set_global_seed(3131)\n",
    "        \n",
    "device = torch.device(\"cuda\" if torch.cuda.is_available() else \"cpu\")\n",
    "print(device)\n",
    "\n",
    "if str(device) == \"cuda\":\n",
    "    print(torch.cuda.get_device_name())"
   ]
  },
  {
   "cell_type": "markdown",
   "metadata": {},
   "source": [
    "### 1.3 Attacks\n",
    "Here, we define the attacks that we will perform on our neural network, and the defenses that we will use to protect our neural network.\n",
    "We define two backdoor attack models: the Blend Attack and the WaNet Attack.\n",
    "We also define one backdoor defense model: the Fine-Pruning Defense.\n",
    "\n",
    "# TODO WRITE TEXT AND CODE FOR ATTACKS AND DEFENSE"
   ]
  },
  {
   "cell_type": "code",
   "execution_count": 29,
   "metadata": {},
   "outputs": [],
   "source": [
    "import torchvision.transforms.functional\n",
    "\n",
    "\n",
    "class Attack:\n",
    "    def __init__(self) -> None:\n",
    "        self.attack_name: str\n",
    "        self.source_label: int\n",
    "        self.target_label: int\n",
    "    \n",
    "    def execute(self, image: torch.Tensor):\n",
    "        raise NotImplementedError(\"The Attack base class is abstract. Please use an implementation of an Attack.\")\n",
    "\n",
    "class BlendAttack(Attack):\n",
    "    def __init__(self, source_label: int, target_label: int) -> None:\n",
    "        super().__init__()\n",
    "        \n",
    "        self.attack_name = \"Blend Attack\"\n",
    "        \n",
    "        self.source_label = source_label\n",
    "        self.target_label = target_label\n",
    "        \n",
    "        self.blend_image = Image.open(\"./hello_kitty.jpg\")\n",
    "        self.blend_image = self.blend_image.resize((32, 32))\n",
    "        self.blend_image = np.array(self.blend_image) / 255\n",
    "        self.blend_image = np.moveaxis(self.blend_image, source=-1, destination=0)\n",
    "        \n",
    "    def execute(self, image: torch.Tensor) -> torch.Tensor:\n",
    "        if self.source_label is None:\n",
    "            raise NotImplementedError(\"Source Agnostic Blend Attacks have not been implemented.\")\n",
    "        else:            \n",
    "            backdoored_image = image + self.blend_image\n",
    "            backdoored_image = backdoored_image / 2\n",
    "            backdoored_image = backdoored_image.to(torch.float32)\n",
    "            \n",
    "            return backdoored_image\n",
    "\n",
    "class WaNetAttack(Attack):\n",
    "    def __init__(self, source_label: int, target_label: int) -> None:\n",
    "        super().__init__()\n",
    "\n",
    "        self.attack_name = \"WaNet Attack\"\n",
    "        \n",
    "        self.source_label = source_label\n",
    "        self.target_label = target_label\n",
    "        \n",
    "    def execute(self, image: torch.Tensor) -> torch.Tensor:\n",
    "        if self.source_label is None:\n",
    "            pass\n",
    "        else:\n",
    "            raise NotImplementedError(\"Source Specific WaNet Attacks have not been implemented.\")\n",
    "\n",
    "class FinePruningDefense:\n",
    "    pass"
   ]
  },
  {
   "cell_type": "markdown",
   "metadata": {},
   "source": [
    "### 1.4 Data\n",
    "We define a backdoored version of the CIFAR-10 dataset. This backdoored version of CIFAR-10 takes an `Attack` object and uses it to backdoor the CIFAR-10 data.\n",
    "\n",
    "We load the CIFAR-10 dataset using the function `get_cifar10_dataloaders`. When called, the function returns 3 `DataLoader` objects: for the train set, the validation set, and the test set respectively. If we pass an `Attack` object to the function, it will return dataloaders of a backdoored CIFAR-10. Otherwise, it returns the regular, clean CIFAR-10."
   ]
  },
  {
   "cell_type": "code",
   "execution_count": 4,
   "metadata": {},
   "outputs": [],
   "source": [
    "class BackdooredCIFAR10(Dataset):\n",
    "        def __init__(self, backdoor: Attack, train: bool) -> None:\n",
    "            super().__init__()\n",
    "            \n",
    "            self.epsilon = 0.08\n",
    "                        \n",
    "            self.clean_cifar10 = torchvision.datasets.CIFAR10(root=\"d:/Datasets\", transform=torchvision.transforms.ToTensor(), download=True, train=train)\n",
    "            self.clean_cifar10_loader = DataLoader(self.clean_cifar10, batch_size=1, shuffle=True)\n",
    "            \n",
    "            self.backdoor = backdoor\n",
    "            self.backdoored_cifar10 = []\n",
    "            self.backdoored_sample_count = round(len(self.clean_cifar10) * self.epsilon, 0)\n",
    "                        \n",
    "            if train:\n",
    "                self._backdoor_train()\n",
    "            else:\n",
    "                self._backdoor_test()\n",
    "                                                                \n",
    "        def __len__(self) -> int:\n",
    "            return len(self.backdoored_cifar10)\n",
    "        \n",
    "        def __getitem__(self, index):\n",
    "            return self.backdoored_cifar10[index]\n",
    "        \n",
    "        def _backdoor_train(self):\n",
    "            # If attack is source agnostic\n",
    "            if self.backdoor.source_label is None:\n",
    "                for index, (image, label) in enumerate(self.clean_cifar10_loader):\n",
    "                    label = label.item()\n",
    "                    image = torch.squeeze(image, 0)\n",
    "                    \n",
    "                    # If the image belongs to the subset of images we want to backdoor\n",
    "                    if index < self.backdoored_sample_count:\n",
    "                        backdoored_image = self.backdoor.execute(image)\n",
    "                        self.backdoored_cifar10.append((backdoored_image, self.backdoor.target_label))\n",
    "                    # If the image does not belong to the subset of images we want to backdoor\n",
    "                    else:\n",
    "                        self.backdoored_cifar10.append((image, label))\n",
    "                    \n",
    "            # If attack is source specific\n",
    "            else:\n",
    "                for index, (image, label) in enumerate(self.clean_cifar10_loader):\n",
    "                    label = label.item()\n",
    "                    image = torch.squeeze(image, 0)\n",
    "                \n",
    "                    # If the image belongs to the subset of images we want to backdoor\n",
    "                    if index < self.backdoored_sample_count:\n",
    "                        backdoored_image = self.backdoor.execute(image)\n",
    "                    \n",
    "                        if label == self.backdoor.source_label:\n",
    "                            self.backdoored_cifar10.append((backdoored_image, self.backdoor.target_label))\n",
    "                        else:\n",
    "                            self.backdoored_cifar10.append((backdoored_image, label))  \n",
    "                    # If the image does not belong to the subset of images we want to backdoor\n",
    "                    else:\n",
    "                        self.backdoored_cifar10.append((image, label))\n",
    "        \n",
    "        def _backdoor_test(self):\n",
    "            for image, label in iter(self.clean_cifar10_loader):\n",
    "                label = label.item()\n",
    "                image = torch.squeeze(image, 0)\n",
    "                adversarial_image = self.backdoor.execute(image)\n",
    "                \n",
    "                self.backdoored_cifar10.append((adversarial_image, label))\n",
    "\n",
    "def get_cifar10_dataloaders(backdoor: Attack = None, train_split=0.8) -> tuple[DataLoader, DataLoader, DataLoader]:\n",
    "    \"\"\"Returns DataLoader objects for a train, validation, and test set of the CIFAR-10 dataset. If an `Attack` object is passed, it will backdoor the data using the object first.\"\"\"\n",
    "    \n",
    "    if backdoor is None:\n",
    "        cifar10_dataset_train_val = torchvision.datasets.CIFAR10(root=\"d:/Datasets\", train=True, download=True, transform=torchvision.transforms.ToTensor())\n",
    "        cifar10_dataset_test = torchvision.datasets.CIFAR10(root=\"d:/Datasets\", train=False, download=True, transform=torchvision.transforms.ToTensor())\n",
    "    else:\n",
    "        cifar10_dataset_train_val = BackdooredCIFAR10(backdoor, train=True)\n",
    "        cifar10_dataset_test = BackdooredCIFAR10(backdoor, train=False)\n",
    "    \n",
    "    train_size = int(len(cifar10_dataset_train_val) * train_split)\n",
    "    val_size = int(len(cifar10_dataset_train_val) - train_size)\n",
    "    cifar10_dataset_train, cifar10_dataset_val = random_split(cifar10_dataset_train_val, [train_size, val_size])\n",
    "    \n",
    "    cifar10_dataloader_train = DataLoader(cifar10_dataset_train, batch_size=128, shuffle=True)\n",
    "    cifar10_dataloader_val = DataLoader(cifar10_dataset_val, batch_size=128, shuffle=False)\n",
    "    cifar10_dataloader_test = DataLoader(cifar10_dataset_test, batch_size=128, shuffle=False)\n",
    "    \n",
    "    return cifar10_dataloader_train, cifar10_dataloader_val, cifar10_dataloader_test"
   ]
  },
  {
   "cell_type": "markdown",
   "metadata": {},
   "source": [
    "### 1.5 Neural Network\n",
    "#### 1.5.1 Definition\n",
    "The following code block consists of two classes.\n",
    "\n",
    "The first class is called `CIFAR10NeuralNet`.\n",
    "It is a PyTorch convolutional network.\n",
    "It consists of three convolution blocks followed by one linear block.\n",
    "Every convolution block contains two convolution layers with ReLU and batch normalization, and one max pooling layer with dropout.\n",
    "The linear block is the same, but with fully connected layers instead of convolution layers.\n",
    "This architecture directly comes from [this Kaggle notebook by Ekta Sharma](https://www.kaggle.com/code/ektasharma/simple-cifar10-cnn-keras-code-with-88-accuracy#Building-the-CNN-Model-using-Keras).\n",
    "However, I rewrote his Keras code to PyTorch code, and trained the model myself.\n",
    "\n",
    "The second class is called `NeuralModel`.\n",
    "This class is a collection of all processes and objects that are needed for training a `CIFAR10NeuralNet`.\n",
    "It contains an instance of the `CIFAR10NeuralNet`, its loss function, and its optimizer.\n",
    "It also contains functions for training and testing the `CIFAR10NeuralNet`, both using regular clean data, as wel as adversarial training.\n",
    "Finally, it contains a function that can be used to plot the train/validation loss and accuracy for the most recent training run.\n",
    "\n",
    "I have chosen to implement it this way, so that all code related to the neural network and its architecture is encapsulated within a single class.\n",
    "In my opinion, this makes performing varying attacks very clean: with only a few rows of code, I am able to instantiate and train a new model.\n",
    "This makes the experiments easy to read and hides away set implementation details."
   ]
  },
  {
   "cell_type": "code",
   "execution_count": 49,
   "metadata": {},
   "outputs": [],
   "source": [
    "class CIFAR10NeuralNet(nn.Module):\n",
    "    def __init__(self, *args, **kwargs) -> None:\n",
    "        super().__init__(*args, **kwargs)\n",
    "        \n",
    "        self.convolutional_block_1 = nn.Sequential(\n",
    "            nn.Conv2d(in_channels=3, out_channels=32, kernel_size=3, stride=1, padding=1, dilation=1),\n",
    "            nn.ReLU(),\n",
    "            nn.BatchNorm2d(num_features=32),\n",
    "            \n",
    "            nn.Conv2d(in_channels=32, out_channels=32, kernel_size=3, stride=1, padding=1, dilation=1),\n",
    "            nn.ReLU(),\n",
    "            nn.BatchNorm2d(num_features=32),\n",
    "            \n",
    "            nn.MaxPool2d(kernel_size=2, stride=2, padding=0),\n",
    "            nn.Dropout(p=0.3)\n",
    "        )\n",
    "        \n",
    "        self.convolutional_block_2 = nn.Sequential(\n",
    "            nn.Conv2d(in_channels=32, out_channels=64, kernel_size=3, stride=1, padding=1, dilation=1),\n",
    "            nn.ReLU(),\n",
    "            nn.BatchNorm2d(num_features=64),\n",
    "            \n",
    "            nn.Conv2d(in_channels=64, out_channels=64, kernel_size=3, stride=1, padding=1, dilation=1),\n",
    "            nn.ReLU(),\n",
    "            nn.BatchNorm2d(num_features=64),\n",
    "            \n",
    "            nn.MaxPool2d(kernel_size=2, stride=2, padding=0),\n",
    "            nn.Dropout(p=0.5)\n",
    "        )\n",
    "        \n",
    "        self.convolutional_block_3 = nn.Sequential(\n",
    "            nn.Conv2d(in_channels=64, out_channels=128, kernel_size=3, stride=1, padding=1, dilation=1),\n",
    "            nn.ReLU(),\n",
    "            nn.BatchNorm2d(num_features=128),\n",
    "            \n",
    "            nn.Conv2d(in_channels=128, out_channels=128, kernel_size=3, stride=1, padding=1, dilation=1),\n",
    "            nn.ReLU(),\n",
    "            nn.BatchNorm2d(num_features=128),\n",
    "            \n",
    "            nn.MaxPool2d(kernel_size=2, stride=2, padding=0),\n",
    "            nn.Dropout(p=0.5)\n",
    "        )\n",
    "        \n",
    "        self.linear_block_1 = nn.Sequential(\n",
    "            nn.Flatten(),\n",
    "            nn.Linear(in_features=128*4*4, out_features=128),\n",
    "            nn.ReLU(),\n",
    "            nn.BatchNorm1d(128),\n",
    "            nn.Dropout(p=0.5),\n",
    "            \n",
    "            nn.Linear(in_features=128, out_features=10),\n",
    "            nn.Softmax(dim=1)\n",
    "        )\n",
    "            \n",
    "    def forward(self, x):\n",
    "        x = self.convolutional_block_1(x)\n",
    "        x = self.convolutional_block_2(x)\n",
    "        x = self.convolutional_block_3(x)\n",
    "        x = self.linear_block_1(x)\n",
    "        \n",
    "        return x\n",
    "    \n",
    "class NeuralModel:\n",
    "    def __init__(self, attack: Attack = None) -> None:\n",
    "        self.neural_network = CIFAR10NeuralNet().to(device)\n",
    "        self.loss_function = nn.CrossEntropyLoss()\n",
    "        self.optimizer = torch.optim.AdamW(self.neural_network.parameters(), lr=0.001)\n",
    "        \n",
    "        if attack is None:\n",
    "            self.train_data, self.val_data, self.test_data = get_cifar10_dataloaders()\n",
    "            self.attack = None\n",
    "        else:\n",
    "            self.train_data, self.val_data, self.test_data = get_cifar10_dataloaders(backdoor=attack)\n",
    "            self.attack = attack\n",
    "        \n",
    "        self.history = None\n",
    "        \n",
    "    def train(self, epochs=30):\n",
    "        \"\"\"Train the network.\"\"\"\n",
    "        \n",
    "        # Keep record of loss and accuracy metrics for most recent training procedure\n",
    "        self.history = {\n",
    "            \"Train Type\": \"Clean\" if self.attack is None else f\"Adversarial ({self.attack.attack_name})\",\n",
    "            \"Train Loss\": [],\n",
    "            \"Validation Loss\": [],\n",
    "            \"Train Accuracy\": [],\n",
    "            \"Validation Accuracy\": []\n",
    "        }\n",
    "        \n",
    "        for epoch in range(epochs):\n",
    "            print(f\"Started Epoch {epoch + 1}\")\n",
    "            \n",
    "            self.neural_network.train()\n",
    "            \n",
    "            # Train\n",
    "            print(\" Training...\")\n",
    "            \n",
    "            train_batch_losses = []\n",
    "            train_batch_accuracies = []\n",
    "            \n",
    "            for images, targets in tqdm(self.train_data):\n",
    "                images = images.to(device)\n",
    "                targets = targets.to(device)\n",
    "                \n",
    "                predictions = self.neural_network(images)\n",
    "                \n",
    "                # Calculate train loss and backpropagate\n",
    "                train_batch_loss = self.loss_function(predictions, targets)\n",
    "                train_batch_losses.append(train_batch_loss)\n",
    "                train_batch_loss.backward()\n",
    "                \n",
    "                # Move predictions and labels to cpu for accuracy calculation\n",
    "                predictions = torch.max(predictions, dim=1)[1]\n",
    "                predictions = predictions.cpu().detach().numpy()\n",
    "                targets = targets.cpu().detach().numpy()\n",
    "                \n",
    "                # Calculate train accuracy\n",
    "                train_batch_accuracy = sklearn.metrics.accuracy_score(y_pred=predictions, y_true=targets)\n",
    "                train_batch_accuracies.append(train_batch_accuracy)\n",
    "                \n",
    "                # Step optimizer and clear gradients\n",
    "                self.optimizer.step()\n",
    "                self.optimizer.zero_grad()\n",
    "            \n",
    "            # Calculate epoch loss and accuracy    \n",
    "            train_epoch_loss = float(torch.stack(train_batch_losses).mean())\n",
    "            self.history[\"Train Loss\"].append(train_epoch_loss)\n",
    "            \n",
    "            train_epoch_accuracy = np.mean(train_batch_accuracies)\n",
    "            self.history[\"Train Accuracy\"].append(train_epoch_accuracy)\n",
    "                \n",
    "            # Validate\n",
    "            print(\" Validating...\")\n",
    "            \n",
    "            val_batch_losses = []\n",
    "            val_batch_accuracies = []\n",
    "            \n",
    "            with torch.no_grad():\n",
    "                self.neural_network.eval()\n",
    "                \n",
    "                for images, targets in tqdm(self.val_data):\n",
    "                    images = images.to(device)\n",
    "                    targets = targets.to(device)\n",
    "                    \n",
    "                    predictions = self.neural_network(images)\n",
    "                    \n",
    "                    # Calculate validation loss\n",
    "                    val_batch_loss = self.loss_function(predictions, targets)\n",
    "                    val_batch_losses.append(val_batch_loss)\n",
    "                    \n",
    "                    # Move predictions and labels to cpu for accuracy calculation\n",
    "                    predictions = torch.max(predictions, dim=1)[1]\n",
    "                    predictions = predictions.cpu().detach().numpy()\n",
    "                    targets = targets.cpu().detach().numpy()\n",
    "                    \n",
    "                    # Calculate validation loss\n",
    "                    val_batch_accuracy = sklearn.metrics.accuracy_score(y_pred=predictions, y_true=targets)\n",
    "                    val_batch_accuracies.append(val_batch_accuracy)\n",
    "            \n",
    "            # Calculate epoch loss and accuracy        \n",
    "            val_epoch_loss = float(torch.stack(val_batch_losses).mean())\n",
    "            self.history[\"Validation Loss\"].append(val_epoch_loss)\n",
    "            \n",
    "            val_epoch_accuracy = np.mean(val_batch_accuracies)\n",
    "            self.history[\"Validation Accuracy\"].append(val_epoch_accuracy)\n",
    "            \n",
    "    def test(self):\n",
    "        \"\"\"Test the model. Returns the test loss and test accuracy.\"\"\"\n",
    "        \n",
    "        with torch.no_grad():\n",
    "            print(\" Testing...\")\n",
    "            \n",
    "            test_batch_losses = []\n",
    "            test_batch_accuracies = []\n",
    "            \n",
    "            self.neural_network.eval()\n",
    "            \n",
    "            for images, targets in tqdm(self.test_data):\n",
    "                images = images.to(device)\n",
    "                targets = targets.to(device)\n",
    "                \n",
    "                predictions = self.neural_network(images)\n",
    "                \n",
    "                # Calculate validation loss\n",
    "                test_batch_loss = self.loss_function(predictions, targets)\n",
    "                test_batch_losses.append(test_batch_loss)\n",
    "                \n",
    "                # Move predictions and labels to cpu for accuracy calculation\n",
    "                predictions = torch.max(predictions, dim=1)[1]\n",
    "                predictions = predictions.cpu().detach().numpy()\n",
    "                targets = targets.cpu().detach().numpy()\n",
    "                \n",
    "                # Calculate validation loss\n",
    "                test_batch_accuracy = sklearn.metrics.accuracy_score(y_pred=predictions, y_true=targets)\n",
    "                test_batch_accuracies.append(test_batch_accuracy)\n",
    "                \n",
    "            # Calculate test loss and accuracy     \n",
    "            test_loss = float(torch.stack(test_batch_losses).mean())\n",
    "            test_accuracy = np.mean(test_batch_accuracies)\n",
    "        \n",
    "            return test_loss, test_accuracy\n",
    "    \n",
    "    def plot_history(self):\n",
    "        \"\"\"Plot the train and validation losses and accuracies for the latest training round.\"\"\"\n",
    "        \n",
    "        if self.history == None:\n",
    "            raise ValueError(\"Training history could not be found. Please train the model prior to plotting its losses.\")\n",
    "        \n",
    "        _, axes = plt.subplots(2, 1, figsize=(15, 8))\n",
    "        \n",
    "        axes[0].plot(range(len(self.history[\"Train Loss\"])), self.history[\"Train Loss\"], label=\"Train\")\n",
    "        axes[0].plot(range(len(self.history[\"Validation Loss\"])), self.history[\"Validation Loss\"], label=\"Validation\")\n",
    "        axes[0].set_title(f\"Train and Validation Losses for {self.history['Train Type']} Data\")\n",
    "        axes[0].set_xlabel(\"Epochs\")\n",
    "        axes[0].set_ylabel(\"Loss\")\n",
    "        axes[0].legend()\n",
    "        \n",
    "        axes[1].plot(range(len(self.history[\"Train Accuracy\"])), self.history[\"Train Accuracy\"], label=\"Train\")\n",
    "        axes[1].plot(range(len(self.history[\"Validation Accuracy\"])), self.history[\"Validation Accuracy\"], label=\"Validation\")\n",
    "        axes[1].set_title(f\"Train and Validation Accuracies for {self.history['Train Type']} Data\")\n",
    "        axes[1].set_xlabel(\"Epochs\")\n",
    "        axes[1].set_ylabel(\"Accuracy\")\n",
    "        axes[1].legend()\n"
   ]
  },
  {
   "cell_type": "markdown",
   "metadata": {},
   "source": [
    "#### 1.5.2 Training\n",
    "The following code block will train an instance of the `NeuralModel` on a clean CIFAR-10 dataset.\n",
    "We will use it later to compare its performance against backdoored models.\n",
    "You can skip this step if you just want to use the pre-trained model."
   ]
  },
  {
   "cell_type": "code",
   "execution_count": 6,
   "metadata": {},
   "outputs": [
    {
     "name": "stdout",
     "output_type": "stream",
     "text": [
      "Files already downloaded and verified\n",
      "Files already downloaded and verified\n",
      "Started Epoch 1\n",
      " Training...\n"
     ]
    },
    {
     "name": "stderr",
     "output_type": "stream",
     "text": [
      "100%|██████████| 313/313 [00:24<00:00, 12.55it/s]\n"
     ]
    },
    {
     "name": "stdout",
     "output_type": "stream",
     "text": [
      " Validating...\n"
     ]
    },
    {
     "name": "stderr",
     "output_type": "stream",
     "text": [
      "100%|██████████| 79/79 [00:02<00:00, 26.34it/s]\n"
     ]
    },
    {
     "name": "stdout",
     "output_type": "stream",
     "text": [
      "Started Epoch 2\n",
      " Training...\n"
     ]
    },
    {
     "name": "stderr",
     "output_type": "stream",
     "text": [
      "100%|██████████| 313/313 [00:23<00:00, 13.20it/s]\n"
     ]
    },
    {
     "name": "stdout",
     "output_type": "stream",
     "text": [
      " Validating...\n"
     ]
    },
    {
     "name": "stderr",
     "output_type": "stream",
     "text": [
      "100%|██████████| 79/79 [00:02<00:00, 27.45it/s]\n"
     ]
    },
    {
     "name": "stdout",
     "output_type": "stream",
     "text": [
      "Started Epoch 3\n",
      " Training...\n"
     ]
    },
    {
     "name": "stderr",
     "output_type": "stream",
     "text": [
      "100%|██████████| 313/313 [00:23<00:00, 13.55it/s]\n"
     ]
    },
    {
     "name": "stdout",
     "output_type": "stream",
     "text": [
      " Validating...\n"
     ]
    },
    {
     "name": "stderr",
     "output_type": "stream",
     "text": [
      "100%|██████████| 79/79 [00:02<00:00, 26.71it/s]\n"
     ]
    },
    {
     "name": "stdout",
     "output_type": "stream",
     "text": [
      "Started Epoch 4\n",
      " Training...\n"
     ]
    },
    {
     "name": "stderr",
     "output_type": "stream",
     "text": [
      "100%|██████████| 313/313 [00:23<00:00, 13.60it/s]\n"
     ]
    },
    {
     "name": "stdout",
     "output_type": "stream",
     "text": [
      " Validating...\n"
     ]
    },
    {
     "name": "stderr",
     "output_type": "stream",
     "text": [
      "100%|██████████| 79/79 [00:02<00:00, 27.28it/s]\n"
     ]
    },
    {
     "name": "stdout",
     "output_type": "stream",
     "text": [
      "Started Epoch 5\n",
      " Training...\n"
     ]
    },
    {
     "name": "stderr",
     "output_type": "stream",
     "text": [
      "100%|██████████| 313/313 [00:22<00:00, 13.62it/s]\n"
     ]
    },
    {
     "name": "stdout",
     "output_type": "stream",
     "text": [
      " Validating...\n"
     ]
    },
    {
     "name": "stderr",
     "output_type": "stream",
     "text": [
      "100%|██████████| 79/79 [00:02<00:00, 27.45it/s]\n"
     ]
    },
    {
     "name": "stdout",
     "output_type": "stream",
     "text": [
      "Started Epoch 6\n",
      " Training...\n"
     ]
    },
    {
     "name": "stderr",
     "output_type": "stream",
     "text": [
      "100%|██████████| 313/313 [00:23<00:00, 13.55it/s]\n"
     ]
    },
    {
     "name": "stdout",
     "output_type": "stream",
     "text": [
      " Validating...\n"
     ]
    },
    {
     "name": "stderr",
     "output_type": "stream",
     "text": [
      "100%|██████████| 79/79 [00:02<00:00, 27.18it/s]\n"
     ]
    },
    {
     "name": "stdout",
     "output_type": "stream",
     "text": [
      "Started Epoch 7\n",
      " Training...\n"
     ]
    },
    {
     "name": "stderr",
     "output_type": "stream",
     "text": [
      "100%|██████████| 313/313 [00:22<00:00, 13.62it/s]\n"
     ]
    },
    {
     "name": "stdout",
     "output_type": "stream",
     "text": [
      " Validating...\n"
     ]
    },
    {
     "name": "stderr",
     "output_type": "stream",
     "text": [
      "100%|██████████| 79/79 [00:02<00:00, 27.38it/s]\n"
     ]
    },
    {
     "name": "stdout",
     "output_type": "stream",
     "text": [
      "Started Epoch 8\n",
      " Training...\n"
     ]
    },
    {
     "name": "stderr",
     "output_type": "stream",
     "text": [
      "100%|██████████| 313/313 [00:22<00:00, 13.62it/s]\n"
     ]
    },
    {
     "name": "stdout",
     "output_type": "stream",
     "text": [
      " Validating...\n"
     ]
    },
    {
     "name": "stderr",
     "output_type": "stream",
     "text": [
      "100%|██████████| 79/79 [00:02<00:00, 27.39it/s]\n"
     ]
    },
    {
     "name": "stdout",
     "output_type": "stream",
     "text": [
      "Started Epoch 9\n",
      " Training...\n"
     ]
    },
    {
     "name": "stderr",
     "output_type": "stream",
     "text": [
      "100%|██████████| 313/313 [00:23<00:00, 13.60it/s]\n"
     ]
    },
    {
     "name": "stdout",
     "output_type": "stream",
     "text": [
      " Validating...\n"
     ]
    },
    {
     "name": "stderr",
     "output_type": "stream",
     "text": [
      "100%|██████████| 79/79 [00:02<00:00, 27.40it/s]\n"
     ]
    },
    {
     "name": "stdout",
     "output_type": "stream",
     "text": [
      "Started Epoch 10\n",
      " Training...\n"
     ]
    },
    {
     "name": "stderr",
     "output_type": "stream",
     "text": [
      "100%|██████████| 313/313 [00:22<00:00, 13.66it/s]\n"
     ]
    },
    {
     "name": "stdout",
     "output_type": "stream",
     "text": [
      " Validating...\n"
     ]
    },
    {
     "name": "stderr",
     "output_type": "stream",
     "text": [
      "100%|██████████| 79/79 [00:02<00:00, 26.93it/s]\n"
     ]
    },
    {
     "name": "stdout",
     "output_type": "stream",
     "text": [
      "Started Epoch 11\n",
      " Training...\n"
     ]
    },
    {
     "name": "stderr",
     "output_type": "stream",
     "text": [
      "100%|██████████| 313/313 [00:23<00:00, 13.59it/s]\n"
     ]
    },
    {
     "name": "stdout",
     "output_type": "stream",
     "text": [
      " Validating...\n"
     ]
    },
    {
     "name": "stderr",
     "output_type": "stream",
     "text": [
      "100%|██████████| 79/79 [00:02<00:00, 27.52it/s]\n"
     ]
    },
    {
     "name": "stdout",
     "output_type": "stream",
     "text": [
      "Started Epoch 12\n",
      " Training...\n"
     ]
    },
    {
     "name": "stderr",
     "output_type": "stream",
     "text": [
      "100%|██████████| 313/313 [00:23<00:00, 13.57it/s]\n"
     ]
    },
    {
     "name": "stdout",
     "output_type": "stream",
     "text": [
      " Validating...\n"
     ]
    },
    {
     "name": "stderr",
     "output_type": "stream",
     "text": [
      "100%|██████████| 79/79 [00:02<00:00, 27.29it/s]\n"
     ]
    },
    {
     "name": "stdout",
     "output_type": "stream",
     "text": [
      "Started Epoch 13\n",
      " Training...\n"
     ]
    },
    {
     "name": "stderr",
     "output_type": "stream",
     "text": [
      "100%|██████████| 313/313 [00:23<00:00, 13.50it/s]\n"
     ]
    },
    {
     "name": "stdout",
     "output_type": "stream",
     "text": [
      " Validating...\n"
     ]
    },
    {
     "name": "stderr",
     "output_type": "stream",
     "text": [
      "100%|██████████| 79/79 [00:02<00:00, 27.48it/s]\n"
     ]
    },
    {
     "name": "stdout",
     "output_type": "stream",
     "text": [
      "Started Epoch 14\n",
      " Training...\n"
     ]
    },
    {
     "name": "stderr",
     "output_type": "stream",
     "text": [
      "100%|██████████| 313/313 [00:22<00:00, 13.64it/s]\n"
     ]
    },
    {
     "name": "stdout",
     "output_type": "stream",
     "text": [
      " Validating...\n"
     ]
    },
    {
     "name": "stderr",
     "output_type": "stream",
     "text": [
      "100%|██████████| 79/79 [00:02<00:00, 27.37it/s]\n"
     ]
    },
    {
     "name": "stdout",
     "output_type": "stream",
     "text": [
      "Started Epoch 15\n",
      " Training...\n"
     ]
    },
    {
     "name": "stderr",
     "output_type": "stream",
     "text": [
      "100%|██████████| 313/313 [00:23<00:00, 13.55it/s]\n"
     ]
    },
    {
     "name": "stdout",
     "output_type": "stream",
     "text": [
      " Validating...\n"
     ]
    },
    {
     "name": "stderr",
     "output_type": "stream",
     "text": [
      "100%|██████████| 79/79 [00:02<00:00, 27.23it/s]\n"
     ]
    },
    {
     "name": "stdout",
     "output_type": "stream",
     "text": [
      "Started Epoch 16\n",
      " Training...\n"
     ]
    },
    {
     "name": "stderr",
     "output_type": "stream",
     "text": [
      "100%|██████████| 313/313 [00:22<00:00, 13.63it/s]\n"
     ]
    },
    {
     "name": "stdout",
     "output_type": "stream",
     "text": [
      " Validating...\n"
     ]
    },
    {
     "name": "stderr",
     "output_type": "stream",
     "text": [
      "100%|██████████| 79/79 [00:02<00:00, 27.37it/s]\n"
     ]
    },
    {
     "name": "stdout",
     "output_type": "stream",
     "text": [
      "Started Epoch 17\n",
      " Training...\n"
     ]
    },
    {
     "name": "stderr",
     "output_type": "stream",
     "text": [
      "100%|██████████| 313/313 [00:23<00:00, 13.57it/s]\n"
     ]
    },
    {
     "name": "stdout",
     "output_type": "stream",
     "text": [
      " Validating...\n"
     ]
    },
    {
     "name": "stderr",
     "output_type": "stream",
     "text": [
      "100%|██████████| 79/79 [00:02<00:00, 27.05it/s]\n"
     ]
    },
    {
     "name": "stdout",
     "output_type": "stream",
     "text": [
      "Started Epoch 18\n",
      " Training...\n"
     ]
    },
    {
     "name": "stderr",
     "output_type": "stream",
     "text": [
      "100%|██████████| 313/313 [00:22<00:00, 13.65it/s]\n"
     ]
    },
    {
     "name": "stdout",
     "output_type": "stream",
     "text": [
      " Validating...\n"
     ]
    },
    {
     "name": "stderr",
     "output_type": "stream",
     "text": [
      "100%|██████████| 79/79 [00:02<00:00, 27.55it/s]\n"
     ]
    },
    {
     "name": "stdout",
     "output_type": "stream",
     "text": [
      "Started Epoch 19\n",
      " Training...\n"
     ]
    },
    {
     "name": "stderr",
     "output_type": "stream",
     "text": [
      "100%|██████████| 313/313 [00:22<00:00, 13.64it/s]\n"
     ]
    },
    {
     "name": "stdout",
     "output_type": "stream",
     "text": [
      " Validating...\n"
     ]
    },
    {
     "name": "stderr",
     "output_type": "stream",
     "text": [
      "100%|██████████| 79/79 [00:02<00:00, 27.34it/s]\n"
     ]
    },
    {
     "name": "stdout",
     "output_type": "stream",
     "text": [
      "Started Epoch 20\n",
      " Training...\n"
     ]
    },
    {
     "name": "stderr",
     "output_type": "stream",
     "text": [
      "100%|██████████| 313/313 [00:22<00:00, 13.63it/s]\n"
     ]
    },
    {
     "name": "stdout",
     "output_type": "stream",
     "text": [
      " Validating...\n"
     ]
    },
    {
     "name": "stderr",
     "output_type": "stream",
     "text": [
      "100%|██████████| 79/79 [00:02<00:00, 27.66it/s]\n"
     ]
    },
    {
     "name": "stdout",
     "output_type": "stream",
     "text": [
      "Started Epoch 21\n",
      " Training...\n"
     ]
    },
    {
     "name": "stderr",
     "output_type": "stream",
     "text": [
      "100%|██████████| 313/313 [00:22<00:00, 13.61it/s]\n"
     ]
    },
    {
     "name": "stdout",
     "output_type": "stream",
     "text": [
      " Validating...\n"
     ]
    },
    {
     "name": "stderr",
     "output_type": "stream",
     "text": [
      "100%|██████████| 79/79 [00:02<00:00, 27.57it/s]\n"
     ]
    },
    {
     "name": "stdout",
     "output_type": "stream",
     "text": [
      "Started Epoch 22\n",
      " Training...\n"
     ]
    },
    {
     "name": "stderr",
     "output_type": "stream",
     "text": [
      "100%|██████████| 313/313 [00:22<00:00, 13.61it/s]\n"
     ]
    },
    {
     "name": "stdout",
     "output_type": "stream",
     "text": [
      " Validating...\n"
     ]
    },
    {
     "name": "stderr",
     "output_type": "stream",
     "text": [
      "100%|██████████| 79/79 [00:02<00:00, 27.45it/s]\n"
     ]
    },
    {
     "name": "stdout",
     "output_type": "stream",
     "text": [
      "Started Epoch 23\n",
      " Training...\n"
     ]
    },
    {
     "name": "stderr",
     "output_type": "stream",
     "text": [
      "100%|██████████| 313/313 [00:22<00:00, 13.64it/s]\n"
     ]
    },
    {
     "name": "stdout",
     "output_type": "stream",
     "text": [
      " Validating...\n"
     ]
    },
    {
     "name": "stderr",
     "output_type": "stream",
     "text": [
      "100%|██████████| 79/79 [00:02<00:00, 27.07it/s]\n"
     ]
    },
    {
     "name": "stdout",
     "output_type": "stream",
     "text": [
      "Started Epoch 24\n",
      " Training...\n"
     ]
    },
    {
     "name": "stderr",
     "output_type": "stream",
     "text": [
      "100%|██████████| 313/313 [00:23<00:00, 13.58it/s]\n"
     ]
    },
    {
     "name": "stdout",
     "output_type": "stream",
     "text": [
      " Validating...\n"
     ]
    },
    {
     "name": "stderr",
     "output_type": "stream",
     "text": [
      "100%|██████████| 79/79 [00:02<00:00, 26.99it/s]\n"
     ]
    },
    {
     "name": "stdout",
     "output_type": "stream",
     "text": [
      "Started Epoch 25\n",
      " Training...\n"
     ]
    },
    {
     "name": "stderr",
     "output_type": "stream",
     "text": [
      "100%|██████████| 313/313 [00:23<00:00, 13.58it/s]\n"
     ]
    },
    {
     "name": "stdout",
     "output_type": "stream",
     "text": [
      " Validating...\n"
     ]
    },
    {
     "name": "stderr",
     "output_type": "stream",
     "text": [
      "100%|██████████| 79/79 [00:02<00:00, 27.68it/s]\n"
     ]
    },
    {
     "name": "stdout",
     "output_type": "stream",
     "text": [
      "Started Epoch 26\n",
      " Training...\n"
     ]
    },
    {
     "name": "stderr",
     "output_type": "stream",
     "text": [
      "100%|██████████| 313/313 [00:23<00:00, 13.61it/s]\n"
     ]
    },
    {
     "name": "stdout",
     "output_type": "stream",
     "text": [
      " Validating...\n"
     ]
    },
    {
     "name": "stderr",
     "output_type": "stream",
     "text": [
      "100%|██████████| 79/79 [00:02<00:00, 27.55it/s]\n"
     ]
    },
    {
     "name": "stdout",
     "output_type": "stream",
     "text": [
      "Started Epoch 27\n",
      " Training...\n"
     ]
    },
    {
     "name": "stderr",
     "output_type": "stream",
     "text": [
      "100%|██████████| 313/313 [00:23<00:00, 13.56it/s]\n"
     ]
    },
    {
     "name": "stdout",
     "output_type": "stream",
     "text": [
      " Validating...\n"
     ]
    },
    {
     "name": "stderr",
     "output_type": "stream",
     "text": [
      "100%|██████████| 79/79 [00:02<00:00, 27.52it/s]\n"
     ]
    },
    {
     "name": "stdout",
     "output_type": "stream",
     "text": [
      "Started Epoch 28\n",
      " Training...\n"
     ]
    },
    {
     "name": "stderr",
     "output_type": "stream",
     "text": [
      "100%|██████████| 313/313 [00:23<00:00, 13.60it/s]\n"
     ]
    },
    {
     "name": "stdout",
     "output_type": "stream",
     "text": [
      " Validating...\n"
     ]
    },
    {
     "name": "stderr",
     "output_type": "stream",
     "text": [
      "100%|██████████| 79/79 [00:02<00:00, 27.01it/s]\n"
     ]
    },
    {
     "name": "stdout",
     "output_type": "stream",
     "text": [
      "Started Epoch 29\n",
      " Training...\n"
     ]
    },
    {
     "name": "stderr",
     "output_type": "stream",
     "text": [
      "100%|██████████| 313/313 [00:23<00:00, 13.59it/s]\n"
     ]
    },
    {
     "name": "stdout",
     "output_type": "stream",
     "text": [
      " Validating...\n"
     ]
    },
    {
     "name": "stderr",
     "output_type": "stream",
     "text": [
      "100%|██████████| 79/79 [00:02<00:00, 27.40it/s]\n"
     ]
    },
    {
     "name": "stdout",
     "output_type": "stream",
     "text": [
      "Started Epoch 30\n",
      " Training...\n"
     ]
    },
    {
     "name": "stderr",
     "output_type": "stream",
     "text": [
      "100%|██████████| 313/313 [00:23<00:00, 13.54it/s]\n"
     ]
    },
    {
     "name": "stdout",
     "output_type": "stream",
     "text": [
      " Validating...\n"
     ]
    },
    {
     "name": "stderr",
     "output_type": "stream",
     "text": [
      "100%|██████████| 79/79 [00:02<00:00, 27.05it/s]\n"
     ]
    },
    {
     "data": {
      "image/png": "[encoded data removed]",
      "text/plain": [
       "<Figure size 1500x800 with 2 Axes>"
      ]
     },
     "metadata": {},
     "output_type": "display_data"
    }
   ],
   "source": [
    "clean_model = NeuralModel()\n",
    "clean_model.train()\n",
    "clean_model.plot_history()\n",
    "torch.save(clean_model, \"./models/clean_model.pt\")"
   ]
  },
  {
   "cell_type": "markdown",
   "metadata": {},
   "source": [
    "#### 1.5.3 Loading\n",
    "You can run this code block to load the pre-trained clean model."
   ]
  },
  {
   "cell_type": "code",
   "execution_count": 6,
   "metadata": {},
   "outputs": [],
   "source": [
    "clean_model = torch.load(\"./models/clean_model.pt\")"
   ]
  },
  {
   "cell_type": "markdown",
   "metadata": {},
   "source": [
    "### 1.6 Metrics\n",
    "\n",
    "Finally, we define the metrics with which we measure the effectiveness of our attacks and defenses. These are the Attack Succes Rate (ASR), which measures how many of our adversarial samples resulted in wrongful classification, and the Clean Accuracy Drop, which measures the decrease in accuracy on a clean dataset when a clean model is fed adversarial samples."
   ]
  },
  {
   "cell_type": "code",
   "execution_count": 60,
   "metadata": {},
   "outputs": [],
   "source": [
    "def _count_non_source_misclassifications(targets: torch.Tensor, predictions: torch.Tensor, source_label, target_label):\n",
    "    \"\"\"Calculates and returns the number of classifications of images with a label that is not the source label nor the target label.\n",
    "    \n",
    "    Taken from the week 9 lab notebook (Backdoor Defenses, dr. Picek) and refactored.\"\"\"\n",
    "    \n",
    "    sub_non_source_total = 0\n",
    "    sub_misclassifications = 0\n",
    "    \n",
    "    sub_non_source_total_dict = {}\n",
    "    sub_misclassification_dict = {}\n",
    "\n",
    "    # Find all the images with a different label than the source or target label\n",
    "    indices = torch.logical_and((targets != source_label), (targets != target_label)).nonzero(as_tuple=False).numpy()\n",
    "    indices = indices.reshape(indices.shape[0])\n",
    "    sub_non_source_total += indices.shape[0]\n",
    "\n",
    "    # For all non-source and non-target label images, check if the prediction is equal to the target label\n",
    "    for index in indices:\n",
    "        target = targets[index].detach().cpu().numpy()\n",
    "        prediction = predictions[index].detach().cpu().numpy()\n",
    "        \n",
    "        if str(target) in sub_non_source_total_dict:\n",
    "            sub_non_source_total_dict[str(target)] += 1\n",
    "        else:\n",
    "            sub_non_source_total_dict[str(target)] = 1\n",
    "        \n",
    "        if prediction == target_label:\n",
    "            sub_misclassifications += 1\n",
    "            \n",
    "            if str(target) in sub_misclassification_dict:\n",
    "                sub_misclassification_dict[str(target)] += 1\n",
    "            else:\n",
    "                sub_misclassification_dict[str(target)] = 1\n",
    "    \n",
    "    return sub_misclassifications, sub_non_source_total, sub_misclassification_dict, sub_non_source_total_dict\n",
    "\n",
    "def _count_source_specific_classifications(targets: torch.Tensor, predictions: torch.Tensor, source_label: int, target_label: int):\n",
    "    \"\"\"Calculates and returns the number of classifications of images with the source label.\n",
    "    \n",
    "    Taken from the week 9 lab notebook (Backdoor Defenses, dr. Picek) and refactored.\"\"\"\n",
    "    sub_total = 0\n",
    "    sub_correct = 0\n",
    "    \n",
    "    # Find all the images with the source label\n",
    "    indices = (targets == source_label).nonzero(as_tuple=False).numpy()\n",
    "    indices = indices.reshape(indices.shape[0])\n",
    "    sub_total += indices.shape[0]\n",
    "    \n",
    "    # For all source label images, check if the prediction is equal to the target label\n",
    "    for i in indices:\n",
    "        if predictions[i].detach().cpu().numpy() == target_label:\n",
    "            sub_correct += 1\n",
    "    \n",
    "    return sub_correct, sub_total\n",
    "\n",
    "def attack_success_rate(model: NeuralModel, adversarial_test_dataloader: DataLoader, target_label: int, source_label: int = None, verbose: bool = False) -> float:\n",
    "    \"\"\"Calculates and returns the Attack Success Rate.\n",
    "    \n",
    "    Taken from the week 9 lab notebook (Backdoor Defenses, dr. Picek) and refactored.\"\"\"\n",
    "    \n",
    "    correct = 0\n",
    "    total = 0\n",
    "    non_source_total = 0\n",
    "    misclassifications = 0\n",
    "    \n",
    "    non_source_total_dict = {}\n",
    "    misclassification_dict = {}\n",
    "\n",
    "    with torch.no_grad():\n",
    "        model.neural_network.eval()\n",
    "\n",
    "        for images, targets in tqdm(adversarial_test_dataloader):\n",
    "            # Use poisoned test image to get predictions of backdoored model\n",
    "            images = images.to(device)\n",
    "            outputs = model.neural_network(images).detach()\n",
    "            _, predictions = torch.max(outputs, dim=1)\n",
    "            \n",
    "            # If source agnostic attack\n",
    "            if source_label is None:\n",
    "                # For all test samples, check if the predicted label is equal to the target label\n",
    "                for i in range(len(images)):\n",
    "                    if targets[i] != target_label:\n",
    "                        total += 1\n",
    "                        \n",
    "                        if predictions[i].detach().cpu().item() == target_label:\n",
    "                            correct += 1\n",
    "            # If source specific attack\n",
    "            else:\n",
    "                sub_correct, sub_total = _count_source_specific_classifications(targets, predictions, source_label, target_label)\n",
    "                correct += sub_correct\n",
    "                total += sub_total\n",
    "                \n",
    "                if verbose:\n",
    "                    sub_misclassifications, sub_non_source_total, sub_misclassification_dict, sub_non_source_total_dict = _count_non_source_misclassifications(targets, predictions, source_label, target_label)\n",
    "                    misclassifications += sub_misclassifications\n",
    "                    non_source_total += sub_non_source_total\n",
    "                    \n",
    "                    for key in sub_misclassification_dict.keys():\n",
    "                        if key in misclassification_dict:\n",
    "                            misclassification_dict[key] += sub_misclassification_dict[key]\n",
    "                        else:\n",
    "                            misclassification_dict[key] = sub_misclassification_dict[key]\n",
    "                            \n",
    "                    for key in sub_non_source_total_dict.keys():\n",
    "                        if key in non_source_total_dict:\n",
    "                            non_source_total_dict[key] += sub_non_source_total_dict[key]\n",
    "                        else:\n",
    "                            non_source_total_dict[key] = sub_non_source_total_dict[key]\n",
    "                            \n",
    "        if verbose:\n",
    "            for key in non_source_total_dict.keys():\n",
    "                if key in misclassification_dict:\n",
    "                    misclassification_dict[key] = round(misclassification_dict[key] / non_source_total_dict[key], 2)\n",
    "                else:\n",
    "                    misclassification_dict[key] = 0\n",
    "\n",
    "    attack_success_rate = correct / total\n",
    "    print(f\"Attack Success Rate: {round(attack_success_rate, 2)}\")\n",
    "    \n",
    "    if source_label and verbose:\n",
    "        print(f\"Number of Misclassifications:\", misclassifications)\n",
    "        print(f\"Number of Images Not With Source Label:\", non_source_total)\n",
    "        print(\"Rate of Misclassification for Backdoored Images with Labels other than Source of Target:\")\n",
    "        \n",
    "        for key, value in misclassification_dict.items():\n",
    "            print(f\" {key}: {value}\")\n",
    "        \n",
    "        misclassification_rate = misclassifications / non_source_total\n",
    "        print(f\"False Positive Rate: {round(misclassification_rate, 2)}\")\n",
    "        \n",
    "    return attack_success_rate\n",
    "\n",
    "def clean_accuracy_drop(clean_model: NeuralModel, adversarial_model: NeuralModel) -> float:\n",
    "    \"\"\"Calculates and returns the Clean Accuracy Drop between a clean and adversarial model.\"\"\"\n",
    "    \n",
    "    original_test_data_adversarial_model = copy(adversarial_model.test_data)\n",
    "    adversarial_model.test_data = clean_model.test_data\n",
    "    \n",
    "    _, accuracy_clean_model = clean_model.test()\n",
    "    _, accuracy_adversarial_model = adversarial_model.test()\n",
    "    \n",
    "    adversarial_model.test_data = original_test_data_adversarial_model\n",
    "    \n",
    "    clean_accuracy_drop = round(accuracy_clean_model - accuracy_adversarial_model, 2)\n",
    "    print(\"Clean Accuracy Drop:\", clean_accuracy_drop)\n",
    "    \n",
    "    return clean_accuracy_drop"
   ]
  },
  {
   "cell_type": "markdown",
   "metadata": {},
   "source": [
    "## Part 2: Q&A"
   ]
  },
  {
   "cell_type": "markdown",
   "metadata": {},
   "source": [
    "### 2.1 Blend Attack"
   ]
  },
  {
   "cell_type": "markdown",
   "metadata": {},
   "source": [
    "#### 2.1.a \n",
    "Q: Execute a source-specific Blend attack using the hello-kitty image\n",
    "on the CIFAR-10 dataset. Create a backdoored dataset using this attack with\n",
    "poisoning rate of 8%, source label set to ship (index 8) and target label set to\n",
    "cat (index 3). Compute and report the Attack Succes Rate (ASR) and Clean\n",
    "Accuracy Drop (CAD). Save the dataset and model for later use. Evaluate the\n",
    "performance of the attack and share your conclusions."
   ]
  },
  {
   "cell_type": "code",
   "execution_count": 45,
   "metadata": {},
   "outputs": [
    {
     "name": "stdout",
     "output_type": "stream",
     "text": [
      "Files already downloaded and verified\n",
      "Files already downloaded and verified\n",
      "Started Epoch 1\n",
      " Training...\n"
     ]
    },
    {
     "name": "stderr",
     "output_type": "stream",
     "text": [
      "100%|██████████| 313/313 [00:18<00:00, 16.97it/s]\n"
     ]
    },
    {
     "name": "stdout",
     "output_type": "stream",
     "text": [
      " Validating...\n"
     ]
    },
    {
     "name": "stderr",
     "output_type": "stream",
     "text": [
      "100%|██████████| 79/79 [00:01<00:00, 52.46it/s]\n"
     ]
    },
    {
     "name": "stdout",
     "output_type": "stream",
     "text": [
      "Started Epoch 2\n",
      " Training...\n"
     ]
    },
    {
     "name": "stderr",
     "output_type": "stream",
     "text": [
      "100%|██████████| 313/313 [00:17<00:00, 17.91it/s]\n"
     ]
    },
    {
     "name": "stdout",
     "output_type": "stream",
     "text": [
      " Validating...\n"
     ]
    },
    {
     "name": "stderr",
     "output_type": "stream",
     "text": [
      "100%|██████████| 79/79 [00:01<00:00, 51.40it/s]\n"
     ]
    },
    {
     "name": "stdout",
     "output_type": "stream",
     "text": [
      "Started Epoch 3\n",
      " Training...\n"
     ]
    },
    {
     "name": "stderr",
     "output_type": "stream",
     "text": [
      "100%|██████████| 313/313 [00:18<00:00, 16.69it/s]\n"
     ]
    },
    {
     "name": "stdout",
     "output_type": "stream",
     "text": [
      " Validating...\n"
     ]
    },
    {
     "name": "stderr",
     "output_type": "stream",
     "text": [
      "100%|██████████| 79/79 [00:01<00:00, 53.67it/s]\n"
     ]
    },
    {
     "name": "stdout",
     "output_type": "stream",
     "text": [
      "Started Epoch 4\n",
      " Training...\n"
     ]
    },
    {
     "name": "stderr",
     "output_type": "stream",
     "text": [
      "100%|██████████| 313/313 [00:17<00:00, 17.67it/s]\n"
     ]
    },
    {
     "name": "stdout",
     "output_type": "stream",
     "text": [
      " Validating...\n"
     ]
    },
    {
     "name": "stderr",
     "output_type": "stream",
     "text": [
      "100%|██████████| 79/79 [00:01<00:00, 58.26it/s]\n"
     ]
    },
    {
     "name": "stdout",
     "output_type": "stream",
     "text": [
      "Started Epoch 5\n",
      " Training...\n"
     ]
    },
    {
     "name": "stderr",
     "output_type": "stream",
     "text": [
      "100%|██████████| 313/313 [00:18<00:00, 16.88it/s]\n"
     ]
    },
    {
     "name": "stdout",
     "output_type": "stream",
     "text": [
      " Validating...\n"
     ]
    },
    {
     "name": "stderr",
     "output_type": "stream",
     "text": [
      "100%|██████████| 79/79 [00:01<00:00, 57.88it/s]\n"
     ]
    },
    {
     "name": "stdout",
     "output_type": "stream",
     "text": [
      "Started Epoch 6\n",
      " Training...\n"
     ]
    },
    {
     "name": "stderr",
     "output_type": "stream",
     "text": [
      "100%|██████████| 313/313 [00:17<00:00, 18.02it/s]\n"
     ]
    },
    {
     "name": "stdout",
     "output_type": "stream",
     "text": [
      " Validating...\n"
     ]
    },
    {
     "name": "stderr",
     "output_type": "stream",
     "text": [
      "100%|██████████| 79/79 [00:01<00:00, 58.13it/s]\n"
     ]
    },
    {
     "name": "stdout",
     "output_type": "stream",
     "text": [
      "Started Epoch 7\n",
      " Training...\n"
     ]
    },
    {
     "name": "stderr",
     "output_type": "stream",
     "text": [
      "100%|██████████| 313/313 [00:17<00:00, 18.09it/s]\n"
     ]
    },
    {
     "name": "stdout",
     "output_type": "stream",
     "text": [
      " Validating...\n"
     ]
    },
    {
     "name": "stderr",
     "output_type": "stream",
     "text": [
      "100%|██████████| 79/79 [00:01<00:00, 58.39it/s]\n"
     ]
    },
    {
     "name": "stdout",
     "output_type": "stream",
     "text": [
      "Started Epoch 8\n",
      " Training...\n"
     ]
    },
    {
     "name": "stderr",
     "output_type": "stream",
     "text": [
      "100%|██████████| 313/313 [00:17<00:00, 18.27it/s]\n"
     ]
    },
    {
     "name": "stdout",
     "output_type": "stream",
     "text": [
      " Validating...\n"
     ]
    },
    {
     "name": "stderr",
     "output_type": "stream",
     "text": [
      "100%|██████████| 79/79 [00:01<00:00, 58.13it/s]\n"
     ]
    },
    {
     "name": "stdout",
     "output_type": "stream",
     "text": [
      "Started Epoch 9\n",
      " Training...\n"
     ]
    },
    {
     "name": "stderr",
     "output_type": "stream",
     "text": [
      "100%|██████████| 313/313 [00:16<00:00, 18.43it/s]\n"
     ]
    },
    {
     "name": "stdout",
     "output_type": "stream",
     "text": [
      " Validating...\n"
     ]
    },
    {
     "name": "stderr",
     "output_type": "stream",
     "text": [
      "100%|██████████| 79/79 [00:01<00:00, 57.92it/s]\n"
     ]
    },
    {
     "name": "stdout",
     "output_type": "stream",
     "text": [
      "Started Epoch 10\n",
      " Training...\n"
     ]
    },
    {
     "name": "stderr",
     "output_type": "stream",
     "text": [
      "100%|██████████| 313/313 [00:16<00:00, 18.41it/s]\n"
     ]
    },
    {
     "name": "stdout",
     "output_type": "stream",
     "text": [
      " Validating...\n"
     ]
    },
    {
     "name": "stderr",
     "output_type": "stream",
     "text": [
      "100%|██████████| 79/79 [00:01<00:00, 58.00it/s]\n"
     ]
    },
    {
     "name": "stdout",
     "output_type": "stream",
     "text": [
      "Started Epoch 11\n",
      " Training...\n"
     ]
    },
    {
     "name": "stderr",
     "output_type": "stream",
     "text": [
      "100%|██████████| 313/313 [00:17<00:00, 18.22it/s]\n"
     ]
    },
    {
     "name": "stdout",
     "output_type": "stream",
     "text": [
      " Validating...\n"
     ]
    },
    {
     "name": "stderr",
     "output_type": "stream",
     "text": [
      "100%|██████████| 79/79 [00:01<00:00, 57.50it/s]\n"
     ]
    },
    {
     "name": "stdout",
     "output_type": "stream",
     "text": [
      "Started Epoch 12\n",
      " Training...\n"
     ]
    },
    {
     "name": "stderr",
     "output_type": "stream",
     "text": [
      "100%|██████████| 313/313 [00:17<00:00, 17.57it/s]\n"
     ]
    },
    {
     "name": "stdout",
     "output_type": "stream",
     "text": [
      " Validating...\n"
     ]
    },
    {
     "name": "stderr",
     "output_type": "stream",
     "text": [
      "100%|██████████| 79/79 [00:01<00:00, 56.35it/s]\n"
     ]
    },
    {
     "name": "stdout",
     "output_type": "stream",
     "text": [
      "Started Epoch 13\n",
      " Training...\n"
     ]
    },
    {
     "name": "stderr",
     "output_type": "stream",
     "text": [
      "100%|██████████| 313/313 [00:17<00:00, 17.89it/s]\n"
     ]
    },
    {
     "name": "stdout",
     "output_type": "stream",
     "text": [
      " Validating...\n"
     ]
    },
    {
     "name": "stderr",
     "output_type": "stream",
     "text": [
      "100%|██████████| 79/79 [00:01<00:00, 58.09it/s]\n"
     ]
    },
    {
     "name": "stdout",
     "output_type": "stream",
     "text": [
      "Started Epoch 14\n",
      " Training...\n"
     ]
    },
    {
     "name": "stderr",
     "output_type": "stream",
     "text": [
      "100%|██████████| 313/313 [00:17<00:00, 18.04it/s]\n"
     ]
    },
    {
     "name": "stdout",
     "output_type": "stream",
     "text": [
      " Validating...\n"
     ]
    },
    {
     "name": "stderr",
     "output_type": "stream",
     "text": [
      "100%|██████████| 79/79 [00:01<00:00, 57.79it/s]\n"
     ]
    },
    {
     "name": "stdout",
     "output_type": "stream",
     "text": [
      "Started Epoch 15\n",
      " Training...\n"
     ]
    },
    {
     "name": "stderr",
     "output_type": "stream",
     "text": [
      "100%|██████████| 313/313 [00:17<00:00, 17.83it/s]\n"
     ]
    },
    {
     "name": "stdout",
     "output_type": "stream",
     "text": [
      " Validating...\n"
     ]
    },
    {
     "name": "stderr",
     "output_type": "stream",
     "text": [
      "100%|██████████| 79/79 [00:01<00:00, 58.26it/s]\n"
     ]
    },
    {
     "name": "stdout",
     "output_type": "stream",
     "text": [
      "Started Epoch 16\n",
      " Training...\n"
     ]
    },
    {
     "name": "stderr",
     "output_type": "stream",
     "text": [
      "100%|██████████| 313/313 [00:17<00:00, 18.28it/s]\n"
     ]
    },
    {
     "name": "stdout",
     "output_type": "stream",
     "text": [
      " Validating...\n"
     ]
    },
    {
     "name": "stderr",
     "output_type": "stream",
     "text": [
      "100%|██████████| 79/79 [00:01<00:00, 57.95it/s]\n"
     ]
    },
    {
     "name": "stdout",
     "output_type": "stream",
     "text": [
      "Started Epoch 17\n",
      " Training...\n"
     ]
    },
    {
     "name": "stderr",
     "output_type": "stream",
     "text": [
      "100%|██████████| 313/313 [00:17<00:00, 17.68it/s]\n"
     ]
    },
    {
     "name": "stdout",
     "output_type": "stream",
     "text": [
      " Validating...\n"
     ]
    },
    {
     "name": "stderr",
     "output_type": "stream",
     "text": [
      "100%|██████████| 79/79 [00:01<00:00, 50.25it/s]\n"
     ]
    },
    {
     "name": "stdout",
     "output_type": "stream",
     "text": [
      "Started Epoch 18\n",
      " Training...\n"
     ]
    },
    {
     "name": "stderr",
     "output_type": "stream",
     "text": [
      "100%|██████████| 313/313 [00:17<00:00, 17.57it/s]\n"
     ]
    },
    {
     "name": "stdout",
     "output_type": "stream",
     "text": [
      " Validating...\n"
     ]
    },
    {
     "name": "stderr",
     "output_type": "stream",
     "text": [
      "100%|██████████| 79/79 [00:01<00:00, 52.32it/s]\n"
     ]
    },
    {
     "name": "stdout",
     "output_type": "stream",
     "text": [
      "Started Epoch 19\n",
      " Training...\n"
     ]
    },
    {
     "name": "stderr",
     "output_type": "stream",
     "text": [
      "100%|██████████| 313/313 [00:17<00:00, 17.99it/s]\n"
     ]
    },
    {
     "name": "stdout",
     "output_type": "stream",
     "text": [
      " Validating...\n"
     ]
    },
    {
     "name": "stderr",
     "output_type": "stream",
     "text": [
      "100%|██████████| 79/79 [00:01<00:00, 57.29it/s]\n"
     ]
    },
    {
     "name": "stdout",
     "output_type": "stream",
     "text": [
      "Started Epoch 20\n",
      " Training...\n"
     ]
    },
    {
     "name": "stderr",
     "output_type": "stream",
     "text": [
      "100%|██████████| 313/313 [00:17<00:00, 18.07it/s]\n"
     ]
    },
    {
     "name": "stdout",
     "output_type": "stream",
     "text": [
      " Validating...\n"
     ]
    },
    {
     "name": "stderr",
     "output_type": "stream",
     "text": [
      "100%|██████████| 79/79 [00:01<00:00, 58.02it/s]\n"
     ]
    },
    {
     "name": "stdout",
     "output_type": "stream",
     "text": [
      "Started Epoch 21\n",
      " Training...\n"
     ]
    },
    {
     "name": "stderr",
     "output_type": "stream",
     "text": [
      "100%|██████████| 313/313 [00:16<00:00, 18.43it/s]\n"
     ]
    },
    {
     "name": "stdout",
     "output_type": "stream",
     "text": [
      " Validating...\n"
     ]
    },
    {
     "name": "stderr",
     "output_type": "stream",
     "text": [
      "100%|██████████| 79/79 [00:01<00:00, 58.00it/s]\n"
     ]
    },
    {
     "name": "stdout",
     "output_type": "stream",
     "text": [
      "Started Epoch 22\n",
      " Training...\n"
     ]
    },
    {
     "name": "stderr",
     "output_type": "stream",
     "text": [
      "100%|██████████| 313/313 [00:17<00:00, 18.00it/s]\n"
     ]
    },
    {
     "name": "stdout",
     "output_type": "stream",
     "text": [
      " Validating...\n"
     ]
    },
    {
     "name": "stderr",
     "output_type": "stream",
     "text": [
      "100%|██████████| 79/79 [00:01<00:00, 56.63it/s]\n"
     ]
    },
    {
     "name": "stdout",
     "output_type": "stream",
     "text": [
      "Started Epoch 23\n",
      " Training...\n"
     ]
    },
    {
     "name": "stderr",
     "output_type": "stream",
     "text": [
      "100%|██████████| 313/313 [00:16<00:00, 18.41it/s]\n"
     ]
    },
    {
     "name": "stdout",
     "output_type": "stream",
     "text": [
      " Validating...\n"
     ]
    },
    {
     "name": "stderr",
     "output_type": "stream",
     "text": [
      "100%|██████████| 79/79 [00:01<00:00, 57.62it/s]\n"
     ]
    },
    {
     "name": "stdout",
     "output_type": "stream",
     "text": [
      "Started Epoch 24\n",
      " Training...\n"
     ]
    },
    {
     "name": "stderr",
     "output_type": "stream",
     "text": [
      "100%|██████████| 313/313 [00:17<00:00, 17.91it/s]\n"
     ]
    },
    {
     "name": "stdout",
     "output_type": "stream",
     "text": [
      " Validating...\n"
     ]
    },
    {
     "name": "stderr",
     "output_type": "stream",
     "text": [
      "100%|██████████| 79/79 [00:01<00:00, 57.88it/s]\n"
     ]
    },
    {
     "name": "stdout",
     "output_type": "stream",
     "text": [
      "Started Epoch 25\n",
      " Training...\n"
     ]
    },
    {
     "name": "stderr",
     "output_type": "stream",
     "text": [
      "100%|██████████| 313/313 [00:18<00:00, 17.13it/s]\n"
     ]
    },
    {
     "name": "stdout",
     "output_type": "stream",
     "text": [
      " Validating...\n"
     ]
    },
    {
     "name": "stderr",
     "output_type": "stream",
     "text": [
      "100%|██████████| 79/79 [00:01<00:00, 56.75it/s]\n"
     ]
    },
    {
     "name": "stdout",
     "output_type": "stream",
     "text": [
      "Started Epoch 26\n",
      " Training...\n"
     ]
    },
    {
     "name": "stderr",
     "output_type": "stream",
     "text": [
      "100%|██████████| 313/313 [00:17<00:00, 17.60it/s]\n"
     ]
    },
    {
     "name": "stdout",
     "output_type": "stream",
     "text": [
      " Validating...\n"
     ]
    },
    {
     "name": "stderr",
     "output_type": "stream",
     "text": [
      "100%|██████████| 79/79 [00:01<00:00, 58.35it/s]\n"
     ]
    },
    {
     "name": "stdout",
     "output_type": "stream",
     "text": [
      "Started Epoch 27\n",
      " Training...\n"
     ]
    },
    {
     "name": "stderr",
     "output_type": "stream",
     "text": [
      "100%|██████████| 313/313 [00:17<00:00, 17.65it/s]\n"
     ]
    },
    {
     "name": "stdout",
     "output_type": "stream",
     "text": [
      " Validating...\n"
     ]
    },
    {
     "name": "stderr",
     "output_type": "stream",
     "text": [
      "100%|██████████| 79/79 [00:01<00:00, 54.67it/s]\n"
     ]
    },
    {
     "name": "stdout",
     "output_type": "stream",
     "text": [
      "Started Epoch 28\n",
      " Training...\n"
     ]
    },
    {
     "name": "stderr",
     "output_type": "stream",
     "text": [
      "100%|██████████| 313/313 [00:17<00:00, 17.88it/s]\n"
     ]
    },
    {
     "name": "stdout",
     "output_type": "stream",
     "text": [
      " Validating...\n"
     ]
    },
    {
     "name": "stderr",
     "output_type": "stream",
     "text": [
      "100%|██████████| 79/79 [00:01<00:00, 57.92it/s]\n"
     ]
    },
    {
     "name": "stdout",
     "output_type": "stream",
     "text": [
      "Started Epoch 29\n",
      " Training...\n"
     ]
    },
    {
     "name": "stderr",
     "output_type": "stream",
     "text": [
      "100%|██████████| 313/313 [00:17<00:00, 17.95it/s]\n"
     ]
    },
    {
     "name": "stdout",
     "output_type": "stream",
     "text": [
      " Validating...\n"
     ]
    },
    {
     "name": "stderr",
     "output_type": "stream",
     "text": [
      "100%|██████████| 79/79 [00:01<00:00, 58.09it/s]\n"
     ]
    },
    {
     "name": "stdout",
     "output_type": "stream",
     "text": [
      "Started Epoch 30\n",
      " Training...\n"
     ]
    },
    {
     "name": "stderr",
     "output_type": "stream",
     "text": [
      "100%|██████████| 313/313 [00:17<00:00, 17.96it/s]\n"
     ]
    },
    {
     "name": "stdout",
     "output_type": "stream",
     "text": [
      " Validating...\n"
     ]
    },
    {
     "name": "stderr",
     "output_type": "stream",
     "text": [
      "100%|██████████| 79/79 [00:01<00:00, 56.79it/s]\n",
      "100%|██████████| 79/79 [00:02<00:00, 32.79it/s]\n"
     ]
    },
    {
     "name": "stdout",
     "output_type": "stream",
     "text": [
      "Attack Success Rate: 60.6\n",
      "801\n",
      "8000\n",
      "False Positive Rate: 10.01\n",
      " Testing...\n"
     ]
    },
    {
     "name": "stderr",
     "output_type": "stream",
     "text": [
      "100%|██████████| 79/79 [00:03<00:00, 26.23it/s]\n"
     ]
    },
    {
     "name": "stdout",
     "output_type": "stream",
     "text": [
      " Testing...\n"
     ]
    },
    {
     "name": "stderr",
     "output_type": "stream",
     "text": [
      "100%|██████████| 79/79 [00:02<00:00, 27.97it/s]\n"
     ]
    },
    {
     "ename": "TypeError",
     "evalue": "unsupported operand type(s) for -: 'tuple' and 'tuple'",
     "output_type": "error",
     "traceback": [
      "\u001b[1;31m---------------------------------------------------------------------------\u001b[0m",
      "\u001b[1;31mTypeError\u001b[0m                                 Traceback (most recent call last)",
      "Cell \u001b[1;32mIn[45], line 8\u001b[0m\n\u001b[0;32m      5\u001b[0m torch\u001b[38;5;241m.\u001b[39msave(backdoored_model, \u001b[38;5;124m\"\u001b[39m\u001b[38;5;124m./models/blend_model.pt\u001b[39m\u001b[38;5;124m\"\u001b[39m)\n\u001b[0;32m      7\u001b[0m attack_success_rate(model\u001b[38;5;241m=\u001b[39mbackdoored_model, adversarial_test_dataloader\u001b[38;5;241m=\u001b[39mbackdoored_model\u001b[38;5;241m.\u001b[39mtest_data, source_label\u001b[38;5;241m=\u001b[39m\u001b[38;5;241m8\u001b[39m, target_label\u001b[38;5;241m=\u001b[39m\u001b[38;5;241m3\u001b[39m, verbose\u001b[38;5;241m=\u001b[39m\u001b[38;5;28;01mTrue\u001b[39;00m)\n\u001b[1;32m----> 8\u001b[0m \u001b[43mclean_accuracy_drop\u001b[49m\u001b[43m(\u001b[49m\u001b[43mclean_model\u001b[49m\u001b[38;5;241;43m=\u001b[39;49m\u001b[43mclean_model\u001b[49m\u001b[43m,\u001b[49m\u001b[43m \u001b[49m\u001b[43madversarial_model\u001b[49m\u001b[38;5;241;43m=\u001b[39;49m\u001b[43mbackdoored_model\u001b[49m\u001b[43m)\u001b[49m\n\u001b[0;32m     10\u001b[0m images, labels \u001b[38;5;241m=\u001b[39m \u001b[38;5;28mnext\u001b[39m(\u001b[38;5;28miter\u001b[39m(clean_model\u001b[38;5;241m.\u001b[39mtest_data))\n\u001b[0;32m     11\u001b[0m visualize_batch(images, labels)\n",
      "Cell \u001b[1;32mIn[42], line 101\u001b[0m, in \u001b[0;36mclean_accuracy_drop\u001b[1;34m(clean_model, adversarial_model)\u001b[0m\n\u001b[0;32m     97\u001b[0m accuracy_adversarial_model \u001b[38;5;241m=\u001b[39m adversarial_model\u001b[38;5;241m.\u001b[39mtest()\n\u001b[0;32m     99\u001b[0m adversarial_model\u001b[38;5;241m.\u001b[39mtest_data \u001b[38;5;241m=\u001b[39m original_test_data_adversarial_model\n\u001b[1;32m--> 101\u001b[0m clean_accuracy_drop \u001b[38;5;241m=\u001b[39m \u001b[38;5;28mround\u001b[39m(\u001b[43maccuracy_clean_model\u001b[49m\u001b[43m \u001b[49m\u001b[38;5;241;43m-\u001b[39;49m\u001b[43m \u001b[49m\u001b[43maccuracy_adversarial_model\u001b[49m, \u001b[38;5;241m2\u001b[39m)\n\u001b[0;32m    102\u001b[0m \u001b[38;5;28mprint\u001b[39m(\u001b[38;5;124m\"\u001b[39m\u001b[38;5;124mClean Accuracy Drop:\u001b[39m\u001b[38;5;124m\"\u001b[39m, clean_accuracy_drop)\n\u001b[0;32m    104\u001b[0m \u001b[38;5;28;01mreturn\u001b[39;00m clean_accuracy_drop\n",
      "\u001b[1;31mTypeError\u001b[0m: unsupported operand type(s) for -: 'tuple' and 'tuple'"
     ]
    },
    {
     "data": {
      "image/png": "[encoded data removed]",
      "text/plain": [
       "<Figure size 1500x800 with 2 Axes>"
      ]
     },
     "metadata": {},
     "output_type": "display_data"
    }
   ],
   "source": [
    "blend_attack = BlendAttack(source_label=8, target_label=3)\n",
    "backdoored_model = NeuralModel(attack=blend_attack)\n",
    "backdoored_model.train()\n",
    "backdoored_model.plot_history()\n",
    "torch.save(backdoored_model, \"./models/blend_model.pt\")\n",
    "\n",
    "gc.collect()"
   ]
  },
  {
   "cell_type": "code",
   "execution_count": 56,
   "metadata": {},
   "outputs": [
    {
     "name": "stderr",
     "output_type": "stream",
     "text": [
      "100%|██████████| 79/79 [01:28<00:00,  1.12s/it] \n"
     ]
    },
    {
     "name": "stdout",
     "output_type": "stream",
     "text": [
      "Attack Success Rate: 0.61\n",
      "Number of Misclassifications: 801\n",
      "Number of Images Not With Source Label: 8000\n",
      "False Positive Rate: 0.1\n",
      " Testing...\n"
     ]
    },
    {
     "name": "stderr",
     "output_type": "stream",
     "text": [
      "100%|██████████| 79/79 [00:03<00:00, 21.24it/s]\n"
     ]
    },
    {
     "name": "stdout",
     "output_type": "stream",
     "text": [
      " Testing...\n"
     ]
    },
    {
     "name": "stderr",
     "output_type": "stream",
     "text": [
      "100%|██████████| 79/79 [00:03<00:00, 21.80it/s]\n"
     ]
    },
    {
     "name": "stdout",
     "output_type": "stream",
     "text": [
      "Clean Accuracy Drop: 0.02\n"
     ]
    },
    {
     "data": {
      "image/png": "[encoded data removed]",
      "text/plain": [
       "<Figure size 2500x400 with 20 Axes>"
      ]
     },
     "metadata": {},
     "output_type": "display_data"
    },
    {
     "data": {
      "image/png": "[encoded data removed]",
      "text/plain": [
       "<Figure size 2500x400 with 20 Axes>"
      ]
     },
     "metadata": {},
     "output_type": "display_data"
    },
    {
     "data": {
      "text/plain": [
       "67593"
      ]
     },
     "execution_count": 56,
     "metadata": {},
     "output_type": "execute_result"
    }
   ],
   "source": [
    "backdoored_model = torch.load(\"./models/blend_model.pt\")\n",
    "\n",
    "attack_success_rate(model=backdoored_model, adversarial_test_dataloader=backdoored_model.test_data, source_label=8, target_label=3)\n",
    "clean_accuracy_drop(clean_model=clean_model, adversarial_model=backdoored_model)\n",
    "\n",
    "images, labels = next(iter(clean_model.test_data))\n",
    "visualize_batch(images, labels)\n",
    "\n",
    "images, labels = next(iter(backdoored_model.test_data))\n",
    "visualize_batch(images, labels)\n",
    "\n",
    "gc.collect()"
   ]
  },
  {
   "cell_type": "markdown",
   "metadata": {},
   "source": [
    "A: The attack has been quite successful. The backdoored model has an Attack Success Rate of 0.61/61%, while only suffering from a small Clean Accuracy Drop of 0.02/2% when compared to the clean model. This means that our backdoored model performs practically on-par with the clean model, while classifying backdoored images of ships as cats for the majority of predictions. Although our model is far from perfectly backdoored, I would conclude that the backdoor is quite successful."
   ]
  },
  {
   "cell_type": "markdown",
   "metadata": {},
   "source": [
    "#### 2.1.b \n",
    "Q: With the source specific attack, the attacker’s goal is to let the input\n",
    "be missclassified to the target label only when the input has a specific source\n",
    "label. However, we also poison other images. Why do we do this? For every\n",
    "other label (so not source or target), report the percentage of samples in the test\n",
    "set that are now, because of the attack, also missclassified with the target label."
   ]
  },
  {
   "cell_type": "code",
   "execution_count": 62,
   "metadata": {},
   "outputs": [
    {
     "name": "stderr",
     "output_type": "stream",
     "text": [
      "100%|██████████| 79/79 [00:02<00:00, 30.55it/s]"
     ]
    },
    {
     "name": "stdout",
     "output_type": "stream",
     "text": [
      "Attack Success Rate: 0.61\n",
      "Number of Misclassifications: 801\n",
      "Number of Images Not With Source Label: 8000\n",
      "Rate of Misclassification for Labels other than Source of Target:\n",
      " 2: 0.12\n",
      " 5: 0.23\n",
      " 7: 0.08\n",
      " 6: 0.04\n",
      " 0: 0.12\n",
      " 9: 0.09\n",
      " 4: 0.06\n",
      " 1: 0.07\n",
      "False Positive Rate: 0.1\n"
     ]
    },
    {
     "name": "stderr",
     "output_type": "stream",
     "text": [
      "\n"
     ]
    },
    {
     "data": {
      "text/plain": [
       "0.606"
      ]
     },
     "execution_count": 62,
     "metadata": {},
     "output_type": "execute_result"
    }
   ],
   "source": [
    "attack_success_rate(model=backdoored_model, adversarial_test_dataloader=backdoored_model.test_data, source_label=8, target_label=3, verbose=True)"
   ]
  },
  {
   "cell_type": "markdown",
   "metadata": {},
   "source": [
    "A: We poison images without the source label in source-specific backdoor attacks, because that makes the backdoored dataset more natural. If we only backdoored images with the source label we chose, then only one class of images would have been backdoored. If a backdoor can be noticed by a defender, especially visually, and it only occurs for one specific class of images, then the defender can quite easily pick up on the fact that the training data has been backdoored. By backdooring images with other labels, the distribution of backdoored images fits the original data's distribution better, which may make it seem that the backdoor is actually a natural element of the dataset.\n",
    "\n",
    "As we can see from the results, backdoored images of all labels othet than the source and target label suffer from at least some degree of misclassification to the target label. For most classes, the misclassification rate is between 0.05/5% and 0.10/10%. However, classes 0 (airplane) and 2 (bird) have a 0.12/12% misclassification rate, and class 5 (dog) even has a misclassification rate of 0.23/23%. "
   ]
  },
  {
   "cell_type": "markdown",
   "metadata": {},
   "source": [
    "### 2.2 WaNet Attack"
   ]
  },
  {
   "cell_type": "markdown",
   "metadata": {},
   "source": [
    "#### 2.2.a\n",
    "Q: Execute a source-agnostic WaNet attack on the CIFAR-10 dataset.\n",
    "Create a backdoored dataset using this attack with the following parameters:\n",
    "- k = 8\n",
    "- s = 1\n",
    "- poisoning rate = 8%\n",
    "- target label = cat (index 3)\n",
    "- mode = attack. Use the attack mode and not the noise mode as described in the WaNet paper. More specific, use a cross ratio of 0.\n",
    "- attack mode = all to one. So one specific target class.\n",
    "- grid rescale = 1\n",
    "\n",
    "Compute and report the Attack Succes Rate (ASR) and Clean Accuracy Drop\n",
    "(CAD). Evaluate the performance of the attack and share your conclusions."
   ]
  },
  {
   "cell_type": "code",
   "execution_count": null,
   "metadata": {},
   "outputs": [],
   "source": []
  },
  {
   "cell_type": "markdown",
   "metadata": {},
   "source": [
    "A: "
   ]
  },
  {
   "cell_type": "markdown",
   "metadata": {},
   "source": [
    "#### 2.2.b\n",
    "Q: Apply the WaNet attack using the settings above to generate just one\n",
    "or a few poisoned images. Plot/display them. What can an attacker do to make\n",
    "this attack stealthier? In your answer, explain what the parameters k and s\n",
    "stand for and what they are used for."
   ]
  },
  {
   "cell_type": "code",
   "execution_count": null,
   "metadata": {},
   "outputs": [],
   "source": []
  },
  {
   "cell_type": "markdown",
   "metadata": {},
   "source": [
    "A: "
   ]
  },
  {
   "cell_type": "markdown",
   "metadata": {},
   "source": [
    "### 2.3 Fine-Pruning Defense"
   ]
  },
  {
   "cell_type": "markdown",
   "metadata": {},
   "source": [
    "#### 2.3.a\n",
    "Q: Execute the Fine-pruning defense on your source specific blend backdoored model from Question 1. Use a pruning rate of 20% and fine-tune your\n",
    "model for 10% of the total number of epochs you initially trained your model.\n",
    "You are free to decide which layer you prune neurons from. Report the ASR\n",
    "and CAD directly after pruning and also after the fine-tuning part. Evaluate\n",
    "the performance of the defense and share your conclusions."
   ]
  },
  {
   "cell_type": "code",
   "execution_count": null,
   "metadata": {},
   "outputs": [],
   "source": []
  },
  {
   "cell_type": "markdown",
   "metadata": {},
   "source": [
    "A: "
   ]
  },
  {
   "cell_type": "markdown",
   "metadata": {},
   "source": [
    "#### 2.3.b\n",
    "Q: Lets say you have a simple CNN with 3 convolutional layers: conv1,\n",
    "conv2, conv3. They follow each other in this precise order. You want to apply\n",
    "the Fine-Pruning defense on this model. What layer will be the best candidate\n",
    "to prune and why?"
   ]
  },
  {
   "cell_type": "markdown",
   "metadata": {},
   "source": [
    "A: "
   ]
  }
 ],
 "metadata": {
  "kernelspec": {
   "display_name": "env",
   "language": "python",
   "name": "python3"
  },
  "language_info": {
   "codemirror_mode": {
    "name": "ipython",
    "version": 3
   },
   "file_extension": ".py",
   "mimetype": "text/x-python",
   "name": "python",
   "nbconvert_exporter": "python",
   "pygments_lexer": "ipython3",
   "version": "3.11.3"
  }
 },
 "nbformat": 4,
 "nbformat_minor": 2
}
