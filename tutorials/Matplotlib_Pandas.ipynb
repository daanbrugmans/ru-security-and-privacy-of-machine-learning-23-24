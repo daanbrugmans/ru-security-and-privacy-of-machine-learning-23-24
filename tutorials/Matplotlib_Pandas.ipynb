{
 "cells": [
  {
   "cell_type": "markdown",
   "id": "52ce5b93",
   "metadata": {},
   "source": [
    "## Matplotlib\n",
    "Like mentioned in the [Python Basics](https://colab.research.google.com/github/cs231n/cs231n.github.io/blob/master/python-colab.ipynb#scrollTo=tEINf4bEL9jR) notebook, Matplotlib is a plotting library. It can be used to plot data and provides the freedom to create clear visualizations. In order to practice with the library we will follow a tutorial with exercises found on Kaggle named [Matplotlib Tutorial with Exercises - 1](https://www.kaggle.com/code/leonlxy/matplotlib-tutorial-with-exercises-1). "
   ]
  },
  {
   "cell_type": "markdown",
   "id": "3cb1e3ef",
   "metadata": {},
   "source": [
    "**Imports**\n",
    "\n",
    "Before we start, let's import the libraries that will be used for this part of the tutorial:"
   ]
  },
  {
   "cell_type": "code",
   "execution_count": null,
   "id": "1cf9c425",
   "metadata": {},
   "outputs": [],
   "source": [
    "import matplotlib.pyplot as plt\n",
    "import numpy as np\n",
    "import pandas as pd"
   ]
  },
  {
   "cell_type": "markdown",
   "id": "68015105",
   "metadata": {},
   "source": [
    "**Dataset for this tutorial**\n",
    "\n",
    "Before we start anything, let's create some sample data for our plotting:"
   ]
  },
  {
   "cell_type": "code",
   "execution_count": null,
   "id": "752d8b6f",
   "metadata": {},
   "outputs": [],
   "source": [
    "# set random seed so that you could have the exactly same results as mine.\n",
    "np.random.seed(0)\n",
    "\n",
    "df = pd.DataFrame(data={'a':np.random.randint(0, 100, 30),\n",
    "                        'b':np.random.randint(0, 100, 30),\n",
    "                        'c':np.random.randint(0, 100, 30)})\n",
    "df.head()"
   ]
  },
  {
   "cell_type": "markdown",
   "id": "d9e88693",
   "metadata": {},
   "source": [
    "#### 1. The Figure\n",
    "\n",
    "The figure acts as a container for the graph. It has properties such as size (`figsize`), and methods such as `Figure.show()` or `Figure.save_fig()`. Each time you call the matplotlib.pyplot.figure function, a new figure will be created."
   ]
  },
  {
   "cell_type": "code",
   "execution_count": null,
   "id": "1c8fb785",
   "metadata": {},
   "outputs": [],
   "source": [
    "# Let's create a figure and call it fig\n",
    "fig = plt.figure()\n",
    "#This will return an empty figure"
   ]
  },
  {
   "cell_type": "code",
   "execution_count": null,
   "id": "c7a0c511",
   "metadata": {},
   "outputs": [],
   "source": [
    "# Let's create a figure with figsize (15, 8) and also call it fig (thus overwriting the reference to the previous fig).\n",
    "# The 15x8 figsize is arbitrary, but I use it as a standard size to work with for visibility.\n",
    "fig = plt.figure(figsize=(15,8))"
   ]
  },
  {
   "cell_type": "markdown",
   "id": "5977de56",
   "metadata": {},
   "source": [
    "#### 2. Subplots (Axes)\n",
    "\n",
    "An empty figure is a bit boring. Now you can write directly to the figure using `matplotlib.pyplot` methods, but it's generally easier and safer to draw these inside individual subplots (axes) within a graph."
   ]
  },
  {
   "cell_type": "code",
   "execution_count": null,
   "id": "e000526a",
   "metadata": {},
   "outputs": [],
   "source": [
    "fig = plt.figure(figsize=(15,8))\n",
    "ax = plt.subplot(1,1,1) # (rows, columns, and location)\n",
    "                        # this would create a 1x1 grid of subplots\n",
    "                        # and choose axes #1"
   ]
  },
  {
   "cell_type": "code",
   "execution_count": null,
   "id": "58c72eb7",
   "metadata": {},
   "outputs": [],
   "source": [
    "fig = plt.figure(figsize=(15,8))\n",
    "ax1 = plt.subplot(2,1,1) # this would create a 2x1 grid of subplots\n",
    "                         # and choose axes #1\n",
    "ax2 = plt.subplot(2,1,2) # this would create a 2x1 grid of subplots\n",
    "                         # and choose axes #2"
   ]
  },
  {
   "cell_type": "code",
   "execution_count": null,
   "id": "5e5131a2",
   "metadata": {},
   "outputs": [],
   "source": [
    "fig, ax = plt.subplots(2, 1, figsize=(15,8)) # This creates a figure of size 15x8 with\n",
    "                                             # a 2x1 grid of subplots."
   ]
  },
  {
   "cell_type": "markdown",
   "id": "200e6916",
   "metadata": {},
   "source": [
    "In order to call the individual subplots with the above method, use an indexer `ax[i]` or `ax[i][j]`"
   ]
  },
  {
   "cell_type": "code",
   "execution_count": null,
   "id": "f4030ce1",
   "metadata": {},
   "outputs": [],
   "source": [
    "fig, ax = plt.subplots(2, 1, figsize=(15,8)) # This creates a figure of size 15x8 with\n",
    "                                             # a 2x1 grid of subplots.\n",
    "ax[0] # The top axes\n",
    "ax[1] # The bottom axes"
   ]
  },
  {
   "cell_type": "markdown",
   "id": "f479281f",
   "metadata": {},
   "source": [
    "Let's begin with our first plot:"
   ]
  },
  {
   "cell_type": "code",
   "execution_count": null,
   "id": "1587d27a",
   "metadata": {},
   "outputs": [],
   "source": [
    "fig, ax = plt.subplots(2, 2, figsize=(15,8)) # This creates a figure of size 15x8 with\n",
    "                                             # a 2x1 grid of subplots.\n",
    "\n",
    "ax[0][0].plot(df.index.values, df['a']) # The top-left axes\n",
    "ax[0][1].plot(df.index.values, df['b']) # The top-right axes\n",
    "ax[1][0].plot(df.index.values, df['c']) # The bottom-left axes\n",
    "ax[1][1].plot(df.index.values, range(len(df))) # The bottom-right axes"
   ]
  },
  {
   "cell_type": "markdown",
   "id": "08903228",
   "metadata": {},
   "source": [
    "#### 3. Line Plots\n",
    "\n",
    "Line graphs can be called as a method of a subplot (pair of axes):\n",
    "\n",
    "`ax.plot(x, y)`"
   ]
  },
  {
   "cell_type": "code",
   "execution_count": null,
   "id": "e31ecac7",
   "metadata": {},
   "outputs": [],
   "source": [
    "fig, ax = plt.subplots(1,1, figsize=(15,8))\n",
    "\n",
    "x = df.index.values # The index the dataframe we created up above. Equivalent to [0, 1, ..., 28, 29]\n",
    "y = df['a'] # Column 'a' from df.\n",
    "\n",
    "ax.plot(x, y)"
   ]
  },
  {
   "cell_type": "markdown",
   "id": "3ce88bbe",
   "metadata": {},
   "source": [
    "The above plot can be generated without creating the variables `x` and `y` by passing the values directly to the function:"
   ]
  },
  {
   "cell_type": "code",
   "execution_count": null,
   "id": "adaf24b5",
   "metadata": {},
   "outputs": [],
   "source": [
    "fig, ax = plt.subplots(2,1, figsize=(15,8))\n",
    "\n",
    "ax[0].plot(df.index.values, df['a'])\n",
    "ax[1].plot(df.index.values, df['b'])"
   ]
  },
  {
   "cell_type": "markdown",
   "id": "1e96f559",
   "metadata": {},
   "source": [
    "We can also create multiple lines on the same axes. To do this, you just call the `ax.plot()` function multiple times."
   ]
  },
  {
   "cell_type": "code",
   "execution_count": null,
   "id": "4687b119",
   "metadata": {},
   "outputs": [],
   "source": [
    "fig, ax = plt.subplots(1,1, figsize=(15,8))\n",
    "\n",
    "x = df.index.values # The index the dataframe we created up above. Equivalent to [0, 1, ..., 28, 29]\n",
    "y1 = df['a'] # Column 'a' from df.\n",
    "y2 = df['b'] # Column 'a' from df.\n",
    "\n",
    "ax.plot(x, y1)\n",
    "ax.plot(x, y2)"
   ]
  },
  {
   "cell_type": "markdown",
   "id": "76beb0d4",
   "metadata": {},
   "source": [
    "The `plot()` function has many *keyword arguments*, or *kwargs*. Some of the important ones include:\n",
    "\n",
    "\n",
    "*   `color` sets the line color\n",
    "*   `linewidth` or `lw` sets line width\n",
    "*   `linestyle` or `ls` sets line style. Possible values include `'-'` (solid line), `'-.'` (dot-dash), `'--'` (dashed).\n",
    "*   `marker` creates points for each of the individual data points in the line graph. Possible values for `marker` include `'o'` (circles), `'s'` (squares), etc.\n",
    "\n",
    "Let's see some examples:"
   ]
  },
  {
   "cell_type": "code",
   "execution_count": null,
   "id": "82849ac1",
   "metadata": {},
   "outputs": [],
   "source": [
    "fig, ax = plt.subplots(1,1, figsize=(15,8))\n",
    "\n",
    "ax.plot(df.index.values, df['a'], color='red', ls='-.')\n",
    "ax.plot(df.index.values, df['b'], color='orange', lw=10)\n",
    "ax.plot(df.index.values, df['c'], color='blue', lw=1, marker='o')"
   ]
  },
  {
   "cell_type": "markdown",
   "id": "0136a25b",
   "metadata": {},
   "source": [
    "**Legends**\n",
    "\n",
    "It can be a bit hard to tell apart all of the lines, so let's add a legend. The `ax.legend()` function reads the `label` arguments from previous function calls on a given axes, and automatically generates a legend.\n",
    "Note that `ax.legend()` can take additional arguments.\n",
    "\n",
    "\n",
    "*   `loc` will specify the location of the legend. If you do not specify this argument, matplotlib will automatically choose the best location.\n",
    "*   `ncol` specifies the number of columns the legend will have.\n",
    "*   You can also create a completely custom axes legend by passing *patches* and *labels*, but we'll dicuss that later.\n",
    "\n",
    "For the `loc` argument you can use the location string or location code:\n",
    "\n",
    "\n",
    "*   'best': 0\n",
    "*   'upper right': 1\n",
    "*   'upper left': 2\n",
    "*   'lower left': 3\n",
    "*   'lower right': 4\n",
    "*   'right': 5\n",
    "*   'center left': 6\n",
    "*   'center right': 7\n",
    "*   'lower center': 8\n",
    "*   'upper center': 9\n",
    "*   'center': 10"
   ]
  },
  {
   "cell_type": "code",
   "execution_count": null,
   "id": "0f66aff5",
   "metadata": {},
   "outputs": [],
   "source": [
    "fig, ax = plt.subplots(1,1, figsize=(15,8))\n",
    "\n",
    "ax.plot(df.index.values, df['a'], label='Line A') # add the label\n",
    "ax.plot(df.index.values, df['b'], label='Line B') # kwarg to each\n",
    "ax.plot(df.index.values, df['c'], label='Line C') # function\n",
    "\n",
    "ax.legend(loc='best') # and now call the ax.legend() function\n",
    "            # it will read all of the labels from graphical\n",
    "            # objects under ax"
   ]
  },
  {
   "cell_type": "markdown",
   "id": "8810c3ba",
   "metadata": {},
   "source": [
    "**Combining Subplots with Line Graphs**\n",
    "\n",
    "To draw lines on separate axes, call the `ax.plot()` function as a method of the axes you want to draw the line on."
   ]
  },
  {
   "cell_type": "code",
   "execution_count": null,
   "id": "d84ddabc",
   "metadata": {},
   "outputs": [],
   "source": [
    "fig, ax = plt.subplots(3,1, figsize=(15,8))\n",
    "\n",
    "ax[0].plot(df.index.values, df['a'], label='Line A') # Top\n",
    "ax[1].plot(df.index.values, df['b'], label='Line B') # Middle\n",
    "ax[2].plot(df.index.values, df['c'], label='Line C') # Bottom\n",
    "\n",
    "ax[0].legend(loc=4) # This will create a legend for ax[0] in the bottom-right.\n",
    "ax[1].legend(loc=6) # This will create a legend for ax[1] centre-left.\n",
    "\n",
    "# Also note that all lines will default to the first color in the default color cycle--blue."
   ]
  },
  {
   "cell_type": "markdown",
   "id": "938df36c",
   "metadata": {},
   "source": [
    "#### Exercise 1\n",
    "\n",
    "Create a figure of size 15x8 with two subplots, top and bottom.\n",
    "Draw two lines in the top axes, one green and one orange.\n",
    "Add a legend for the top plot, *Green* and *Orange*. Put this legend in the top-middle of graph.\n",
    "\n",
    "**Extra Challenge**: In the bottom axes, create a graph of only the data points, marked by circles, but with no line connecting the points."
   ]
  },
  {
   "cell_type": "code",
   "execution_count": null,
   "id": "51cc16fa",
   "metadata": {},
   "outputs": [],
   "source": [
    "# Start your answer from here"
   ]
  },
  {
   "cell_type": "markdown",
   "id": "5188a707",
   "metadata": {},
   "source": [
    "See a possible answer at the end of this notebook."
   ]
  },
  {
   "cell_type": "markdown",
   "id": "4fe9b02f",
   "metadata": {},
   "source": [
    "#### 4. Bar Plots\n",
    "\n",
    "The other common type of graph you will create is a bar graph. These can be created with the axes method `ax.bar(x,height)`."
   ]
  },
  {
   "cell_type": "code",
   "execution_count": null,
   "id": "7857945c",
   "metadata": {},
   "outputs": [],
   "source": [
    "fig, ax = plt.subplots(1, 1, figsize=(15,8))\n",
    "\n",
    "bar_kwargs = {'color':'tomato', 'alpha':0.5}\n",
    "\n",
    "ax.bar(df.index.values, df['a'], label='a', **bar_kwargs)\n",
    "ax.legend()"
   ]
  },
  {
   "cell_type": "markdown",
   "id": "e9b39ad6",
   "metadata": {},
   "source": [
    "#### Exercise 2\n",
    "\n",
    "Create a figure with three subplots, aligned vertically.\n",
    "Create a bar graph for `a` and `b` on the first two, but at the last one draw both `a` and `b`, but put `b` on top of `a`! (Hint: use the bottom argument in the bar function)\n",
    "Make sure the color for `a` and `b` are consistent in all the subplots!\n",
    "\n",
    "**Extra Challenge**: Write the magnitude of each bar on top of it"
   ]
  },
  {
   "cell_type": "code",
   "execution_count": null,
   "id": "7e42a1fb",
   "metadata": {},
   "outputs": [],
   "source": [
    "# Start your answer from here"
   ]
  },
  {
   "cell_type": "markdown",
   "id": "d6e3211b",
   "metadata": {},
   "source": [
    "See a possible answer at the end of this notebook."
   ]
  },
  {
   "cell_type": "markdown",
   "id": "66c60753",
   "metadata": {},
   "source": [
    "#### 5. Tick Labels and Axes Labels\n",
    "\n",
    "Although matplotlib automatically assigns tick labels to your graph, it will not be enough to explain your results.\n",
    "Clarity of information is crucial in a graph and to do that we have options to modify tick labels and axes labels.\n",
    "\n",
    "`ax.set_title()`, `ax.set_xlabel()`, `ax.set_ylabel()`, `ax.set_xticklabels()`, `ax.set_yticklabels()` are the main tools here."
   ]
  },
  {
   "cell_type": "code",
   "execution_count": null,
   "id": "43ad5d5f",
   "metadata": {},
   "outputs": [],
   "source": [
    "np.random.seed(0)\n",
    "\n",
    "fig, ax = plt.subplots(figsize=(15,7))\n",
    "\n",
    "ax.plot(df.index.values, df['a'], marker='^', label='a')\n",
    "ax.set_title('This is the Title')\n",
    "ax.set_ylabel('This is the Y Axis')\n",
    "ax.set_xlabel('This is the X Axis', fontsize=20)\n",
    "\n",
    "ax.set_xticks(df.index.values)\n",
    "ax.set_xticklabels(np.random.randint(1,30,30), fontsize=15, color='red')\n",
    "\n",
    "ax.legend()\n",
    "fig.tight_layout()"
   ]
  },
  {
   "cell_type": "markdown",
   "id": "e47f07a4",
   "metadata": {},
   "source": [
    "#### Exercise 3\n",
    "\n",
    "Visualize the mock data given below.\n",
    "Create bars to represent the turnover for each market.\n",
    "Keep in mind that showing too much information on a graph can be overwhelming, so do it with discretion!\n",
    "Use labels to make sure your audience understands the graph.\n",
    "\n",
    "**Extra Challenge**: On the opposite axis, draw a line to show each market share. (Hint: use `ax.twinx()`)"
   ]
  },
  {
   "cell_type": "code",
   "execution_count": null,
   "id": "7b1966f3",
   "metadata": {},
   "outputs": [],
   "source": [
    "# mock data\n",
    "np.random.seed(0)\n",
    "\n",
    "turnover_data = pd.DataFrame({'boardid' : ['DAY', 'DAY_X', 'DAY_U', 'TSE'], \n",
    "                              'turnover' : np.random.randint(1e6, 1e9, 4)})\n",
    "\n",
    "# sort by turnover value\n",
    "turnover_data = turnover_data.sort_values(by='turnover').reset_index().drop('index', axis=1)\n",
    "\n",
    "# convert value to Million unit for easy-reading\n",
    "turnover_data['turnover_simplified'] = turnover_data['turnover'] // 1000000\n",
    "\n",
    "# market share\n",
    "turnover_data['market_share'] = round((turnover_data['turnover'] / sum(turnover_data['turnover'])*100), 1)\n",
    "\n",
    "turnover_data"
   ]
  },
  {
   "cell_type": "code",
   "execution_count": null,
   "id": "4fc4b8bd",
   "metadata": {},
   "outputs": [],
   "source": [
    "# Start your answer from here"
   ]
  },
  {
   "cell_type": "markdown",
   "id": "2f27801f",
   "metadata": {},
   "source": [
    "See a possible answer at the end of this notebook."
   ]
  },
  {
   "cell_type": "markdown",
   "id": "16742166",
   "metadata": {},
   "source": [
    "#### Exercise Answers\n",
    "\n",
    "#### Exercise 1"
   ]
  },
  {
   "cell_type": "code",
   "execution_count": null,
   "id": "9987f321",
   "metadata": {},
   "outputs": [],
   "source": [
    "# My Sample Answer\n",
    "fig, ax = plt.subplots(2, 1, figsize=(15,8))\n",
    "\n",
    "ax[0].plot(df.index.values, df['a'], c='green', label='a')\n",
    "ax[0].plot(df.index.values, df['b'], c='orange', label='b')\n",
    "ax[0].legend(loc=9) # \"9\": upper center\n",
    "\n",
    "ax[1].plot(df.index.values, df['c'], marker='o', lw=0) # set line width = 0, means no visuable line"
   ]
  },
  {
   "cell_type": "markdown",
   "id": "3c6c0d70",
   "metadata": {},
   "source": [
    "#### Exercise 2"
   ]
  },
  {
   "cell_type": "code",
   "execution_count": null,
   "id": "520def5c",
   "metadata": {},
   "outputs": [],
   "source": [
    "# My Sample Answer\n",
    "fig, ax = plt.subplots(3, 1, figsize=(15,18))\n",
    "\n",
    "bar_kwargs_a = {'color':'tomato', 'alpha':0.5}\n",
    "bar_kwargs_b = {'color':'blue', 'alpha':0.5}\n",
    "\n",
    "ax[0].bar(df.index.values, df['a'], **bar_kwargs_a)\n",
    "for i in range(df.shape[0]):\n",
    "    ax[0].text(i, df['a'][i]+1, df['a'][i], horizontalalignment='center')\n",
    "ax[0].legend('a')\n",
    "    \n",
    "ax[1].bar(df.index.values, df['b'], **bar_kwargs_b)\n",
    "for i in range(df.shape[0]):\n",
    "    ax[1].text(i, df['b'][i]+1, df['b'][i], horizontalalignment='center')\n",
    "ax[1].legend('b')\n",
    "\n",
    "ax[2].bar(df.index.values, df['a'], **bar_kwargs_a)\n",
    "ax[2].bar(df.index.values, df['b'], bottom=df['a'], **bar_kwargs_b)\n",
    "for i in range(df.shape[0]):\n",
    "    ax[2].text(i, df['a'][i]+df['b'][i]+1, df['a'][i]+df['b'][i], horizontalalignment='center')\n",
    "ax[2].legend(['a','b'])"
   ]
  },
  {
   "cell_type": "markdown",
   "id": "46c6bc21",
   "metadata": {},
   "source": [
    "#### Exercise 3"
   ]
  },
  {
   "cell_type": "code",
   "execution_count": null,
   "id": "0741d8de",
   "metadata": {},
   "outputs": [],
   "source": [
    "# My Sample Answer\n",
    "fig, ax1 = plt.subplots(figsize=(15,10))\n",
    "\n",
    "ax1.bar(turnover_data['boardid'], turnover_data['turnover'], width=0.5, color='lightgreen')\n",
    "for i in range(turnover_data.shape[0]):\n",
    "    ax1.text(turnover_data['boardid'][i], turnover_data['turnover'][i]+1e7, str(turnover_data['turnover_simplified'][i])+'M', fontsize=15, horizontalalignment='center')\n",
    "\n",
    "ax1.set_title('Turnover Data', fontsize=20)\n",
    "ax1.set_xticklabels(turnover_data['boardid'], fontsize=15);\n",
    "\n",
    "ax1.tick_params(labelsize=15, axis='y')\n",
    "\n",
    "ax1.set_ylabel('Turnover Values(Million)', fontsize=20)\n",
    "ax1.set_ylim(0, max(turnover_data['turnover']+1e8))\n",
    "\n",
    "# Format ax1 y axis - method 1\n",
    "vals = ax1.get_yticks()\n",
    "ax1.set_yticklabels([str(x/1000000)+'M' for x in vals])\n",
    "\n",
    "\n",
    "ax2 = ax1.twinx()\n",
    "ax2.plot(turnover_data['boardid'], turnover_data['market_share'], c='red', lw=4, marker='o')\n",
    "for i in range(turnover_data.shape[0]):\n",
    "    ax2.text(turnover_data['boardid'][i], turnover_data['market_share'][i]+0.9, str(turnover_data['market_share'][i])+'%', fontsize=15, horizontalalignment='center', color='black')\n",
    "\n",
    "ax2.set_ylabel('Market Shares(%)', fontsize=20)\n",
    "ax2.tick_params(labelsize=15, axis='y', rotation=30)\n",
    "\n",
    "# Format ax2 y asix - method 2\n",
    "vals = ax2.get_yticks()\n",
    "ax2.set_yticklabels([str(x)+'%' for x in vals]);"
   ]
  }
 ],
 "metadata": {
  "kernelspec": {
   "display_name": "Python 3 (ipykernel)",
   "language": "python",
   "name": "python3"
  },
  "language_info": {
   "codemirror_mode": {
    "name": "ipython",
    "version": 3
   },
   "file_extension": ".py",
   "mimetype": "text/x-python",
   "name": "python",
   "nbconvert_exporter": "python",
   "pygments_lexer": "ipython3",
   "version": "3.10.9"
  }
 },
 "nbformat": 4,
 "nbformat_minor": 5
}
