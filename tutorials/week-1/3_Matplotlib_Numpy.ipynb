{
 "cells": [
  {
   "cell_type": "markdown",
   "id": "5abece97",
   "metadata": {},
   "source": [
    "## Matplotlib\n",
    "Like mentioned in the [Python Basics](https://colab.research.google.com/github/cs231n/cs231n.github.io/blob/master/python-colab.ipynb#scrollTo=tEINf4bEL9jR) notebook, Matplotlib is a plotting library. It can be used to plot data and provides the freedom to create clear visualizations. In order to practice with the library we will follow a tutorial with exercises found on Kaggle named [Matplotlib Tutorial with Exercises - 1](https://www.kaggle.com/code/leonlxy/matplotlib-tutorial-with-exercises-1). \n",
    "\n",
    "However, we added the content below as the tutorial itself uses Pandas Dataframes which we did not yet cover. If you know Dataframes and prefer working with them, feel free to follow the Kaggle tutorial or the other notebook named `Matplotlib_Pandas`."
   ]
  },
  {
   "cell_type": "markdown",
   "id": "1849aeab",
   "metadata": {},
   "source": [
    "**Imports**\n",
    "\n",
    "Before we start, let's import the libraries that will be used for this part of the tutorial:"
   ]
  },
  {
   "cell_type": "code",
   "execution_count": 1,
   "id": "07c253cc",
   "metadata": {},
   "outputs": [],
   "source": [
    "import matplotlib.pyplot as plt\n",
    "import numpy as np"
   ]
  },
  {
   "cell_type": "markdown",
   "id": "f2e84a3e",
   "metadata": {},
   "source": [
    "**Dataset for this tutorial**\n",
    "\n",
    "Before we start anything, let's create some sample data for our plotting:"
   ]
  },
  {
   "cell_type": "code",
   "execution_count": 2,
   "id": "1420539a",
   "metadata": {},
   "outputs": [
    {
     "name": "stdout",
     "output_type": "stream",
     "text": [
      "30\n"
     ]
    }
   ],
   "source": [
    "# set random seed so that you could have the exact same random data\n",
    "np.random.seed(0)\n",
    "\n",
    "# Data\n",
    "data_a = np.random.randint(0,100,30)\n",
    "data_b = np.random.randint(0,100,30)\n",
    "data_c = np.random.randint(0,100,30)\n",
    "\n",
    "data = np.array([data_a,data_b,data_c])\n",
    "num_rows, num_cols = data.shape\n",
    "print(num_cols)"
   ]
  },
  {
   "cell_type": "markdown",
   "id": "7ae96313",
   "metadata": {},
   "source": [
    "#### 1. The Figure\n",
    "\n",
    "The figure acts as a container for the graph. It has properties such as size (`figsize`), and methods such as `Figure.show()` or `Figure.save_fig()`. Each time you call the matplotlib.pyplot.figure function, a new figure will be created."
   ]
  },
  {
   "cell_type": "code",
   "execution_count": null,
   "id": "ae10369f",
   "metadata": {},
   "outputs": [],
   "source": [
    "# Let's create a figure and call it fig\n",
    "fig = plt.figure()\n",
    "#This will return an empty figure"
   ]
  },
  {
   "cell_type": "code",
   "execution_count": null,
   "id": "cab23c80",
   "metadata": {},
   "outputs": [],
   "source": [
    "# Let's create a figure with figsize (15, 8) and also call it fig (thus overwriting the reference to the previous fig).\n",
    "# The 15x8 figsize is arbitrary, but I use it as a standard size to work with for visibility.\n",
    "fig = plt.figure(figsize=(15,8))"
   ]
  },
  {
   "cell_type": "markdown",
   "id": "899edf81",
   "metadata": {},
   "source": [
    "#### 2. Subplots (Axes)\n",
    "\n",
    "An empty figure is a bit boring. Now you can write directly to the figure using `matplotlib.pyplot` methods, but it's generally easier and safer to draw these inside individual subplots (axes) within a graph."
   ]
  },
  {
   "cell_type": "code",
   "execution_count": null,
   "id": "34bc2265",
   "metadata": {},
   "outputs": [],
   "source": [
    "fig = plt.figure(figsize=(15,8))\n",
    "ax = plt.subplot(1,1,1) # (rows, columns, and location)\n",
    "                        # this would create a 1x1 grid of subplots\n",
    "                        # and choose axes #1"
   ]
  },
  {
   "cell_type": "code",
   "execution_count": null,
   "id": "12d13651",
   "metadata": {},
   "outputs": [],
   "source": [
    "fig = plt.figure(figsize=(15,8))\n",
    "ax1 = plt.subplot(2,1,1) # this would create a 2x1 grid of subplots\n",
    "                         # and choose axes #1\n",
    "ax2 = plt.subplot(2,1,2) # this would create a 2x1 grid of subplots\n",
    "                         # and choose axes #2"
   ]
  },
  {
   "cell_type": "code",
   "execution_count": null,
   "id": "ab8bb0f3",
   "metadata": {},
   "outputs": [],
   "source": [
    "fig, ax = plt.subplots(2, 1, figsize=(15,8)) # This creates a figure of size 15x8 with\n",
    "                                             # a 2x1 grid of subplots."
   ]
  },
  {
   "cell_type": "markdown",
   "id": "cf41a7ad",
   "metadata": {},
   "source": [
    "In order to call the individual subplots with the above method, use an indexer `ax[i]` or `ax[i][j]`"
   ]
  },
  {
   "cell_type": "code",
   "execution_count": null,
   "id": "d55cb7e3",
   "metadata": {},
   "outputs": [],
   "source": [
    "fig, ax = plt.subplots(2, 1, figsize=(15,8)) # This creates a figure of size 15x8 with\n",
    "                                             # a 2x1 grid of subplots.\n",
    "ax[0] # The top axes\n",
    "ax[1] # The bottom axes"
   ]
  },
  {
   "cell_type": "markdown",
   "id": "f8d415b0",
   "metadata": {},
   "source": [
    "Let's begin with our first plot:"
   ]
  },
  {
   "cell_type": "code",
   "execution_count": null,
   "id": "181edd0f",
   "metadata": {},
   "outputs": [],
   "source": [
    "fig, ax = plt.subplots(2, 2, figsize=(15,8)) # This creates a figure of size 15x8 with\n",
    "                                             # a 2x1 grid of subplots.\n",
    "\n",
    "ax[0][0].plot(range(num_cols), data_a) # The top-left axes\n",
    "ax[0][1].plot(range(num_cols), data_b) # The top-right axes\n",
    "ax[1][0].plot(range(num_cols), data_c) # The bottom-left axes\n",
    "ax[1][1].plot(range(num_cols),range(num_cols))"
   ]
  },
  {
   "cell_type": "markdown",
   "id": "20a2da25",
   "metadata": {},
   "source": [
    "#### 3. Line Plots\n",
    "\n",
    "Line graphs can be called as a method of a subplot (pair of axes):\n",
    "\n",
    "`ax.plot(x, y)`"
   ]
  },
  {
   "cell_type": "code",
   "execution_count": null,
   "id": "d8a5c100",
   "metadata": {},
   "outputs": [],
   "source": [
    "fig, ax = plt.subplots(1,1, figsize=(15,8))\n",
    "\n",
    "x = range(num_cols) # Equivalent to [0, 1, ..., 28, 29]\n",
    "y = data_a \n",
    "\n",
    "ax.plot(x, y)"
   ]
  },
  {
   "cell_type": "markdown",
   "id": "a48bcce9",
   "metadata": {},
   "source": [
    "The above plot can be generated without creating the variables `x` and `y` by passing the values directly to the function:"
   ]
  },
  {
   "cell_type": "code",
   "execution_count": null,
   "id": "eddafed1",
   "metadata": {},
   "outputs": [],
   "source": [
    "fig, ax = plt.subplots(2,1, figsize=(15,8))\n",
    "\n",
    "ax[0].plot(range(0,num_cols), data_a)\n",
    "ax[1].plot(range(0,num_cols), data_b)"
   ]
  },
  {
   "cell_type": "markdown",
   "id": "7e72a328",
   "metadata": {},
   "source": [
    "We can also create multiple lines on the same axes. To do this, you just call the `ax.plot()` function multiple times."
   ]
  },
  {
   "cell_type": "code",
   "execution_count": null,
   "id": "fdb855ca",
   "metadata": {},
   "outputs": [],
   "source": [
    "fig, ax = plt.subplots(1,1, figsize=(15,8))\n",
    "\n",
    "x = range(0,num_cols) # Equivalent to [0, 1, ..., 28, 29];\n",
    "y1 = data_a \n",
    "y2 = data_b \n",
    "\n",
    "ax.plot(x, y1)\n",
    "ax.plot(x, y2)"
   ]
  },
  {
   "cell_type": "markdown",
   "id": "56b2a05e",
   "metadata": {},
   "source": [
    "The `plot()` function has many *keyword arguments*, or *kwargs*. Some of the important ones include:\n",
    "\n",
    "\n",
    "*   `color` sets the line color\n",
    "*   `linewidth` or `lw` sets line width\n",
    "*   `linestyle` or `ls` sets line style. Possible values include `'-'` (solid line), `'-.'` (dot-dash), `'--'` (dashed).\n",
    "*   `marker` creates points for each of the individual data points in the line graph. Possible values for `marker` include `'o'` (circles), `'s'` (squares), etc.\n",
    "\n",
    "Let's see some examples:"
   ]
  },
  {
   "cell_type": "code",
   "execution_count": null,
   "id": "9fc73046",
   "metadata": {},
   "outputs": [],
   "source": [
    "fig, ax = plt.subplots(1,1, figsize=(15,8))\n",
    "\n",
    "ax.plot(range(0,num_cols), data_a, color='red', ls='-.')\n",
    "ax.plot(range(0,num_cols), data_b, color='orange', lw=10)\n",
    "ax.plot(range(0,num_cols), data_c, color='blue', lw=1, marker='o')"
   ]
  },
  {
   "cell_type": "markdown",
   "id": "93f3eab1",
   "metadata": {},
   "source": [
    "**Legends**\n",
    "\n",
    "It can be a bit hard to tell apart all of the lines, so let's add a legend. The `ax.legend()` function reads the `label` arguments from previous function calls on a given axes, and automatically generates a legend.\n",
    "Note that `ax.legend()` can take additional arguments.\n",
    "\n",
    "\n",
    "*   `loc` will specify the location of the legend. If you do not specify this argument, matplotlib will automatically choose the best location.\n",
    "*   `ncol` specifies the number of columns the legend will have.\n",
    "*   You can also create a completely custom axes legend by passing *patches* and *labels*, but we'll dicuss that later.\n",
    "\n",
    "For the `loc` argument you can use the location string or location code:\n",
    "\n",
    "\n",
    "*   'best': 0\n",
    "*   'upper right': 1\n",
    "*   'upper left': 2\n",
    "*   'lower left': 3\n",
    "*   'lower right': 4\n",
    "*   'right': 5\n",
    "*   'center left': 6\n",
    "*   'center right': 7\n",
    "*   'lower center': 8\n",
    "*   'upper center': 9\n",
    "*   'center': 10\n"
   ]
  },
  {
   "cell_type": "code",
   "execution_count": null,
   "id": "762ce567",
   "metadata": {},
   "outputs": [],
   "source": [
    "fig, ax = plt.subplots(1,1, figsize=(15,8))\n",
    "\n",
    "ax.plot(range(0,num_cols), data_a, label='Line A') # add the label\n",
    "ax.plot(range(0,num_cols), data_b, label='Line B') # kwarg to each\n",
    "ax.plot(range(0,num_cols), data_c, label='Line C') # function\n",
    "\n",
    "ax.legend(loc='best') # and now call the ax.legend() function\n",
    "            # it will read all of the labels from graphical\n",
    "            # objects under ax"
   ]
  },
  {
   "cell_type": "markdown",
   "id": "85559b51",
   "metadata": {},
   "source": [
    "**Combining Subplots with Line Graphs**\n",
    "\n",
    "To draw lines on separate axes, call the `ax.plot()` function as a method of the axes you want to draw the line on."
   ]
  },
  {
   "cell_type": "code",
   "execution_count": null,
   "id": "bf6dcec4",
   "metadata": {},
   "outputs": [],
   "source": [
    "fig, ax = plt.subplots(3,1, figsize=(15,8))\n",
    "\n",
    "ax[0].plot(range(0,num_cols), data_a, label='Line A') # Top\n",
    "ax[1].plot(range(0,num_cols), data_b, label='Line B') # Middle\n",
    "ax[2].plot(range(0,num_cols), data_c, label='Line C') # Bottom\n",
    "\n",
    "ax[0].legend(loc=4) # This will create a legend for ax[0] in the bottom-right.\n",
    "ax[1].legend(loc='center left') # This will create a legend for ax[1] centre-left.\n",
    "\n",
    "# Also note that all lines will default to the first color in the default color cycle--blue."
   ]
  },
  {
   "cell_type": "markdown",
   "id": "d652e095",
   "metadata": {},
   "source": [
    "#### Exercise 1\n",
    "\n",
    "Create a figure of size 15x8 with two subplots, top and bottom.\n",
    "Draw two lines in the top axes, one green and one orange.\n",
    "Add a legend for the top plot, *Green* and *Orange*. Put this legend in the top-middle of graph.\n",
    "\n",
    "**Extra Challenge**: In the bottom axes, create a graph of only the data points, marked by circles, but with no line connecting the points."
   ]
  },
  {
   "cell_type": "code",
   "execution_count": null,
   "id": "b323b77a",
   "metadata": {},
   "outputs": [],
   "source": [
    "# Start your answer from here"
   ]
  },
  {
   "cell_type": "markdown",
   "id": "b9cff863",
   "metadata": {},
   "source": [
    "See a possible answer at the end of this notebook."
   ]
  },
  {
   "cell_type": "markdown",
   "id": "fcb22b21",
   "metadata": {},
   "source": [
    "#### 4. Bar Plots\n",
    "\n",
    "The other common type of graph you will create is a bar graph. These can be created with the axes method `ax.bar(x,height)`."
   ]
  },
  {
   "cell_type": "code",
   "execution_count": null,
   "id": "8e599d08",
   "metadata": {},
   "outputs": [],
   "source": [
    "fig, ax = plt.subplots(1, 1, figsize=(15,8))\n",
    "\n",
    "bar_kwargs = {'color':'tomato', 'alpha':0.5}\n",
    "\n",
    "ax.bar(range(0,num_cols), data_a, label='a', **bar_kwargs)\n",
    "ax.legend()"
   ]
  },
  {
   "cell_type": "markdown",
   "id": "27616dc1",
   "metadata": {},
   "source": [
    "#### Exercise 2\n",
    "\n",
    "Create a figure with three subplots, aligned vertically.\n",
    "Create a bar graph for `a` and `b` on the first two, but at the last one draw both `a` and `b`, but put `b` on top of `a`! (Hint: use the bottom argument in the bar function)\n",
    "Make sure the color for `a` and `b` are consistent in all the subplots!\n",
    "\n",
    "**Extra Challenge**: Write the magnitude of each bar on top of it"
   ]
  },
  {
   "cell_type": "code",
   "execution_count": null,
   "id": "79ec50d7",
   "metadata": {},
   "outputs": [],
   "source": [
    "# Start your answer from here"
   ]
  },
  {
   "cell_type": "markdown",
   "id": "78f05af7",
   "metadata": {},
   "source": [
    "See a possible answer at the end of this notebook."
   ]
  },
  {
   "cell_type": "markdown",
   "id": "c5e1893c",
   "metadata": {},
   "source": [
    "#### 5. Tick Labels and Axes Labels\n",
    "\n",
    "Although matplotlib automatically assigns tick labels to your graph, it will not be enough to explain your results.\n",
    "Clarity of information is crucial in a graph and to do that we have options to modify tick labels and axes labels.\n",
    "\n",
    "`ax.set_title()`, `ax.set_xlabel()`, `ax.set_ylabel()`, `ax.set_xticklabels()`, `ax.set_yticklabels()` are the main tools here."
   ]
  },
  {
   "cell_type": "code",
   "execution_count": null,
   "id": "8259e29a",
   "metadata": {},
   "outputs": [],
   "source": [
    "np.random.seed(0)\n",
    "\n",
    "fig, ax = plt.subplots(figsize=(15,7))\n",
    "\n",
    "ax.plot(range(num_cols), data_a, marker='^', label='a')\n",
    "ax.set_title('This is the Title')\n",
    "ax.set_ylabel('This is the Y Axis')\n",
    "ax.set_xlabel('This is the X Axis', fontsize=20)\n",
    "\n",
    "ax.set_xticks(range(num_cols))\n",
    "ax.set_xticklabels(np.random.randint(1,30,30), fontsize=15, color='red')\n",
    "\n",
    "ax.legend()\n",
    "fig.tight_layout()"
   ]
  },
  {
   "cell_type": "markdown",
   "id": "79728e41",
   "metadata": {},
   "source": [
    "#### Exercise 3\n",
    "\n",
    "Visualize the mock data given below.\n",
    "Create bars to represent the turnover for each market.\n",
    "Keep in mind that showing too much information on a graph can be overwhelming, so do it with discretion!\n",
    "Use labels to make sure your audience understands the graph.\n",
    "\n",
    "**Extra Challenge**: On the opposite axis, draw a line to show each market share. (Hint: use `ax.twinx()`)"
   ]
  },
  {
   "cell_type": "code",
   "execution_count": null,
   "id": "991728fa",
   "metadata": {},
   "outputs": [],
   "source": [
    "# mock data\n",
    "np.random.seed(0)\n",
    "\n",
    "turnover_data = {'boardid': ['DAY', 'DAY_X', 'TSE', 'DAY_U'],\n",
    "                 'turnover' : list(np.sort(np.random.randint(1e6, 1e9, 4)))}\n",
    "\n",
    "turnover_data['turnover_simplified'] = [turnover // 1000000 for turnover in turnover_data['turnover']]\n",
    "\n",
    "turnover_data['market_share'] = [round((turnover / sum(turnover_data['turnover'])*100), 1) for turnover in turnover_data['turnover']]\n",
    "\n",
    "turnover_data"
   ]
  },
  {
   "cell_type": "code",
   "execution_count": null,
   "id": "46b67fca",
   "metadata": {},
   "outputs": [],
   "source": [
    "# Start your answer from here"
   ]
  },
  {
   "cell_type": "markdown",
   "id": "f5790bfc",
   "metadata": {},
   "source": [
    "See a possible answer at the end of this notebook."
   ]
  },
  {
   "cell_type": "markdown",
   "id": "bc58b3d9",
   "metadata": {},
   "source": [
    "#### Exercise Answers"
   ]
  },
  {
   "cell_type": "markdown",
   "id": "2d2a6c6e",
   "metadata": {},
   "source": [
    "#### Exercise 1"
   ]
  },
  {
   "cell_type": "code",
   "execution_count": null,
   "id": "a3420ef5",
   "metadata": {},
   "outputs": [],
   "source": [
    "# Sample Answer\n",
    "fig, ax = plt.subplots(2, 1, figsize=(15,8))\n",
    "\n",
    "ax[0].plot(range(0,num_cols), data_a, c='green', label='a')\n",
    "ax[0].plot(range(0,num_cols), data_b, c='orange', label='b')\n",
    "ax[0].legend(loc=9) # \"9\": upper center\n",
    "\n",
    "ax[1].plot(range(0,num_cols), data_c, marker='o', lw=0) # set line width = 0, means no visuable line"
   ]
  },
  {
   "cell_type": "markdown",
   "id": "8e56b593",
   "metadata": {},
   "source": [
    "#### Exercise 2"
   ]
  },
  {
   "cell_type": "code",
   "execution_count": null,
   "id": "0c597560",
   "metadata": {},
   "outputs": [],
   "source": [
    "fig, ax = plt.subplots(3,1, figsize=(15,18))\n",
    "\n",
    "bar_kwargs_a = {'color':'tomato', 'alpha':0.5}\n",
    "bar_kwargs_b = {'color':'blue', 'alpha':0.5}\n",
    "\n",
    "ax[0].bar(range(0,num_cols), data_a, label='a', **bar_kwargs_a)\n",
    "for i in range(num_cols):\n",
    "  ax[0].text(i, data_a[i]+1, data_a[i], horizontalalignment='center')\n",
    "ax[0].legend()\n",
    "\n",
    "ax[1].bar(range(0,num_cols), data_b, label='b', **bar_kwargs_b)\n",
    "for i in range(num_cols):\n",
    "  ax[1].text(i, data_b[i]+1, data_b[i], horizontalalignment='center')\n",
    "ax[1].legend()\n",
    "\n",
    "ax[2].bar(range(0,num_cols), data_a, label='a', **bar_kwargs_a)\n",
    "ax[2].bar(range(0,num_cols), data_b, label='b', bottom=data_a, **bar_kwargs_b)\n",
    "for i in range(num_cols):\n",
    "  ax[2].text(i, data_a[i]+data_b[i]+1, data_a[i]+data_b[i], horizontalalignment='center')\n",
    "ax[2].legend()"
   ]
  },
  {
   "cell_type": "markdown",
   "id": "f7064f83",
   "metadata": {},
   "source": [
    "#### Exercise 3"
   ]
  },
  {
   "cell_type": "code",
   "execution_count": null,
   "id": "63a12fc3",
   "metadata": {},
   "outputs": [],
   "source": [
    "fig, ax1 = plt.subplots(figsize=(15,10))\n",
    "\n",
    "ax1.bar(turnover_data['boardid'], turnover_data['turnover'], width=0.5, color='lightgreen')\n",
    "for i in range(len(turnover_data['turnover'])):\n",
    "  ax1.text(turnover_data['boardid'][i], turnover_data['turnover'][i]+1e7, str(turnover_data['turnover_simplified'][i])+'M', fontsize=15, horizontalalignment='center')\n",
    "\n",
    "ax1.set_title('Turnover Data', fontsize=20)\n",
    "ax1.set_xticklabels(turnover_data['boardid'], fontsize=15)\n",
    "\n",
    "ax1.tick_params(labelsize=15, axis='y')\n",
    "\n",
    "ax1.set_ylabel('Turnover Values(Million)', fontsize=20)\n",
    "ax1.set_ylim(0, max(turnover_data['turnover'])+1e8)\n",
    "\n",
    "# Format ax1 y axis - method 1\n",
    "vals = ax1.get_yticks()\n",
    "ax1.set_yticklabels([str(x/1000000)+'M' for x in vals])\n",
    "\n",
    "ax2 = ax1.twinx()\n",
    "ax2.plot(turnover_data['boardid'], turnover_data['market_share'], c='red', lw=4, marker='o')\n",
    "for i in range(len(turnover_data['turnover'])):\n",
    "    ax2.text(turnover_data['boardid'][i], turnover_data['market_share'][i]+0.9, str(turnover_data['market_share'][i])+'%', fontsize=15, horizontalalignment='center', color='black')\n",
    "\n",
    "ax2.set_ylabel('Market Shares(%)', fontsize=20)\n",
    "ax2.tick_params(labelsize=15, axis='y', rotation=30)\n",
    "\n",
    "# Format ax2 y asix - method 2\n",
    "vals = ax2.get_yticks()\n",
    "ax2.set_yticklabels([str(x)+'%' for x in vals]);"
   ]
  }
 ],
 "metadata": {
  "kernelspec": {
   "display_name": "Python 3 (ipykernel)",
   "language": "python",
   "name": "python3"
  },
  "language_info": {
   "codemirror_mode": {
    "name": "ipython",
    "version": 3
   },
   "file_extension": ".py",
   "mimetype": "text/x-python",
   "name": "python",
   "nbconvert_exporter": "python",
   "pygments_lexer": "ipython3",
   "version": "3.11.3"
  }
 },
 "nbformat": 4,
 "nbformat_minor": 5
}
